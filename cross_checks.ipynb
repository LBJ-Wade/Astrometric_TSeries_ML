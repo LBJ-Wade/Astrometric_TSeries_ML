{
 "cells": [
  {
   "cell_type": "code",
   "execution_count": 32,
   "id": "09d4b364",
   "metadata": {},
   "outputs": [],
   "source": [
    "%autoreload\n",
    "from lenstools import Observer, Lenses, Sources, nrm\n",
    "import lenstools as lt\n",
    "\n",
    "pi = np.pi"
   ]
  },
  {
   "cell_type": "markdown",
   "id": "4789b879",
   "metadata": {},
   "source": [
    "## Does the `observe()` function give us the correct angles?"
   ]
  },
  {
   "cell_type": "markdown",
   "id": "5a85bbcd",
   "metadata": {},
   "source": [
    "- make 100 sources at random positions in the sky\n",
    "- calculate their angular positions\n",
    "- Use angles to calculate their positions\n",
    "- compare to original positions"
   ]
  },
  {
   "cell_type": "code",
   "execution_count": 7,
   "id": "c8cb3cce",
   "metadata": {},
   "outputs": [
    {
     "name": "stdout",
     "output_type": "stream",
     "text": [
      "0 above numerical precision error\n"
     ]
    }
   ],
   "source": [
    "N = 100\n",
    "\n",
    "obs = Observer()\n",
    "sources = Sources(x = np.random.uniform(-2, 2, (N, 3)))\n",
    "\n",
    "r = nrm(sources.x)\n",
    "theta, phi = np.transpose(obs.observe(sources))\n",
    "\n",
    "x = r[:, np.newaxis] * np.transpose([\n",
    "    np.sin(theta) * np.cos(phi), \n",
    "    np.sin(theta) * np.sin(phi),\n",
    "    np.cos(theta)\n",
    "])\n",
    "print(sum(nrm(x - sources.x) > 1e-14), 'above numerical precision error')"
   ]
  },
  {
   "cell_type": "markdown",
   "id": "47dc435f",
   "metadata": {},
   "source": [
    "## Does the lensing formula make sense?"
   ]
  },
  {
   "cell_type": "markdown",
   "id": "92b43f94",
   "metadata": {},
   "source": [
    "- Make a stationary point-lens 1 kpc away (along y-axis) with mass $10^7$ solar masses\n",
    "- Make a stationary source 1 kpc beyond that (along y-axis), with an impact parameter of 1 pc (along x-axis)\n",
    "\n",
    "Unlensed, it should appear a little the midplane, so $\\theta = \\frac{\\pi}{2} - \\epsilon$ and $\\phi = \\frac{\\pi}{2}$.\n",
    "\n",
    "Lensed, it should appear a little more above the midplane, so $\\theta = \\frac{\\pi}{2} - \\epsilon - \\epsilon'$ and $\\phi = \\frac{\\pi}{2}$."
   ]
  },
  {
   "cell_type": "code",
   "execution_count": 123,
   "id": "639e80af",
   "metadata": {},
   "outputs": [
    {
     "name": "stdout",
     "output_type": "stream",
     "text": [
      "unlensed theta - pi/2: -5.000000000032756e-06\n",
      "unlensed phi - pi/2: 0.0\n",
      "lensed theta - pi/2: -0.00048354169258879587\n",
      "lensed phi - pi/2: 0.0\n",
      "lensed - unlensed theta -0.0004785416925887631\n"
     ]
    }
   ],
   "source": [
    "%autoreload\n",
    "\n",
    "Ds = .2\n",
    "Dls = .1\n",
    "Dl = Ds - Dls\n",
    "b=1e-6\n",
    "\n",
    "obs = Observer()\n",
    "lens = lt.Lens([0,Dl,0], [0,0,0], 'point', 1e7)\n",
    "source = lt.Source([0,Ds,b], [0,0,0])\n",
    "\n",
    "unlensed = obs.observe(source)\n",
    "lensed = obs.observe(source, lens)\n",
    "\n",
    "print('unlensed theta - pi/2:', unlensed[0]-pi/2)\n",
    "print('unlensed phi - pi/2:', unlensed[1]-pi/2)\n",
    "print('lensed theta - pi/2:', lensed[0]-pi/2)\n",
    "print('lensed phi - pi/2:', lensed[1]-pi/2)\n",
    "print('lensed - unlensed theta', lensed[0] - unlensed[0])"
   ]
  },
  {
   "cell_type": "markdown",
   "id": "7992768b",
   "metadata": {},
   "source": [
    "Check to see that the lens equation is satisfied:\n",
    "$$\n",
    "D_s\\tan(\\theta) = D_s\\tan(\\beta) + D_{ls}\\tan(\\alpha)\n",
    "$$"
   ]
  },
  {
   "cell_type": "code",
   "execution_count": 125,
   "id": "944bc64e",
   "metadata": {},
   "outputs": [
    {
     "name": "stdout",
     "output_type": "stream",
     "text": [
      "lens equation is satisfied up to -4.0657581468206416e-20\n"
     ]
    }
   ],
   "source": [
    "Ds_tan_beta = b\n",
    "theta = pi/2 - lensed[0]\n",
    "alpha_hat = (1-Dl/Ds) * 4*lt.G_N*lens.M/lt.c**2/b\n",
    "res = Ds * np.tan(theta) - (Ds_tan_beta + Dls * np.tan(alpha_hat))\n",
    "print('lens equation is satisfied up to', res)"
   ]
  },
  {
   "cell_type": "code",
   "execution_count": null,
   "id": "318040f4",
   "metadata": {},
   "outputs": [],
   "source": []
  }
 ],
 "metadata": {
  "kernelspec": {
   "display_name": "Python 3 (ipykernel)",
   "language": "python",
   "name": "python3"
  },
  "language_info": {
   "codemirror_mode": {
    "name": "ipython",
    "version": 3
   },
   "file_extension": ".py",
   "mimetype": "text/x-python",
   "name": "python",
   "nbconvert_exporter": "python",
   "pygments_lexer": "ipython3",
   "version": "3.9.5"
  }
 },
 "nbformat": 4,
 "nbformat_minor": 5
}
