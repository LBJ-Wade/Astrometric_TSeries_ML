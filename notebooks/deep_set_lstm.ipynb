{
 "cells": [
  {
   "cell_type": "code",
   "execution_count": 1,
   "metadata": {},
   "outputs": [],
   "source": [
    "import numpy as np\n",
    "import matplotlib.pyplot as plt\n",
    "\n",
    "from units import *\n",
    "from profiles import Profiles\n",
    "\n",
    "%load_ext autoreload\n",
    "%autoreload 2"
   ]
  },
  {
   "cell_type": "code",
   "execution_count": 2,
   "metadata": {},
   "outputs": [],
   "source": [
    "import matplotlib.pylab as pylab\n",
    "import warnings\n",
    "import matplotlib.cbook\n",
    "\n",
    "from plot_params import params\n",
    "\n",
    "warnings.filterwarnings(\"ignore\",category=matplotlib.cbook.mplDeprecation)\n",
    "\n",
    "pylab.rcParams.update(params)\n",
    "cols_default = plt.rcParams['axes.prop_cycle'].by_key()['color']"
   ]
  },
  {
   "cell_type": "markdown",
   "metadata": {},
   "source": [
    "# A toy simulation"
   ]
  },
  {
   "cell_type": "code",
   "execution_count": 3,
   "metadata": {},
   "outputs": [],
   "source": [
    "class AstrometricSim:\n",
    "    def __init__(self, theta_x_lims=[-1.6, 1.6], theta_y_lims=[-0.9, 0.9]):\n",
    "        \"\"\"\n",
    "        Class to create animations of astrometric weak lensing. For demo and not science!\n",
    "        :param theta_x_lims: x-axis coordinate limits [x_min, x_max] in arcsecs\n",
    "        :param theta_y_lims: y-axis coordinate limits [y_min, y_max] in arcsecs\n",
    "        \"\"\"\n",
    "\n",
    "        self.theta_x_lims = theta_x_lims\n",
    "        self.theta_y_lims = theta_y_lims\n",
    "\n",
    "        # Area of sky region\n",
    "        self.roi_area = (self.theta_x_lims[1] - self.theta_x_lims[0]) * \\\n",
    "                        (self.theta_y_lims[1] - self.theta_y_lims[0])\n",
    "\n",
    "    def animation(self, pos_l, M_l, R_l, v_l, D_l,\n",
    "                  n_sources_fix=True,\n",
    "                  # Source properties\n",
    "                  std_mu_s=1e-6,\n",
    "                  n_dens=20, source_pos=\"random\"\n",
    "                  ):\n",
    "        \"\"\"\n",
    "        :param pos_l: tuple of lens positions, format [[x_1, y_1], [x_2, y_2]...]\n",
    "        :param M_l: tuple of lens masses\n",
    "        :param R_l: tuple of lens sizes (Gaussian lens)\n",
    "        :param v_l: tuple of lens velocities\n",
    "        :param D_l: tuple of distances of lenses\n",
    "        :param n_dens: density of sources (per arcsecs^2); default 20\n",
    "        :param source_pos: must be one of [\"uniform\", \"random\"]; default \"random\"\n",
    "        \"\"\"\n",
    "\n",
    "        # Get total number of sources in sky region\n",
    "        \n",
    "        if n_sources_fix:\n",
    "            self.n_total = np.floor(n_dens * self.roi_area).astype(np.int32)\n",
    "        else:\n",
    "            self.n_total = np.random.poisson(n_dens * self.roi_area)\n",
    "        \n",
    "        # Source velocities\n",
    "        self.mu_s_intrinsic = np.random.normal(loc=0, scale=std_mu_s, size=(ds.n_total, 2))\n",
    "        \n",
    "        # Set source positions\n",
    "\n",
    "        # Random positions + custom if specified\n",
    "        if source_pos == \"random\":\n",
    "\n",
    "            # Initial source property array\n",
    "            self.sources = np.zeros(self.n_total, dtype=[(\"theta_x\", float, 1),\n",
    "                                                         (\"theta_y\", float, 1),\n",
    "                                                         (\"theta_x_0\", float, 1),\n",
    "                                                         (\"theta_y_0\", float, 1),\n",
    "                                                         (\"mu\", float, 1)])\n",
    "\n",
    "            self.sources[\"theta_x_0\"] = np.array(\n",
    "                list(np.random.uniform(*self.theta_x_lims, self.n_total)))\n",
    "            self.sources[\"theta_y_0\"] = np.array(\n",
    "                list(np.random.uniform(*self.theta_x_lims, self.n_total)))\n",
    "\n",
    "        # Uniform grid of sources\n",
    "        elif source_pos == \"uniform\":\n",
    "            xy_ratio = (self.theta_y_lims[1] - self.theta_y_lims[0]) / \\\n",
    "                (self.theta_x_lims[1] - self.theta_x_lims[0])\n",
    "            x_pos = np.linspace(self.theta_x_lims[0], self.theta_x_lims[1], np.round(\n",
    "                np.sqrt(self.n_total / xy_ratio)).astype(np.int32))\n",
    "            y_pos = np.linspace(self.theta_y_lims[0], self.theta_y_lims[1], np.round(\n",
    "                np.sqrt(self.n_total * xy_ratio)).astype(np.int32))\n",
    "\n",
    "            self.n_total = len(np.meshgrid(x_pos, y_pos)[0].flatten())\n",
    "\n",
    "            # Initialize source property array\n",
    "            self.sources = np.zeros(self.n_total, dtype=[(\"theta_x\", float, 1),\n",
    "                                                         (\"theta_y\", float, 1),\n",
    "                                                         (\"theta_x_0\", float, 1),\n",
    "                                                         (\"theta_y_0\", float, 1)])\n",
    "\n",
    "            self.sources[\"theta_x_0\"] = np.meshgrid(x_pos, y_pos)[0].flatten()\n",
    "            self.sources[\"theta_y_0\"] = np.meshgrid(x_pos, y_pos)[1].flatten()\n",
    "\n",
    "        assert len(pos_l) == len(v_l) == len(M_l) == len(R_l) == len(D_l), \\\n",
    "            \"Lens property arrays must be the same size!\"\n",
    "\n",
    "        # Infer number of lenses\n",
    "        self.n_lens = len(pos_l)\n",
    "\n",
    "        # Initialize lens property array\n",
    "        self.lenses = np.zeros(self.n_lens, dtype=[(\"theta_x\", float, 1),\n",
    "                                                   (\"theta_y\", float, 1),\n",
    "                                                   (\"M_0\", float, 1),\n",
    "                                                   (\"R_0\", float, 1),\n",
    "                                                   (\"D\", float, 1),\n",
    "                                                   (\"v_x\", float, 1),\n",
    "                                                   (\"v_y\", float, 1)])\n",
    "\n",
    "        # Set initial source positions\n",
    "        self.sources[\"theta_x\"] = self.sources[\"theta_x_0\"]\n",
    "        self.sources[\"theta_y\"] = self.sources[\"theta_y_0\"]\n",
    "\n",
    "        # Set initial lens positions...\n",
    "        self.lenses[\"theta_x\"] = np.array(pos_l)[:, 0]\n",
    "        self.lenses[\"theta_y\"] = np.array(pos_l)[:, 1]\n",
    "\n",
    "        # ... and lens properties\n",
    "        self.lenses[\"v_x\"] = np.array(v_l)[:, 0]\n",
    "        self.lenses[\"v_y\"] = np.array(v_l)[:, 1]\n",
    "        self.lenses[\"M_0\"] = np.array(M_l)\n",
    "        self.lenses[\"R_0\"] = np.array(R_l)\n",
    "        self.lenses[\"D\"] = np.array(D_l)\n",
    "\n",
    "        theta_s = np.zeros((self.n_total, 2))\n",
    "\n",
    "        # Deflection and proper motion vectors\n",
    "        for i_lens in range(self.n_lens):\n",
    "            b_ary = np.transpose([self.sources[\"theta_x\"] - self.lenses[\"theta_x\"][i_lens],\n",
    "                                  self.sources[\"theta_y\"] - self.lenses[\"theta_y\"][i_lens]]) * asctorad\n",
    "\n",
    "            vel_l = np.array([self.lenses[\"v_x\"][i_lens],\n",
    "                              self.lenses[\"v_y\"][i_lens]])\n",
    "            \n",
    "            for i_source in range(self.n_total):\n",
    "\n",
    "                theta_s[i_source] += self.theta(b_ary[i_source], self.lenses[\"R_0\"][i_lens],\n",
    "                                                self.lenses[\"M_0\"][i_lens], self.lenses[\"D\"][i_lens])\n",
    "                        \n",
    "        # New source positions including deflection\n",
    "        self.sources[\"theta_x\"] = self.sources[\"theta_x_0\"] + theta_s[:, 0]\n",
    "        self.sources[\"theta_y\"] = self.sources[\"theta_y_0\"] + theta_s[:, 1]\n",
    "\n",
    "    def propagate(self, dt):\n",
    "        \"\"\" Update lens and star positions\"\"\"\n",
    "\n",
    "        theta_s = np.zeros((self.n_total, 2))\n",
    "\n",
    "        for i_lens in range(self.n_lens):\n",
    "            \n",
    "            b_ary = np.transpose([self.sources[\"theta_x\"] - self.lenses[\"theta_x\"][i_lens],\n",
    "                                  self.sources[\"theta_y\"] - self.lenses[\"theta_y\"][i_lens]]) * asctorad\n",
    "\n",
    "            vel_l = np.array([self.lenses[\"v_x\"][i_lens],\n",
    "                              self.lenses[\"v_y\"][i_lens]])\n",
    "            \n",
    "            for i_source in range(self.n_total):    \n",
    "                \n",
    "                theta_s[i_source] += self.theta(b_ary[i_source], self.lenses[\"R_0\"][i_lens],\n",
    "                                                self.lenses[\"M_0\"][i_lens], self.lenses[\"D\"][i_lens])\n",
    " \n",
    "            mu_l = (vel_l / self.lenses[\"D\"][i_lens]) / (Year ** -1) * radtoasc\n",
    "            \n",
    "            self.lenses[\"theta_x\"][i_lens] = self.lenses[\"theta_x\"][i_lens] + mu_l[0] * dt\n",
    "            self.lenses[\"theta_y\"][i_lens] = self.lenses[\"theta_y\"][i_lens] + mu_l[1] * dt\n",
    "                    \n",
    "        # Update intrinsic source position\n",
    "        self.sources[\"theta_x_0\"] += self.mu_s_intrinsic[:, 0] * dt\n",
    "        self.sources[\"theta_y_0\"] += self.mu_s_intrinsic[:, 1] * dt\n",
    "                \n",
    "        self.sources[\"theta_x\"] = self.sources[\"theta_x_0\"] + theta_s[:, 0] \n",
    "        self.sources[\"theta_y\"] = self.sources[\"theta_y_0\"] + theta_s[:, 1]\n",
    "\n",
    "\n",
    "    @classmethod\n",
    "    def mu(self, beta_vec, v_ang_vec, R_0, M_0, d_lens):\n",
    "        \"\"\" Get lens-induced proper motion vector\n",
    "        \"\"\"\n",
    "\n",
    "        # Convert angular to physical impact parameter\n",
    "        b_vec = d_lens * np.array(beta_vec)\n",
    "        # Convert angular to physical velocity\n",
    "        v_vec = d_lens * np.array(v_ang_vec)\n",
    "        b = np.linalg.norm(b_vec)  # Impact parameter\n",
    "        M, dMdb, _ = Profiles.MdMdb_Gauss(b, R_0, M_0)\n",
    "        b_unit_vec = b_vec / b  # Convert angular to physical impact parameter\n",
    "        b_dot_v = np.dot(b_unit_vec, v_vec)\n",
    "        factor = (dMdb / b * b_unit_vec * b_dot_v\n",
    "                  + M / b ** 2 * (v_vec - 2 * b_unit_vec * b_dot_v))\n",
    "\n",
    "        return -factor * 4 * GN / (asctorad / Year)  # Convert to as/yr\n",
    "\n",
    "    @classmethod\n",
    "    def theta(self, beta_vec, R_0, M_0, d_lens):\n",
    "        \"\"\" Get lens-induced deflection vector\n",
    "        \"\"\"\n",
    "\n",
    "        # Convert angular to physical impact parameter\n",
    "        b_vec = d_lens * np.array(beta_vec)\n",
    "        b = np.linalg.norm(b_vec)  # Impact parameter\n",
    "        M, _, _ = Profiles.MdMdb_Gauss(b, R_0, M_0)\n",
    "        b_unit_vec = b_vec / b  # Convert angular to physical impact parameter\n",
    "\n",
    "        return 4 * GN * M / b * b_unit_vec * radtoasc  # Convert to as"
   ]
  },
  {
   "cell_type": "code",
   "execution_count": 4,
   "metadata": {},
   "outputs": [],
   "source": [
    "from tqdm.notebook import tqdm"
   ]
  },
  {
   "cell_type": "code",
   "execution_count": 5,
   "metadata": {},
   "outputs": [
    {
     "name": "stderr",
     "output_type": "stream",
     "text": [
      "/tmp/ipykernel_25734/1993595738.py:48: FutureWarning: Passing (type, 1) or '1type' as a synonym of type is deprecated; in a future version of numpy, it will be understood as (type, (1,)) / '(1,)type'.\n",
      "  self.sources = np.zeros(self.n_total, dtype=[(\"theta_x\", float, 1),\n",
      "/tmp/ipykernel_25734/1993595738.py:86: FutureWarning: Passing (type, 1) or '1type' as a synonym of type is deprecated; in a future version of numpy, it will be understood as (type, (1,)) / '(1,)type'.\n",
      "  self.lenses = np.zeros(self.n_lens, dtype=[(\"theta_x\", float, 1),\n"
     ]
    }
   ],
   "source": [
    "# Dummy initialization, just to set some global vars\n",
    "\n",
    "ds = AstrometricSim(theta_x_lims = [-0.1, 0.1], theta_y_lims = [-0.1, 0.1])\n",
    "ds.animation(\n",
    "    pos_l=np.array([[0.,0]]),\n",
    "    v_l=np.array([[200, 0]]) * Kmps,\n",
    "    R_l=[10 * pc], M_l=[0], D_l=[1 * kpc],\n",
    "    n_dens=500, std_mu_s=1e-6, source_pos=\"random\")"
   ]
  },
  {
   "cell_type": "code",
   "execution_count": 6,
   "metadata": {},
   "outputs": [
    {
     "data": {
      "application/vnd.jupyter.widget-view+json": {
       "model_id": "b03d2a1d6b4e49c29cecebf82f458728",
       "version_major": 2,
       "version_minor": 0
      },
      "text/plain": [
       "  0%|          | 0/20000 [00:00<?, ?it/s]"
      ]
     },
     "metadata": {},
     "output_type": "display_data"
    },
    {
     "name": "stderr",
     "output_type": "stream",
     "text": [
      "/tmp/ipykernel_25734/1993595738.py:48: FutureWarning: Passing (type, 1) or '1type' as a synonym of type is deprecated; in a future version of numpy, it will be understood as (type, (1,)) / '(1,)type'.\n",
      "  self.sources = np.zeros(self.n_total, dtype=[(\"theta_x\", float, 1),\n",
      "/tmp/ipykernel_25734/1993595738.py:86: FutureWarning: Passing (type, 1) or '1type' as a synonym of type is deprecated; in a future version of numpy, it will be understood as (type, (1,)) / '(1,)type'.\n",
      "  self.lenses = np.zeros(self.n_lens, dtype=[(\"theta_x\", float, 1),\n"
     ]
    }
   ],
   "source": [
    "n_sim = 20000\n",
    "\n",
    "x = np.zeros((n_sim, ds.n_total, 10, 2))\n",
    "y = np.zeros((n_sim))\n",
    "y_lens_prop = np.zeros((n_sim, 2))\n",
    "y_lens_pos = np.zeros((n_sim, 2))\n",
    "\n",
    "for i_sim in tqdm(range(n_sim)):\n",
    "    \n",
    "    ds = AstrometricSim(theta_x_lims = [-0.1, 0.1], theta_y_lims = [-0.1, 0.1])\n",
    "    \n",
    "    y_lens = np.random.randint(2)\n",
    "    y[i_sim] = y_lens\n",
    "    \n",
    "    log10_M_l = np.random.uniform(4, 7)\n",
    "    log10_R_l = np.random.uniform(-3, 2)\n",
    "    \n",
    "    y_lens_prop[i_sim, 0] = log10_M_l\n",
    "    y_lens_prop[i_sim, 1] = log10_R_l\n",
    "        \n",
    "    if y_lens:\n",
    "        M_l = 10 ** log10_M_l * M_s\n",
    "    else:\n",
    "        M_l = 0\n",
    "    \n",
    "    pos_l = 0.1 * (np.random.random(2) - 0.5)\n",
    "    v_l = 300. * (np.random.random(2) - 0.5)\n",
    "    \n",
    "    y_lens_pos[i_sim] = pos_l\n",
    "    \n",
    "    anim = ds.animation(pos_l=np.array([pos_l]), v_l=np.array([v_l]) * Kmps, R_l=[10 ** log10_R_l * pc], M_l=[M_l],\n",
    "                        D_l=[1 * kpc],\n",
    "                        n_dens=500,\n",
    "                        std_mu_s=2e-5,\n",
    "                        source_pos=\"random\")\n",
    "\n",
    "    for i in range(10):\n",
    "        \n",
    "        ds.propagate(dt=20)\n",
    "        \n",
    "        x[i_sim, : , i, 0] = ds.sources[\"theta_x\"]\n",
    "        x[i_sim, : , i, 1] = ds.sources[\"theta_y\"]"
   ]
  },
  {
   "cell_type": "code",
   "execution_count": 7,
   "metadata": {},
   "outputs": [],
   "source": [
    "# Add some measurement errors\n",
    "\n",
    "error_mu = 2e-5\n",
    "\n",
    "x_err = np.random.normal(loc=0, scale=error_mu, size=(x.shape))\n",
    "x += x_err"
   ]
  },
  {
   "cell_type": "markdown",
   "metadata": {},
   "source": [
    "## Viz"
   ]
  },
  {
   "cell_type": "code",
   "execution_count": 8,
   "metadata": {},
   "outputs": [
    {
     "data": {
      "application/vnd.jupyter.widget-view+json": {
       "model_id": "4681189db2b9464da999052ac7a928f8",
       "version_major": 2,
       "version_minor": 0
      },
      "text/plain": [
       "  0%|          | 0/16 [00:00<?, ?it/s]"
      ]
     },
     "metadata": {},
     "output_type": "display_data"
    },
    {
     "data": {
      "image/png": "[encoded data removed]",
      "text/plain": [
       "<Figure size 864x864 with 16 Axes>"
      ]
     },
     "metadata": {
      "needs_background": "light"
     },
     "output_type": "display_data"
    }
   ],
   "source": [
    "from matplotlib.gridspec import GridSpec\n",
    "\n",
    "fig = plt.figure(figsize=(12, 12))\n",
    "\n",
    "gs = GridSpec(4, 4)\n",
    "\n",
    "for i in tqdm(range(16)):\n",
    "    \n",
    "    ax = fig.add_subplot(gs[i])\n",
    "\n",
    "    for x_i in x[i]:\n",
    "        ax.scatter(x_i.T[0], x_i.T[1], color='forestgreen', s=0.2)\n",
    "        \n",
    "    if y[i]:\n",
    "        ax.scatter(y_lens_pos[i,0], y_lens_pos[i,1], label=\"Lens position\")\n",
    "        \n",
    "    ax.axes.xaxis.set_visible(False)\n",
    "    ax.axes.yaxis.set_visible(False)\n",
    "    \n",
    "#     ax.legend()\n",
    "    "
   ]
  },
  {
   "cell_type": "markdown",
   "metadata": {},
   "source": [
    "## Normalize data"
   ]
  },
  {
   "cell_type": "code",
   "execution_count": 9,
   "metadata": {},
   "outputs": [],
   "source": [
    "import torch\n",
    "import torch.nn as nn\n",
    "import torch.nn.functional as F\n",
    "import torch.utils.data as data\n",
    "import torch.optim as optim"
   ]
  },
  {
   "cell_type": "code",
   "execution_count": 10,
   "metadata": {},
   "outputs": [],
   "source": [
    "from einops import rearrange"
   ]
  },
  {
   "cell_type": "code",
   "execution_count": 11,
   "metadata": {},
   "outputs": [],
   "source": [
    "x = torch.Tensor(x)\n",
    "y = torch.Tensor(y)"
   ]
  },
  {
   "cell_type": "code",
   "execution_count": 12,
   "metadata": {},
   "outputs": [],
   "source": [
    "# # Normalize and rotate data\n",
    "\n",
    "# x = x - x[:, :, 0, :].unsqueeze(-2)  # Set first position to zero"
   ]
  },
  {
   "cell_type": "code",
   "execution_count": 13,
   "metadata": {},
   "outputs": [],
   "source": [
    "# theta = torch.atan2(x[:, :, -1, 0], x[:, :, -1, 1]).numpy()  # Get rotation angle\n",
    "# rot = np.array([[np.cos(theta), -np.sin(theta)], [np.sin(theta), np.cos(theta)]])  # Get rotation matrix\n",
    "# rot = torch.Tensor(rearrange(rot, 'i j k l  -> k l i j'))\n",
    "# rot = torch.repeat_interleave(rot.unsqueeze(-3), 10, -3)"
   ]
  },
  {
   "cell_type": "code",
   "execution_count": 14,
   "metadata": {},
   "outputs": [],
   "source": [
    "# rot.shape, x.shape"
   ]
  },
  {
   "cell_type": "code",
   "execution_count": 15,
   "metadata": {},
   "outputs": [],
   "source": [
    "# x = torch.einsum('ijkmn, ijkn -> ijkm', rot, x)"
   ]
  },
  {
   "cell_type": "code",
   "execution_count": 16,
   "metadata": {},
   "outputs": [
    {
     "data": {
      "application/vnd.jupyter.widget-view+json": {
       "model_id": "0154202ac02b475cb6e46e292aebbf96",
       "version_major": 2,
       "version_minor": 0
      },
      "text/plain": [
       "  0%|          | 0/16 [00:00<?, ?it/s]"
      ]
     },
     "metadata": {},
     "output_type": "display_data"
    },
    {
     "data": {
      "image/png": "[encoded data removed]",
      "text/plain": [
       "<Figure size 864x864 with 16 Axes>"
      ]
     },
     "metadata": {
      "needs_background": "light"
     },
     "output_type": "display_data"
    }
   ],
   "source": [
    "from matplotlib.gridspec import GridSpec\n",
    "\n",
    "fig = plt.figure(figsize=(12, 12))\n",
    "\n",
    "gs = GridSpec(4, 4)\n",
    "\n",
    "for i in tqdm(range(16)):\n",
    "    \n",
    "    ax = fig.add_subplot(gs[i])\n",
    "\n",
    "    for x_i in x[i]:\n",
    "        ax.scatter(x_i.T[0], x_i.T[1], color='forestgreen', s=0.2)    "
   ]
  },
  {
   "cell_type": "markdown",
   "metadata": {},
   "source": [
    "# Time-series deep set model"
   ]
  },
  {
   "cell_type": "code",
   "execution_count": 17,
   "metadata": {},
   "outputs": [],
   "source": [
    "import sys\n",
    "sys.path.append(\"../\")"
   ]
  },
  {
   "cell_type": "code",
   "execution_count": 18,
   "metadata": {},
   "outputs": [],
   "source": [
    "from models.networks import build_mlp, build_maf\n",
    "from models.sets import DeepSetLSTM, SetTransformerLSTM"
   ]
  },
  {
   "cell_type": "code",
   "execution_count": 19,
   "metadata": {},
   "outputs": [
    {
     "data": {
      "text/plain": [
       "torch.Size([8, 2])"
      ]
     },
     "execution_count": 19,
     "metadata": {},
     "output_type": "execute_result"
    }
   ],
   "source": [
    "dsl = DeepSetLSTM(output_dim=2)\n",
    "dsl(x[:8]).shape"
   ]
  },
  {
   "cell_type": "code",
   "execution_count": 20,
   "metadata": {},
   "outputs": [
    {
     "data": {
      "text/plain": [
       "torch.Size([8, 2])"
      ]
     },
     "execution_count": 20,
     "metadata": {},
     "output_type": "execute_result"
    }
   ],
   "source": [
    "stl = SetTransformerLSTM(num_outputs=1, dim_output=2)\n",
    "stl(x[:8]).shape"
   ]
  },
  {
   "cell_type": "code",
   "execution_count": 19,
   "metadata": {},
   "outputs": [],
   "source": [
    "from torch.utils.data import TensorDataset, DataLoader, random_split, SubsetRandomSampler\n",
    "\n",
    "import pytorch_lightning as pl\n",
    "from pytorch_lightning.callbacks import LearningRateMonitor, ModelCheckpoint, EarlyStopping"
   ]
  },
  {
   "cell_type": "code",
   "execution_count": 350,
   "metadata": {},
   "outputs": [],
   "source": [
    "# Standardize input data by Z-scoring\n",
    "x = (x - x.mean(0).mean(0)) / x.std(0).std(0)\n",
    "\n",
    "# GR: Was infinity, now zero again\n",
    "x[:, :, 0, :] = 0."
   ]
  },
  {
   "cell_type": "markdown",
   "metadata": {},
   "source": [
    "# Classification"
   ]
  },
  {
   "cell_type": "code",
   "execution_count": 351,
   "metadata": {},
   "outputs": [
    {
     "name": "stderr",
     "output_type": "stream",
     "text": [
      "/n/home11/smsharma/.conda/envs/deepsets/lib/python3.9/site-packages/torch/utils/data/dataloader.py:478: UserWarning: This DataLoader will create 8 worker processes in total. Our suggested max number of worker in current system is 1, which is smaller than what this DataLoader is going to create. Please be aware that excessive worker creation might get DataLoader running slow or even freeze, lower the worker number to avoid potential slowness/freeze if necessary.\n",
      "  warnings.warn(_create_warning_msg(\n"
     ]
    }
   ],
   "source": [
    "val_fraction = 0.1\n",
    "n_samples_val = int(val_fraction * len(x))\n",
    "\n",
    "dataset = TensorDataset(x, y)\n",
    "\n",
    "dataset_train, dataset_val = random_split(dataset, [len(x) - n_samples_val, n_samples_val])\n",
    "train_loader = DataLoader(dataset_train, batch_size=64, num_workers=8, pin_memory=True, shuffle=True)\n",
    "val_loader = DataLoader(dataset_val, batch_size=64, num_workers=8, pin_memory=True, shuffle=False)"
   ]
  },
  {
   "cell_type": "code",
   "execution_count": 356,
   "metadata": {},
   "outputs": [],
   "source": [
    "class MultiBlipClassifier(pl.LightningModule):\n",
    "\n",
    "    def __init__(self):\n",
    "        \"\"\" Lightning module\n",
    "        \"\"\"\n",
    "        super().__init__()\n",
    "        self.deepset = DeepSetLSTM()\n",
    "#         self.deepset = SetTransformerLSTM(num_outputs=1, dim_output=1)\n",
    "\n",
    "    def configure_optimizers(self):\n",
    "        \n",
    "        optimizer = optim.AdamW(self.parameters(), lr=3e-4, weight_decay=1e-5)\n",
    "        scheduler = torch.optim.lr_scheduler.ReduceLROnPlateau(optimizer, patience=4)\n",
    "        \n",
    "        return {\"optimizer\": optimizer, \n",
    "                \"lr_scheduler\": {\n",
    "                    \"scheduler\": scheduler,\n",
    "                    \"interval\": \"epoch\",\n",
    "                    \"monitor\": \"val_loss\",\n",
    "                    \"frequency\": 1}\n",
    "                }\n",
    "    \n",
    "    def training_step(self, batch, batch_idx):\n",
    "        x, y = batch\n",
    "        y_hat = self.deepset(x)[:, 0]\n",
    "        # GR: Binary cross-entropy loss function, essentially \\sum_{two classes} x log y\n",
    "        #    With logits means applying sigmoid before applying loss function\n",
    "        #.   You know something wrong when the loss is log(2) = .693\n",
    "        loss = nn.BCEWithLogitsLoss(reduction='mean')(y_hat, y)\n",
    "        self.log('train_loss', loss)\n",
    "        return loss\n",
    "\n",
    "    def validation_step(self, batch, batch_idx):\n",
    "        x, y = batch\n",
    "        y_hat = self.deepset(x)[:, 0]\n",
    "        loss = nn.BCEWithLogitsLoss(reduction='mean')(y_hat, y)\n",
    "        self.log('val_loss', loss)"
   ]
  },
  {
   "cell_type": "code",
   "execution_count": 362,
   "metadata": {},
   "outputs": [],
   "source": [
    "model = MultiBlipClassifier()"
   ]
  },
  {
   "cell_type": "code",
   "execution_count": 363,
   "metadata": {},
   "outputs": [
    {
     "name": "stderr",
     "output_type": "stream",
     "text": [
      "GPU available: True, used: True\n",
      "TPU available: False, using: 0 TPU cores\n",
      "IPU available: False, using: 0 IPUs\n",
      "LOCAL_RANK: 0 - CUDA_VISIBLE_DEVICES: [0]\n",
      "Set SLURM handle signals.\n",
      "\n",
      "  | Name    | Type        | Params\n",
      "----------------------------------------\n",
      "0 | deepset | DeepSetLSTM | 1.1 M \n",
      "----------------------------------------\n",
      "1.1 M     Trainable params\n",
      "0         Non-trainable params\n",
      "1.1 M     Total params\n",
      "4.568     Total estimated model params size (MB)\n"
     ]
    },
    {
     "data": {
      "application/vnd.jupyter.widget-view+json": {
       "model_id": "",
       "version_major": 2,
       "version_minor": 0
      },
      "text/plain": [
       "Validation sanity check: 0it [00:00, ?it/s]"
      ]
     },
     "metadata": {},
     "output_type": "display_data"
    },
    {
     "data": {
      "application/vnd.jupyter.widget-view+json": {
       "model_id": "b20ce9dc4f63426cbbb38ea61f7d1bb6",
       "version_major": 2,
       "version_minor": 0
      },
      "text/plain": [
       "Training: 0it [00:00, ?it/s]"
      ]
     },
     "metadata": {},
     "output_type": "display_data"
    },
    {
     "data": {
      "application/vnd.jupyter.widget-view+json": {
       "model_id": "",
       "version_major": 2,
       "version_minor": 0
      },
      "text/plain": [
       "Validating: 0it [00:00, ?it/s]"
      ]
     },
     "metadata": {},
     "output_type": "display_data"
    }
   ],
   "source": [
    "checkpoint_callback = ModelCheckpoint(monitor=\"val_loss\")\n",
    "early_stop_callback = EarlyStopping(monitor='val_loss', patience=8)        \n",
    "lr_monitor = LearningRateMonitor(logging_interval='epoch')\n",
    "\n",
    "trainer = pl.Trainer(max_epochs=25, gpus=1, gradient_clip_val=1., callbacks=[checkpoint_callback, early_stop_callback, lr_monitor])\n",
    "trainer.fit(model=model, train_dataloaders=train_loader, val_dataloaders=val_loader)\n",
    "model.load_from_checkpoint(checkpoint_callback.best_model_path);"
   ]
  },
  {
   "cell_type": "markdown",
   "metadata": {},
   "source": [
    "# Evaluate classification performance"
   ]
  },
  {
   "cell_type": "code",
   "execution_count": 195,
   "metadata": {},
   "outputs": [
    {
     "data": {
      "application/vnd.jupyter.widget-view+json": {
       "model_id": "708fc0e6193d4286b39a80c8630e47ab",
       "version_major": 2,
       "version_minor": 0
      },
      "text/plain": [
       "  0%|          | 0/32 [00:00<?, ?it/s]"
      ]
     },
     "metadata": {},
     "output_type": "display_data"
    }
   ],
   "source": [
    "model.to('cuda')\n",
    "model.eval()\n",
    "\n",
    "y_hat = []\n",
    "y_val = []\n",
    "for batch in tqdm(val_loader):\n",
    "    x_batch, y_batch = batch\n",
    "    y_hat.append(torch.sigmoid(model.deepset(x_batch.to('cuda'))).to('cpu').detach().numpy())\n",
    "    y_val.append(y_batch)"
   ]
  },
  {
   "cell_type": "code",
   "execution_count": 196,
   "metadata": {},
   "outputs": [],
   "source": [
    "y_hat = np.concatenate(y_hat)\n",
    "y_test = np.concatenate(y_val)"
   ]
  },
  {
   "cell_type": "code",
   "execution_count": 197,
   "metadata": {},
   "outputs": [],
   "source": [
    "from sklearn.metrics import roc_curve, auc\n",
    "fpr, tpr, _ = roc_curve(y_test, y_hat)\n",
    "roc_auc = auc(fpr, tpr)"
   ]
  },
  {
   "cell_type": "code",
   "execution_count": 198,
   "metadata": {},
   "outputs": [
    {
     "data": {
      "image/png": "[encoded data removed]",
      "text/plain": [
       "<Figure size 443.077x360 with 1 Axes>"
      ]
     },
     "metadata": {
      "needs_background": "light"
     },
     "output_type": "display_data"
    }
   ],
   "source": [
    "plt.plot(fpr, tpr, label=\"ROC (AUC = %0.2f)\" % roc_auc)\n",
    "plt.plot([0, 1], [0, 1], lw=2, linestyle=\"--\")\n",
    "plt.xlim([0.0, 1.0])\n",
    "plt.ylim([0.0, 1.05])\n",
    "plt.xlabel(\"False Positive Rate\")\n",
    "plt.ylabel(\"True Positive Rate\")\n",
    "plt.title(\"Lens/no-lens classification performance\")\n",
    "plt.legend(loc=\"lower right\")\n",
    "plt.show()"
   ]
  },
  {
   "cell_type": "markdown",
   "metadata": {},
   "source": [
    "# Inference"
   ]
  },
  {
   "cell_type": "code",
   "execution_count": 364,
   "metadata": {},
   "outputs": [],
   "source": [
    "y_lens_prop_mean = y_lens_prop.mean(-2)\n",
    "y_lens_prop_std = y_lens_prop.std(-2)\n",
    "\n",
    "y_lens_prop = (y_lens_prop - y_lens_prop_mean) / y_lens_prop_std"
   ]
  },
  {
   "cell_type": "code",
   "execution_count": 365,
   "metadata": {},
   "outputs": [],
   "source": [
    "y_lens_prop = torch.Tensor(y_lens_prop)"
   ]
  },
  {
   "cell_type": "code",
   "execution_count": 368,
   "metadata": {},
   "outputs": [],
   "source": [
    "val_fraction = 0.1\n",
    "n_samples_val = int(val_fraction * len(x))\n",
    "\n",
    "dataset = TensorDataset(x, y, y_lens_prop)\n",
    "\n",
    "dataset_train, dataset_val = random_split(dataset, [len(x) - n_samples_val, n_samples_val])\n",
    "train_loader = DataLoader(dataset_train, batch_size=64, num_workers=8, pin_memory=True, shuffle=True)\n",
    "val_loader = DataLoader(dataset_val, batch_size=64, num_workers=8, pin_memory=True, shuffle=False)"
   ]
  },
  {
   "cell_type": "code",
   "execution_count": 369,
   "metadata": {},
   "outputs": [],
   "source": [
    "from models.sets import DeepSetLSTM, SetTransformerLSTM"
   ]
  },
  {
   "cell_type": "code",
   "execution_count": 370,
   "metadata": {},
   "outputs": [],
   "source": [
    "class MultiBlipInference(pl.LightningModule):\n",
    "\n",
    "    def __init__(self, output_dim=128):\n",
    "        \"\"\" Lightning module\n",
    "        \"\"\"\n",
    "        super().__init__()\n",
    "#         self.deepset = DeepSetLSTM(hidden_dim=64, output_dim=128)\n",
    "        self.deepset = SetTransformerLSTM(num_outputs=1, dim_output=128)\n",
    "        self.flow = build_maf(dim=2, num_transforms=8, context_features=64, hidden_features=128)\n",
    "        self.mlp_y_hat = build_mlp(input_dim=64, hidden_dim=128, output_dim=1, layers=3)\n",
    "        self.mlp_post = build_mlp(input_dim=64, hidden_dim=128, output_dim=64, layers=3)\n",
    "\n",
    "    def configure_optimizers(self):\n",
    "        \n",
    "        optimizer = optim.AdamW(self.parameters(), lr=3e-4, weight_decay=1e-5)\n",
    "        scheduler = torch.optim.lr_scheduler.ReduceLROnPlateau(optimizer, patience=4)\n",
    "        \n",
    "        return {\"optimizer\": optimizer, \n",
    "                \"lr_scheduler\": {\n",
    "                    \"scheduler\": scheduler,\n",
    "                    \"interval\": \"epoch\",\n",
    "                    \"monitor\": \"val_loss\",\n",
    "                    \"frequency\": 1}\n",
    "                }\n",
    "    \n",
    "    def training_step(self, batch, batch_idx):\n",
    "        x, y, y_lens = batch\n",
    "        \n",
    "        out = self.deepset(x)\n",
    "        \n",
    "        out_post, out_y_hat = torch.chunk(out, 2, -1)\n",
    "        out_post = self.mlp_post(out_post)\n",
    "        y_hat = self.mlp_y_hat(out_y_hat)[:, 0]\n",
    "        \n",
    "        loss_class = nn.BCEWithLogitsLoss()(y_hat, y).mean()\n",
    "        loss_post = -self.flow.log_prob(y_lens[y == 1.], context=out_post[y == 1.]).mean()\n",
    "\n",
    "        loss = loss_class + loss_post\n",
    "\n",
    "        self.log('train_loss', loss)\n",
    "        return loss\n",
    "\n",
    "    def validation_step(self, batch, batch_idx):\n",
    "        x, y, y_lens = batch\n",
    "        \n",
    "        out = self.deepset(x)\n",
    "        \n",
    "        out_post, out_y_hat = torch.chunk(out, 2, -1)\n",
    "        out_post = self.mlp_post(out_post)\n",
    "        y_hat = self.mlp_y_hat(out_y_hat)[:, 0]\n",
    "        \n",
    "        loss_class = nn.BCEWithLogitsLoss()(y_hat, y).mean()\n",
    "        loss_post = -self.flow.log_prob(y_lens[y == 1.], context=out_post[y == 1.]).mean()\n",
    "\n",
    "        loss = loss_class + loss_post\n",
    "\n",
    "        self.log('val_loss', loss)\n",
    "        return loss\n"
   ]
  },
  {
   "cell_type": "code",
   "execution_count": 371,
   "metadata": {},
   "outputs": [],
   "source": [
    "model = MultiBlipInference()"
   ]
  },
  {
   "cell_type": "code",
   "execution_count": 372,
   "metadata": {},
   "outputs": [
    {
     "name": "stderr",
     "output_type": "stream",
     "text": [
      "GPU available: True, used: True\n",
      "TPU available: False, using: 0 TPU cores\n",
      "IPU available: False, using: 0 IPUs\n",
      "LOCAL_RANK: 0 - CUDA_VISIBLE_DEVICES: [0]\n",
      "Set SLURM handle signals.\n",
      "\n",
      "  | Name      | Type               | Params\n",
      "-------------------------------------------------\n",
      "0 | deepset   | SetTransformerLSTM | 682 K \n",
      "1 | flow      | Flow               | 342 K \n",
      "2 | mlp_y_hat | Sequential         | 58.0 K\n",
      "3 | mlp_post  | Sequential         | 66.1 K\n",
      "-------------------------------------------------\n",
      "1.1 M     Trainable params\n",
      "0         Non-trainable params\n",
      "1.1 M     Total params\n",
      "4.594     Total estimated model params size (MB)\n"
     ]
    },
    {
     "data": {
      "application/vnd.jupyter.widget-view+json": {
       "model_id": "",
       "version_major": 2,
       "version_minor": 0
      },
      "text/plain": [
       "Validation sanity check: 0it [00:00, ?it/s]"
      ]
     },
     "metadata": {},
     "output_type": "display_data"
    },
    {
     "data": {
      "application/vnd.jupyter.widget-view+json": {
       "model_id": "d935fff947fe4e1484c427e15cbf9b95",
       "version_major": 2,
       "version_minor": 0
      },
      "text/plain": [
       "Training: 0it [00:00, ?it/s]"
      ]
     },
     "metadata": {},
     "output_type": "display_data"
    },
    {
     "data": {
      "application/vnd.jupyter.widget-view+json": {
       "model_id": "",
       "version_major": 2,
       "version_minor": 0
      },
      "text/plain": [
       "Validating: 0it [00:00, ?it/s]"
      ]
     },
     "metadata": {},
     "output_type": "display_data"
    },
    {
     "data": {
      "application/vnd.jupyter.widget-view+json": {
       "model_id": "",
       "version_major": 2,
       "version_minor": 0
      },
      "text/plain": [
       "Validating: 0it [00:00, ?it/s]"
      ]
     },
     "metadata": {},
     "output_type": "display_data"
    },
    {
     "data": {
      "application/vnd.jupyter.widget-view+json": {
       "model_id": "",
       "version_major": 2,
       "version_minor": 0
      },
      "text/plain": [
       "Validating: 0it [00:00, ?it/s]"
      ]
     },
     "metadata": {},
     "output_type": "display_data"
    },
    {
     "data": {
      "application/vnd.jupyter.widget-view+json": {
       "model_id": "",
       "version_major": 2,
       "version_minor": 0
      },
      "text/plain": [
       "Validating: 0it [00:00, ?it/s]"
      ]
     },
     "metadata": {},
     "output_type": "display_data"
    },
    {
     "data": {
      "application/vnd.jupyter.widget-view+json": {
       "model_id": "",
       "version_major": 2,
       "version_minor": 0
      },
      "text/plain": [
       "Validating: 0it [00:00, ?it/s]"
      ]
     },
     "metadata": {},
     "output_type": "display_data"
    },
    {
     "data": {
      "application/vnd.jupyter.widget-view+json": {
       "model_id": "",
       "version_major": 2,
       "version_minor": 0
      },
      "text/plain": [
       "Validating: 0it [00:00, ?it/s]"
      ]
     },
     "metadata": {},
     "output_type": "display_data"
    },
    {
     "data": {
      "application/vnd.jupyter.widget-view+json": {
       "model_id": "",
       "version_major": 2,
       "version_minor": 0
      },
      "text/plain": [
       "Validating: 0it [00:00, ?it/s]"
      ]
     },
     "metadata": {},
     "output_type": "display_data"
    },
    {
     "data": {
      "application/vnd.jupyter.widget-view+json": {
       "model_id": "",
       "version_major": 2,
       "version_minor": 0
      },
      "text/plain": [
       "Validating: 0it [00:00, ?it/s]"
      ]
     },
     "metadata": {},
     "output_type": "display_data"
    },
    {
     "data": {
      "application/vnd.jupyter.widget-view+json": {
       "model_id": "",
       "version_major": 2,
       "version_minor": 0
      },
      "text/plain": [
       "Validating: 0it [00:00, ?it/s]"
      ]
     },
     "metadata": {},
     "output_type": "display_data"
    },
    {
     "data": {
      "application/vnd.jupyter.widget-view+json": {
       "model_id": "",
       "version_major": 2,
       "version_minor": 0
      },
      "text/plain": [
       "Validating: 0it [00:00, ?it/s]"
      ]
     },
     "metadata": {},
     "output_type": "display_data"
    },
    {
     "data": {
      "application/vnd.jupyter.widget-view+json": {
       "model_id": "",
       "version_major": 2,
       "version_minor": 0
      },
      "text/plain": [
       "Validating: 0it [00:00, ?it/s]"
      ]
     },
     "metadata": {},
     "output_type": "display_data"
    },
    {
     "data": {
      "application/vnd.jupyter.widget-view+json": {
       "model_id": "",
       "version_major": 2,
       "version_minor": 0
      },
      "text/plain": [
       "Validating: 0it [00:00, ?it/s]"
      ]
     },
     "metadata": {},
     "output_type": "display_data"
    },
    {
     "data": {
      "application/vnd.jupyter.widget-view+json": {
       "model_id": "",
       "version_major": 2,
       "version_minor": 0
      },
      "text/plain": [
       "Validating: 0it [00:00, ?it/s]"
      ]
     },
     "metadata": {},
     "output_type": "display_data"
    },
    {
     "data": {
      "application/vnd.jupyter.widget-view+json": {
       "model_id": "",
       "version_major": 2,
       "version_minor": 0
      },
      "text/plain": [
       "Validating: 0it [00:00, ?it/s]"
      ]
     },
     "metadata": {},
     "output_type": "display_data"
    },
    {
     "data": {
      "application/vnd.jupyter.widget-view+json": {
       "model_id": "",
       "version_major": 2,
       "version_minor": 0
      },
      "text/plain": [
       "Validating: 0it [00:00, ?it/s]"
      ]
     },
     "metadata": {},
     "output_type": "display_data"
    },
    {
     "data": {
      "application/vnd.jupyter.widget-view+json": {
       "model_id": "",
       "version_major": 2,
       "version_minor": 0
      },
      "text/plain": [
       "Validating: 0it [00:00, ?it/s]"
      ]
     },
     "metadata": {},
     "output_type": "display_data"
    },
    {
     "data": {
      "application/vnd.jupyter.widget-view+json": {
       "model_id": "",
       "version_major": 2,
       "version_minor": 0
      },
      "text/plain": [
       "Validating: 0it [00:00, ?it/s]"
      ]
     },
     "metadata": {},
     "output_type": "display_data"
    },
    {
     "data": {
      "application/vnd.jupyter.widget-view+json": {
       "model_id": "",
       "version_major": 2,
       "version_minor": 0
      },
      "text/plain": [
       "Validating: 0it [00:00, ?it/s]"
      ]
     },
     "metadata": {},
     "output_type": "display_data"
    },
    {
     "data": {
      "application/vnd.jupyter.widget-view+json": {
       "model_id": "",
       "version_major": 2,
       "version_minor": 0
      },
      "text/plain": [
       "Validating: 0it [00:00, ?it/s]"
      ]
     },
     "metadata": {},
     "output_type": "display_data"
    },
    {
     "data": {
      "application/vnd.jupyter.widget-view+json": {
       "model_id": "",
       "version_major": 2,
       "version_minor": 0
      },
      "text/plain": [
       "Validating: 0it [00:00, ?it/s]"
      ]
     },
     "metadata": {},
     "output_type": "display_data"
    },
    {
     "data": {
      "application/vnd.jupyter.widget-view+json": {
       "model_id": "",
       "version_major": 2,
       "version_minor": 0
      },
      "text/plain": [
       "Validating: 0it [00:00, ?it/s]"
      ]
     },
     "metadata": {},
     "output_type": "display_data"
    },
    {
     "data": {
      "application/vnd.jupyter.widget-view+json": {
       "model_id": "",
       "version_major": 2,
       "version_minor": 0
      },
      "text/plain": [
       "Validating: 0it [00:00, ?it/s]"
      ]
     },
     "metadata": {},
     "output_type": "display_data"
    },
    {
     "data": {
      "application/vnd.jupyter.widget-view+json": {
       "model_id": "",
       "version_major": 2,
       "version_minor": 0
      },
      "text/plain": [
       "Validating: 0it [00:00, ?it/s]"
      ]
     },
     "metadata": {},
     "output_type": "display_data"
    },
    {
     "data": {
      "application/vnd.jupyter.widget-view+json": {
       "model_id": "",
       "version_major": 2,
       "version_minor": 0
      },
      "text/plain": [
       "Validating: 0it [00:00, ?it/s]"
      ]
     },
     "metadata": {},
     "output_type": "display_data"
    },
    {
     "data": {
      "application/vnd.jupyter.widget-view+json": {
       "model_id": "",
       "version_major": 2,
       "version_minor": 0
      },
      "text/plain": [
       "Validating: 0it [00:00, ?it/s]"
      ]
     },
     "metadata": {},
     "output_type": "display_data"
    }
   ],
   "source": [
    "checkpoint_callback = ModelCheckpoint(monitor=\"val_loss\")\n",
    "early_stop_callback = EarlyStopping(monitor='val_loss', patience=8)        \n",
    "lr_monitor = LearningRateMonitor(logging_interval='epoch')\n",
    "\n",
    "trainer = pl.Trainer(max_epochs=25, gpus=1, gradient_clip_val=1., callbacks=[checkpoint_callback, early_stop_callback, lr_monitor])\n",
    "trainer.fit(model=model, train_dataloaders=train_loader, val_dataloaders=val_loader)\n",
    "model.load_from_checkpoint(checkpoint_callback.best_model_path);"
   ]
  },
  {
   "cell_type": "markdown",
   "metadata": {},
   "source": [
    "# Evaluate"
   ]
  },
  {
   "cell_type": "code",
   "execution_count": 373,
   "metadata": {},
   "outputs": [],
   "source": [
    "model.to('cuda');\n",
    "model.eval();"
   ]
  },
  {
   "cell_type": "code",
   "execution_count": 374,
   "metadata": {},
   "outputs": [
    {
     "data": {
      "application/vnd.jupyter.widget-view+json": {
       "model_id": "96c12ebd37b74c8999d43f386bf0eedf",
       "version_major": 2,
       "version_minor": 0
      },
      "text/plain": [
       "  0%|          | 0/47 [00:00<?, ?it/s]"
      ]
     },
     "metadata": {},
     "output_type": "display_data"
    }
   ],
   "source": [
    "y_hat = []\n",
    "y_val = []\n",
    "for batch in tqdm(val_loader):\n",
    "    x_batch, y_batch, y_lens_batch = batch\n",
    "    out_batch = model.deepset(x_batch.to('cuda'))\n",
    "    y_hat.append(torch.sigmoid(model.mlp_y_hat(torch.chunk(out_batch, 2, -1)[-1])).to('cpu').detach().numpy())\n",
    "    y_val.append(y_batch)"
   ]
  },
  {
   "cell_type": "code",
   "execution_count": 375,
   "metadata": {},
   "outputs": [],
   "source": [
    "y_hat = np.concatenate(y_hat)\n",
    "y_test = np.concatenate(y_val)"
   ]
  },
  {
   "cell_type": "code",
   "execution_count": 376,
   "metadata": {},
   "outputs": [],
   "source": [
    "from sklearn.metrics import roc_curve, auc\n",
    "fpr, tpr, _ = roc_curve(y_test, y_hat)\n",
    "roc_auc = auc(fpr, tpr)"
   ]
  },
  {
   "cell_type": "code",
   "execution_count": 377,
   "metadata": {},
   "outputs": [
    {
     "data": {
      "image/png": "[encoded data removed]",
      "text/plain": [
       "<Figure size 443.077x360 with 1 Axes>"
      ]
     },
     "metadata": {
      "needs_background": "light"
     },
     "output_type": "display_data"
    }
   ],
   "source": [
    "plt.plot(fpr, tpr, label=\"ROC (AUC = %0.2f)\" % roc_auc)\n",
    "plt.plot([0, 1], [0, 1], lw=2, linestyle=\"--\")\n",
    "plt.xlim([0.0, 1.0])\n",
    "plt.ylim([0.0, 1.05])\n",
    "plt.xlabel(\"False Positive Rate\")\n",
    "plt.ylabel(\"True Positive Rate\")\n",
    "plt.title(\"Lens/no-lens classification performance\")\n",
    "plt.legend(loc=\"lower right\")\n",
    "plt.show()"
   ]
  },
  {
   "cell_type": "code",
   "execution_count": 381,
   "metadata": {},
   "outputs": [],
   "source": [
    "def destandardize(samples):\n",
    "    return samples #* y_lens_prop_std + y_lens_prop_mean"
   ]
  },
  {
   "cell_type": "code",
   "execution_count": 382,
   "metadata": {},
   "outputs": [],
   "source": [
    "# import seaborn as sns\n",
    "\n",
    "# fig = plt.figure(figsize=(12, 12))\n",
    "\n",
    "# gs = GridSpec(4, 4)\n",
    "\n",
    "# for ii, i in tqdm(enumerate(range(16, 16 + 16))):\n",
    "    \n",
    "#     ax = fig.add_subplot(gs[ii])\n",
    "    \n",
    "#     idx = torch.where(y == 1)[0][i].numpy()\n",
    "#     context = model.mlp_post(torch.chunk(model.deepset(x[idx].unsqueeze(0).to('cuda')), 2, -1)[0])\n",
    "#     samples, log_prob = model.flow.sample_and_log_prob(num_samples=5000, context=context)\n",
    "\n",
    "#     samps = np.nan_to_num(samples.cpu().detach().numpy()[0]).T\n",
    "    \n",
    "#     sns.kdeplot(x=samps[0], y=samps[1], fill=True, levels=50, cmap=sns.color_palette(\"Blues\", as_cmap=True), thresh=0.5, alpha=0.65, ax=ax)\n",
    "    \n",
    "#     ax.axvline(y_lens_prop[idx].numpy()[0])\n",
    "#     ax.axhline(y_lens_prop[idx].numpy()[1])\n",
    "    "
   ]
  },
  {
   "cell_type": "code",
   "execution_count": 20,
   "metadata": {},
   "outputs": [],
   "source": [
    "# import corner\n",
    "\n",
    "# for i in range(20, 30):\n",
    "\n",
    "#     idx = torch.where(y == 1)[0][i].numpy()\n",
    "#     context = model.mlp_post(torch.chunk(model.deepset(x[idx].unsqueeze(0).to('cuda')), 2, -1)[0])\n",
    "#     samples, log_prob = model.flow.sample_and_log_prob(num_samples=50000, context=context)\n",
    "#     corner.corner(destandardize(samples.cpu().detach().numpy()[0]) , truths=destandardize(y_lens_prop[idx].numpy()));\n",
    "    "
   ]
  },
  {
   "cell_type": "markdown",
   "metadata": {},
   "source": [
    "# Spatial aggregation then temporal processing"
   ]
  },
  {
   "cell_type": "code",
   "execution_count": 20,
   "metadata": {},
   "outputs": [],
   "source": [
    "import sys\n",
    "sys.path.append(\"../\")"
   ]
  },
  {
   "cell_type": "code",
   "execution_count": 21,
   "metadata": {},
   "outputs": [],
   "source": [
    "from models.networks import build_mlp, build_maf\n",
    "from models.spatio_temporal import SpatioTemporalLSTM"
   ]
  },
  {
   "cell_type": "code",
   "execution_count": 22,
   "metadata": {},
   "outputs": [
    {
     "data": {
      "text/plain": [
       "torch.Size([20000, 20, 10, 2])"
      ]
     },
     "execution_count": 22,
     "metadata": {},
     "output_type": "execute_result"
    }
   ],
   "source": [
    "x.shape"
   ]
  },
  {
   "cell_type": "code",
   "execution_count": 23,
   "metadata": {},
   "outputs": [],
   "source": [
    "x = (x - x.mean()) / x.std()"
   ]
  },
  {
   "cell_type": "code",
   "execution_count": 24,
   "metadata": {},
   "outputs": [],
   "source": [
    "stl = SpatioTemporalLSTM(dim_hidden=64)"
   ]
  },
  {
   "cell_type": "code",
   "execution_count": 25,
   "metadata": {},
   "outputs": [
    {
     "data": {
      "text/plain": [
       "tensor([[-0.0685,  0.0871,  0.0119,  ..., -0.0603,  0.0038, -0.1108],\n",
       "        [-0.0681,  0.0872,  0.0121,  ..., -0.0603,  0.0038, -0.1108],\n",
       "        [-0.0683,  0.0872,  0.0121,  ..., -0.0603,  0.0038, -0.1108],\n",
       "        ...,\n",
       "        [-0.0692,  0.0878,  0.0116,  ..., -0.0603,  0.0037, -0.1108],\n",
       "        [-0.0679,  0.0873,  0.0124,  ..., -0.0603,  0.0038, -0.1108],\n",
       "        [-0.0691,  0.0872,  0.0113,  ..., -0.0603,  0.0037, -0.1108]],\n",
       "       grad_fn=<UnsafeViewBackward0>)"
      ]
     },
     "execution_count": 25,
     "metadata": {},
     "output_type": "execute_result"
    }
   ],
   "source": [
    "stl(x[:8])"
   ]
  },
  {
   "cell_type": "code",
   "execution_count": 26,
   "metadata": {},
   "outputs": [],
   "source": [
    "y_lens_prop_mean = y_lens_prop.mean(-2)\n",
    "y_lens_prop_std = y_lens_prop.std(-2)\n",
    "\n",
    "y_lens_prop = (y_lens_prop - y_lens_prop_mean) / y_lens_prop_std"
   ]
  },
  {
   "cell_type": "code",
   "execution_count": 27,
   "metadata": {},
   "outputs": [],
   "source": [
    "y_lens_prop = torch.Tensor(y_lens_prop)"
   ]
  },
  {
   "cell_type": "code",
   "execution_count": 28,
   "metadata": {},
   "outputs": [
    {
     "name": "stderr",
     "output_type": "stream",
     "text": [
      "/n/home11/smsharma/.conda/envs/deepsets/lib/python3.9/site-packages/torch/utils/data/dataloader.py:478: UserWarning: This DataLoader will create 8 worker processes in total. Our suggested max number of worker in current system is 2, which is smaller than what this DataLoader is going to create. Please be aware that excessive worker creation might get DataLoader running slow or even freeze, lower the worker number to avoid potential slowness/freeze if necessary.\n",
      "  warnings.warn(_create_warning_msg(\n"
     ]
    }
   ],
   "source": [
    "val_fraction = 0.1\n",
    "n_samples_val = int(val_fraction * len(x))\n",
    "\n",
    "dataset = TensorDataset(x, y, y_lens_prop)\n",
    "\n",
    "dataset_train, dataset_val = random_split(dataset, [len(x) - n_samples_val, n_samples_val])\n",
    "train_loader = DataLoader(dataset_train, batch_size=128, num_workers=8, pin_memory=True, shuffle=True)\n",
    "val_loader = DataLoader(dataset_val, batch_size=128, num_workers=8, pin_memory=True, shuffle=False)"
   ]
  },
  {
   "cell_type": "code",
   "execution_count": 29,
   "metadata": {},
   "outputs": [],
   "source": [
    "class MultiBlipInference(pl.LightningModule):\n",
    "\n",
    "    def __init__(self, dim_summary=96):\n",
    "        \"\"\" Lightning module\n",
    "        \"\"\"\n",
    "        super().__init__()\n",
    "\n",
    "        self.spatio_temporal = SpatioTemporalLSTM(dim_hidden=dim_summary)\n",
    "        self.flow = build_maf(dim=2, num_transforms=8, context_features=dim_summary, hidden_features=128)\n",
    "        self.mlp_y_hat = build_mlp(input_dim=dim_summary, hidden_dim=int(2 * dim_summary), output_dim=1, layers=4)\n",
    "        self.mlp_post = build_mlp(input_dim=dim_summary, hidden_dim=int(2 * dim_summary), output_dim=dim_summary, layers=4)\n",
    "\n",
    "    def configure_optimizers(self):\n",
    "        \n",
    "        optimizer = optim.AdamW(self.parameters(), lr=3e-4, weight_decay=1e-5)\n",
    "        scheduler = torch.optim.lr_scheduler.ReduceLROnPlateau(optimizer, patience=4)\n",
    "        \n",
    "        return {\"optimizer\": optimizer, \n",
    "                \"lr_scheduler\": {\n",
    "                    \"scheduler\": scheduler,\n",
    "                    \"interval\": \"epoch\",\n",
    "                    \"monitor\": \"val_loss\",\n",
    "                    \"frequency\": 1}\n",
    "                }\n",
    "    \n",
    "    def training_step(self, batch, batch_idx):\n",
    "        x, y, y_lens = batch\n",
    "        \n",
    "        out = self.spatio_temporal(x)\n",
    "        \n",
    "        out_post, out_y_hat = torch.chunk(out, 2, -1)\n",
    "        out_post = self.mlp_post(out_post)\n",
    "        y_hat = self.mlp_y_hat(out_y_hat)[:, 0]\n",
    "        \n",
    "        loss_class = nn.BCEWithLogitsLoss()(y_hat, y).mean()\n",
    "        loss_post = -self.flow.log_prob(y_lens[y == 1.], context=out_post[y == 1.]).mean()\n",
    "\n",
    "        loss = loss_class + loss_post\n",
    "\n",
    "        self.log('train_loss', loss)\n",
    "        return loss\n",
    "\n",
    "    def validation_step(self, batch, batch_idx):\n",
    "        x, y, y_lens = batch\n",
    "        \n",
    "        out = self.spatio_temporal(x)\n",
    "        \n",
    "        out_post, out_y_hat = torch.chunk(out, 2, -1)\n",
    "        out_post = self.mlp_post(out_post)\n",
    "        y_hat = self.mlp_y_hat(out_y_hat)[:, 0]\n",
    "        \n",
    "        loss_class = nn.BCEWithLogitsLoss()(y_hat, y).mean()\n",
    "        loss_post = -self.flow.log_prob(y_lens[y == 1.], context=out_post[y == 1.]).mean()\n",
    "\n",
    "        loss = loss_class + loss_post\n",
    "\n",
    "        self.log('val_loss', loss)\n",
    "        return loss\n"
   ]
  },
  {
   "cell_type": "code",
   "execution_count": 30,
   "metadata": {},
   "outputs": [],
   "source": [
    "model = MultiBlipInference()"
   ]
  },
  {
   "cell_type": "code",
   "execution_count": 31,
   "metadata": {},
   "outputs": [
    {
     "name": "stderr",
     "output_type": "stream",
     "text": [
      "GPU available: True, used: True\n",
      "TPU available: False, using: 0 TPU cores\n",
      "IPU available: False, using: 0 IPUs\n",
      "LOCAL_RANK: 0 - CUDA_VISIBLE_DEVICES: [0,1]\n",
      "Set SLURM handle signals.\n",
      "\n",
      "  | Name            | Type               | Params\n",
      "-------------------------------------------------------\n",
      "0 | spatio_temporal | SpatioTemporalLSTM | 1.9 M \n",
      "1 | flow            | Flow               | 841 K \n",
      "2 | mlp_y_hat       | Sequential         | 167 K \n",
      "3 | mlp_post        | Sequential         | 185 K \n",
      "-------------------------------------------------------\n",
      "3.1 M     Trainable params\n",
      "0         Non-trainable params\n",
      "3.1 M     Total params\n",
      "12.402    Total estimated model params size (MB)\n",
      "/n/home11/smsharma/.conda/envs/deepsets/lib/python3.9/site-packages/pytorch_lightning/callbacks/model_checkpoint.py:631: UserWarning: Checkpoint directory /net/rcstorenfs02/ifs/rc_labs/dvorkin_lab/smsharma/Astrometric_TSeries_ML/notebooks/lightning_logs/version_3902984/checkpoints exists and is not empty.\n",
      "  rank_zero_warn(f\"Checkpoint directory {dirpath} exists and is not empty.\")\n"
     ]
    },
    {
     "data": {
      "application/vnd.jupyter.widget-view+json": {
       "model_id": "",
       "version_major": 2,
       "version_minor": 0
      },
      "text/plain": [
       "Validation sanity check: 0it [00:00, ?it/s]"
      ]
     },
     "metadata": {},
     "output_type": "display_data"
    },
    {
     "data": {
      "application/vnd.jupyter.widget-view+json": {
       "model_id": "4f72624ca3f6419595de4c9a89a9dc3e",
       "version_major": 2,
       "version_minor": 0
      },
      "text/plain": [
       "Training: 0it [00:00, ?it/s]"
      ]
     },
     "metadata": {},
     "output_type": "display_data"
    },
    {
     "data": {
      "application/vnd.jupyter.widget-view+json": {
       "model_id": "",
       "version_major": 2,
       "version_minor": 0
      },
      "text/plain": [
       "Validating: 0it [00:00, ?it/s]"
      ]
     },
     "metadata": {},
     "output_type": "display_data"
    },
    {
     "data": {
      "application/vnd.jupyter.widget-view+json": {
       "model_id": "",
       "version_major": 2,
       "version_minor": 0
      },
      "text/plain": [
       "Validating: 0it [00:00, ?it/s]"
      ]
     },
     "metadata": {},
     "output_type": "display_data"
    },
    {
     "data": {
      "application/vnd.jupyter.widget-view+json": {
       "model_id": "",
       "version_major": 2,
       "version_minor": 0
      },
      "text/plain": [
       "Validating: 0it [00:00, ?it/s]"
      ]
     },
     "metadata": {},
     "output_type": "display_data"
    },
    {
     "data": {
      "application/vnd.jupyter.widget-view+json": {
       "model_id": "",
       "version_major": 2,
       "version_minor": 0
      },
      "text/plain": [
       "Validating: 0it [00:00, ?it/s]"
      ]
     },
     "metadata": {},
     "output_type": "display_data"
    },
    {
     "data": {
      "application/vnd.jupyter.widget-view+json": {
       "model_id": "",
       "version_major": 2,
       "version_minor": 0
      },
      "text/plain": [
       "Validating: 0it [00:00, ?it/s]"
      ]
     },
     "metadata": {},
     "output_type": "display_data"
    },
    {
     "data": {
      "application/vnd.jupyter.widget-view+json": {
       "model_id": "",
       "version_major": 2,
       "version_minor": 0
      },
      "text/plain": [
       "Validating: 0it [00:00, ?it/s]"
      ]
     },
     "metadata": {},
     "output_type": "display_data"
    },
    {
     "data": {
      "application/vnd.jupyter.widget-view+json": {
       "model_id": "",
       "version_major": 2,
       "version_minor": 0
      },
      "text/plain": [
       "Validating: 0it [00:00, ?it/s]"
      ]
     },
     "metadata": {},
     "output_type": "display_data"
    },
    {
     "data": {
      "application/vnd.jupyter.widget-view+json": {
       "model_id": "",
       "version_major": 2,
       "version_minor": 0
      },
      "text/plain": [
       "Validating: 0it [00:00, ?it/s]"
      ]
     },
     "metadata": {},
     "output_type": "display_data"
    },
    {
     "data": {
      "application/vnd.jupyter.widget-view+json": {
       "model_id": "",
       "version_major": 2,
       "version_minor": 0
      },
      "text/plain": [
       "Validating: 0it [00:00, ?it/s]"
      ]
     },
     "metadata": {},
     "output_type": "display_data"
    },
    {
     "data": {
      "application/vnd.jupyter.widget-view+json": {
       "model_id": "",
       "version_major": 2,
       "version_minor": 0
      },
      "text/plain": [
       "Validating: 0it [00:00, ?it/s]"
      ]
     },
     "metadata": {},
     "output_type": "display_data"
    },
    {
     "data": {
      "application/vnd.jupyter.widget-view+json": {
       "model_id": "",
       "version_major": 2,
       "version_minor": 0
      },
      "text/plain": [
       "Validating: 0it [00:00, ?it/s]"
      ]
     },
     "metadata": {},
     "output_type": "display_data"
    },
    {
     "data": {
      "application/vnd.jupyter.widget-view+json": {
       "model_id": "",
       "version_major": 2,
       "version_minor": 0
      },
      "text/plain": [
       "Validating: 0it [00:00, ?it/s]"
      ]
     },
     "metadata": {},
     "output_type": "display_data"
    },
    {
     "data": {
      "application/vnd.jupyter.widget-view+json": {
       "model_id": "",
       "version_major": 2,
       "version_minor": 0
      },
      "text/plain": [
       "Validating: 0it [00:00, ?it/s]"
      ]
     },
     "metadata": {},
     "output_type": "display_data"
    },
    {
     "data": {
      "application/vnd.jupyter.widget-view+json": {
       "model_id": "",
       "version_major": 2,
       "version_minor": 0
      },
      "text/plain": [
       "Validating: 0it [00:00, ?it/s]"
      ]
     },
     "metadata": {},
     "output_type": "display_data"
    },
    {
     "data": {
      "application/vnd.jupyter.widget-view+json": {
       "model_id": "",
       "version_major": 2,
       "version_minor": 0
      },
      "text/plain": [
       "Validating: 0it [00:00, ?it/s]"
      ]
     },
     "metadata": {},
     "output_type": "display_data"
    },
    {
     "data": {
      "application/vnd.jupyter.widget-view+json": {
       "model_id": "",
       "version_major": 2,
       "version_minor": 0
      },
      "text/plain": [
       "Validating: 0it [00:00, ?it/s]"
      ]
     },
     "metadata": {},
     "output_type": "display_data"
    },
    {
     "data": {
      "application/vnd.jupyter.widget-view+json": {
       "model_id": "",
       "version_major": 2,
       "version_minor": 0
      },
      "text/plain": [
       "Validating: 0it [00:00, ?it/s]"
      ]
     },
     "metadata": {},
     "output_type": "display_data"
    },
    {
     "data": {
      "application/vnd.jupyter.widget-view+json": {
       "model_id": "",
       "version_major": 2,
       "version_minor": 0
      },
      "text/plain": [
       "Validating: 0it [00:00, ?it/s]"
      ]
     },
     "metadata": {},
     "output_type": "display_data"
    },
    {
     "data": {
      "application/vnd.jupyter.widget-view+json": {
       "model_id": "",
       "version_major": 2,
       "version_minor": 0
      },
      "text/plain": [
       "Validating: 0it [00:00, ?it/s]"
      ]
     },
     "metadata": {},
     "output_type": "display_data"
    },
    {
     "data": {
      "application/vnd.jupyter.widget-view+json": {
       "model_id": "",
       "version_major": 2,
       "version_minor": 0
      },
      "text/plain": [
       "Validating: 0it [00:00, ?it/s]"
      ]
     },
     "metadata": {},
     "output_type": "display_data"
    },
    {
     "data": {
      "application/vnd.jupyter.widget-view+json": {
       "model_id": "",
       "version_major": 2,
       "version_minor": 0
      },
      "text/plain": [
       "Validating: 0it [00:00, ?it/s]"
      ]
     },
     "metadata": {},
     "output_type": "display_data"
    },
    {
     "data": {
      "application/vnd.jupyter.widget-view+json": {
       "model_id": "",
       "version_major": 2,
       "version_minor": 0
      },
      "text/plain": [
       "Validating: 0it [00:00, ?it/s]"
      ]
     },
     "metadata": {},
     "output_type": "display_data"
    },
    {
     "data": {
      "application/vnd.jupyter.widget-view+json": {
       "model_id": "",
       "version_major": 2,
       "version_minor": 0
      },
      "text/plain": [
       "Validating: 0it [00:00, ?it/s]"
      ]
     },
     "metadata": {},
     "output_type": "display_data"
    },
    {
     "data": {
      "application/vnd.jupyter.widget-view+json": {
       "model_id": "",
       "version_major": 2,
       "version_minor": 0
      },
      "text/plain": [
       "Validating: 0it [00:00, ?it/s]"
      ]
     },
     "metadata": {},
     "output_type": "display_data"
    },
    {
     "data": {
      "application/vnd.jupyter.widget-view+json": {
       "model_id": "",
       "version_major": 2,
       "version_minor": 0
      },
      "text/plain": [
       "Validating: 0it [00:00, ?it/s]"
      ]
     },
     "metadata": {},
     "output_type": "display_data"
    },
    {
     "data": {
      "application/vnd.jupyter.widget-view+json": {
       "model_id": "",
       "version_major": 2,
       "version_minor": 0
      },
      "text/plain": [
       "Validating: 0it [00:00, ?it/s]"
      ]
     },
     "metadata": {},
     "output_type": "display_data"
    },
    {
     "data": {
      "application/vnd.jupyter.widget-view+json": {
       "model_id": "",
       "version_major": 2,
       "version_minor": 0
      },
      "text/plain": [
       "Validating: 0it [00:00, ?it/s]"
      ]
     },
     "metadata": {},
     "output_type": "display_data"
    },
    {
     "data": {
      "application/vnd.jupyter.widget-view+json": {
       "model_id": "",
       "version_major": 2,
       "version_minor": 0
      },
      "text/plain": [
       "Validating: 0it [00:00, ?it/s]"
      ]
     },
     "metadata": {},
     "output_type": "display_data"
    },
    {
     "data": {
      "application/vnd.jupyter.widget-view+json": {
       "model_id": "",
       "version_major": 2,
       "version_minor": 0
      },
      "text/plain": [
       "Validating: 0it [00:00, ?it/s]"
      ]
     },
     "metadata": {},
     "output_type": "display_data"
    },
    {
     "data": {
      "application/vnd.jupyter.widget-view+json": {
       "model_id": "",
       "version_major": 2,
       "version_minor": 0
      },
      "text/plain": [
       "Validating: 0it [00:00, ?it/s]"
      ]
     },
     "metadata": {},
     "output_type": "display_data"
    },
    {
     "data": {
      "application/vnd.jupyter.widget-view+json": {
       "model_id": "",
       "version_major": 2,
       "version_minor": 0
      },
      "text/plain": [
       "Validating: 0it [00:00, ?it/s]"
      ]
     },
     "metadata": {},
     "output_type": "display_data"
    },
    {
     "data": {
      "application/vnd.jupyter.widget-view+json": {
       "model_id": "",
       "version_major": 2,
       "version_minor": 0
      },
      "text/plain": [
       "Validating: 0it [00:00, ?it/s]"
      ]
     },
     "metadata": {},
     "output_type": "display_data"
    },
    {
     "data": {
      "application/vnd.jupyter.widget-view+json": {
       "model_id": "",
       "version_major": 2,
       "version_minor": 0
      },
      "text/plain": [
       "Validating: 0it [00:00, ?it/s]"
      ]
     },
     "metadata": {},
     "output_type": "display_data"
    },
    {
     "data": {
      "application/vnd.jupyter.widget-view+json": {
       "model_id": "",
       "version_major": 2,
       "version_minor": 0
      },
      "text/plain": [
       "Validating: 0it [00:00, ?it/s]"
      ]
     },
     "metadata": {},
     "output_type": "display_data"
    },
    {
     "data": {
      "application/vnd.jupyter.widget-view+json": {
       "model_id": "",
       "version_major": 2,
       "version_minor": 0
      },
      "text/plain": [
       "Validating: 0it [00:00, ?it/s]"
      ]
     },
     "metadata": {},
     "output_type": "display_data"
    },
    {
     "data": {
      "application/vnd.jupyter.widget-view+json": {
       "model_id": "",
       "version_major": 2,
       "version_minor": 0
      },
      "text/plain": [
       "Validating: 0it [00:00, ?it/s]"
      ]
     },
     "metadata": {},
     "output_type": "display_data"
    },
    {
     "data": {
      "application/vnd.jupyter.widget-view+json": {
       "model_id": "",
       "version_major": 2,
       "version_minor": 0
      },
      "text/plain": [
       "Validating: 0it [00:00, ?it/s]"
      ]
     },
     "metadata": {},
     "output_type": "display_data"
    },
    {
     "data": {
      "application/vnd.jupyter.widget-view+json": {
       "model_id": "",
       "version_major": 2,
       "version_minor": 0
      },
      "text/plain": [
       "Validating: 0it [00:00, ?it/s]"
      ]
     },
     "metadata": {},
     "output_type": "display_data"
    },
    {
     "data": {
      "application/vnd.jupyter.widget-view+json": {
       "model_id": "",
       "version_major": 2,
       "version_minor": 0
      },
      "text/plain": [
       "Validating: 0it [00:00, ?it/s]"
      ]
     },
     "metadata": {},
     "output_type": "display_data"
    },
    {
     "data": {
      "application/vnd.jupyter.widget-view+json": {
       "model_id": "",
       "version_major": 2,
       "version_minor": 0
      },
      "text/plain": [
       "Validating: 0it [00:00, ?it/s]"
      ]
     },
     "metadata": {},
     "output_type": "display_data"
    },
    {
     "data": {
      "application/vnd.jupyter.widget-view+json": {
       "model_id": "",
       "version_major": 2,
       "version_minor": 0
      },
      "text/plain": [
       "Validating: 0it [00:00, ?it/s]"
      ]
     },
     "metadata": {},
     "output_type": "display_data"
    },
    {
     "data": {
      "application/vnd.jupyter.widget-view+json": {
       "model_id": "",
       "version_major": 2,
       "version_minor": 0
      },
      "text/plain": [
       "Validating: 0it [00:00, ?it/s]"
      ]
     },
     "metadata": {},
     "output_type": "display_data"
    },
    {
     "data": {
      "application/vnd.jupyter.widget-view+json": {
       "model_id": "",
       "version_major": 2,
       "version_minor": 0
      },
      "text/plain": [
       "Validating: 0it [00:00, ?it/s]"
      ]
     },
     "metadata": {},
     "output_type": "display_data"
    },
    {
     "data": {
      "application/vnd.jupyter.widget-view+json": {
       "model_id": "",
       "version_major": 2,
       "version_minor": 0
      },
      "text/plain": [
       "Validating: 0it [00:00, ?it/s]"
      ]
     },
     "metadata": {},
     "output_type": "display_data"
    },
    {
     "data": {
      "application/vnd.jupyter.widget-view+json": {
       "model_id": "",
       "version_major": 2,
       "version_minor": 0
      },
      "text/plain": [
       "Validating: 0it [00:00, ?it/s]"
      ]
     },
     "metadata": {},
     "output_type": "display_data"
    },
    {
     "data": {
      "application/vnd.jupyter.widget-view+json": {
       "model_id": "",
       "version_major": 2,
       "version_minor": 0
      },
      "text/plain": [
       "Validating: 0it [00:00, ?it/s]"
      ]
     },
     "metadata": {},
     "output_type": "display_data"
    },
    {
     "data": {
      "application/vnd.jupyter.widget-view+json": {
       "model_id": "",
       "version_major": 2,
       "version_minor": 0
      },
      "text/plain": [
       "Validating: 0it [00:00, ?it/s]"
      ]
     },
     "metadata": {},
     "output_type": "display_data"
    },
    {
     "data": {
      "application/vnd.jupyter.widget-view+json": {
       "model_id": "",
       "version_major": 2,
       "version_minor": 0
      },
      "text/plain": [
       "Validating: 0it [00:00, ?it/s]"
      ]
     },
     "metadata": {},
     "output_type": "display_data"
    },
    {
     "data": {
      "application/vnd.jupyter.widget-view+json": {
       "model_id": "",
       "version_major": 2,
       "version_minor": 0
      },
      "text/plain": [
       "Validating: 0it [00:00, ?it/s]"
      ]
     },
     "metadata": {},
     "output_type": "display_data"
    },
    {
     "data": {
      "application/vnd.jupyter.widget-view+json": {
       "model_id": "",
       "version_major": 2,
       "version_minor": 0
      },
      "text/plain": [
       "Validating: 0it [00:00, ?it/s]"
      ]
     },
     "metadata": {},
     "output_type": "display_data"
    }
   ],
   "source": [
    "checkpoint_callback = ModelCheckpoint(monitor=\"val_loss\")\n",
    "early_stop_callback = EarlyStopping(monitor='val_loss', patience=8)        \n",
    "lr_monitor = LearningRateMonitor(logging_interval='epoch')\n",
    "\n",
    "trainer = pl.Trainer(max_epochs=50, gpus=1, gradient_clip_val=0.5, callbacks=[checkpoint_callback, early_stop_callback, lr_monitor])\n",
    "trainer.fit(model=model, train_dataloaders=train_loader, val_dataloaders=val_loader)\n",
    "model.load_from_checkpoint(checkpoint_callback.best_model_path);"
   ]
  },
  {
   "cell_type": "markdown",
   "metadata": {},
   "source": [
    "## Evaluate"
   ]
  },
  {
   "cell_type": "code",
   "execution_count": 32,
   "metadata": {},
   "outputs": [],
   "source": [
    "model.to('cuda');\n",
    "model.eval();"
   ]
  },
  {
   "cell_type": "code",
   "execution_count": 33,
   "metadata": {},
   "outputs": [
    {
     "data": {
      "application/vnd.jupyter.widget-view+json": {
       "model_id": "e86dc7626d9e43e28b17fc6b8cc775a6",
       "version_major": 2,
       "version_minor": 0
      },
      "text/plain": [
       "  0%|          | 0/16 [00:00<?, ?it/s]"
      ]
     },
     "metadata": {},
     "output_type": "display_data"
    }
   ],
   "source": [
    "y_hat = []\n",
    "y_val = []\n",
    "for batch in tqdm(val_loader):\n",
    "    x_batch, y_batch, y_lens_batch = batch\n",
    "    out_batch = model.spatio_temporal(x_batch.to('cuda'))\n",
    "    y_hat.append(torch.sigmoid(model.mlp_y_hat(torch.chunk(out_batch, 2, -1)[-1])).to('cpu').detach().numpy())\n",
    "    y_val.append(y_batch)"
   ]
  },
  {
   "cell_type": "code",
   "execution_count": 34,
   "metadata": {},
   "outputs": [],
   "source": [
    "y_hat = np.concatenate(y_hat)\n",
    "y_test = np.concatenate(y_val)"
   ]
  },
  {
   "cell_type": "code",
   "execution_count": 35,
   "metadata": {},
   "outputs": [],
   "source": [
    "from sklearn.metrics import roc_curve, auc\n",
    "fpr, tpr, _ = roc_curve(y_test, y_hat)\n",
    "roc_auc = auc(fpr, tpr)"
   ]
  },
  {
   "cell_type": "code",
   "execution_count": 36,
   "metadata": {},
   "outputs": [
    {
     "data": {
      "image/png": "[encoded data removed]",
      "text/plain": [
       "<Figure size 443.077x360 with 1 Axes>"
      ]
     },
     "metadata": {
      "needs_background": "light"
     },
     "output_type": "display_data"
    }
   ],
   "source": [
    "plt.plot(fpr, tpr, label=\"ROC (AUC = %0.2f)\" % roc_auc)\n",
    "plt.plot([0, 1], [0, 1], lw=2, linestyle=\"--\")\n",
    "plt.xlim([0.0, 1.0])\n",
    "plt.ylim([0.0, 1.05])\n",
    "plt.xlabel(\"False Positive Rate\")\n",
    "plt.ylabel(\"True Positive Rate\")\n",
    "plt.title(\"Lens/no-lens classification performance\")\n",
    "plt.legend(loc=\"lower right\")\n",
    "plt.show()"
   ]
  },
  {
   "cell_type": "code",
   "execution_count": 37,
   "metadata": {},
   "outputs": [],
   "source": [
    "def destandardize(samples):\n",
    "    return samples * y_lens_prop_std + y_lens_prop_mean"
   ]
  },
  {
   "cell_type": "code",
   "execution_count": 38,
   "metadata": {},
   "outputs": [],
   "source": [
    "import corner\n",
    "\n",
    "labels = [r'$\\log_{10} M\\,[\\mathrm{M}_\\odot]$',r'$\\log_{10} (R\\,[\\mathrm{pc}])$']"
   ]
  },
  {
   "cell_type": "code",
   "execution_count": 43,
   "metadata": {},
   "outputs": [
    {
     "data": {
      "application/vnd.jupyter.widget-view+json": {
       "model_id": "e57dc0f8cdbc4408a311ff3bc67ea571",
       "version_major": 2,
       "version_minor": 0
      },
      "text/plain": [
       "  0%|          | 0/40 [00:00<?, ?it/s]"
      ]
     },
     "metadata": {},
     "output_type": "display_data"
    },
    {
     "data": {
      "image/png": "[encoded data removed]",
      "text/plain": [
       "<Figure size 1440x576 with 36 Axes>"
      ]
     },
     "metadata": {
      "needs_background": "light"
     },
     "output_type": "display_data"
    }
   ],
   "source": [
    "n_plots = 5\n",
    "fig = plt.figure(figsize=(20, 8))\n",
    "subfigs = fig.subfigures(2, n_plots)\n",
    "\n",
    "n_fig = 0\n",
    "for i in (range(0, 40)):\n",
    "\n",
    "    idx = torch.where(y_batch == 1)[0][i].numpy()\n",
    "    feats = torch.chunk(model.spatio_temporal(x_batch[idx].unsqueeze(0).to('cuda')), 2, -1)\n",
    "    context = model.mlp_post(feats[0])\n",
    "    y_hat = model.mlp_y_hat(feats[1])[:, 0]\n",
    "    if y_hat.sigmoid() > 0.7:\n",
    "        samples, log_prob = model.flow.sample_and_log_prob(num_samples=50000, context=context)\n",
    "        corner.corner(destandardize(samples.cpu().detach().numpy()[0]), fig=subfigs[n_fig // 5, n_fig % 5], truths=destandardize(y_lens_batch[idx].numpy()), range=[[4.5,7],[-3,1.5]], plot_contours=True, bins=30, smooth=2, smooth1d=1.3, labels=labels, color=cols_default[0], truth_color='darkgrey');\n",
    "        n_fig += 1\n",
    "    if n_fig == 2 * n_plots:\n",
    "        break"
   ]
  },
  {
   "cell_type": "code",
   "execution_count": null,
   "metadata": {},
   "outputs": [],
   "source": []
  }
 ],
 "metadata": {
  "kernelspec": {
   "display_name": "Python 3 (ipykernel)",
   "language": "python",
   "name": "python3"
  },
  "language_info": {
   "codemirror_mode": {
    "name": "ipython",
    "version": 3
   },
   "file_extension": ".py",
   "mimetype": "text/x-python",
   "name": "python",
   "nbconvert_exporter": "python",
   "pygments_lexer": "ipython3",
   "version": "3.9.7"
  }
 },
 "nbformat": 4,
 "nbformat_minor": 4
}
