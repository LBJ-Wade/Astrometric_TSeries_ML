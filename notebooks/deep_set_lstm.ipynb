{
 "cells": [
  {
   "cell_type": "code",
   "execution_count": 1,
   "metadata": {},
   "outputs": [
    {
     "name": "stdout",
     "output_type": "stream",
     "text": [
      "The autoreload extension is already loaded. To reload it, use:\n",
      "  %reload_ext autoreload\n"
     ]
    }
   ],
   "source": [
    "import numpy as np\n",
    "import matplotlib.pyplot as plt\n",
    "\n",
    "from units import *\n",
    "from profiles import Profiles\n",
    "\n",
    "%load_ext autoreload\n",
    "%autoreload 2"
   ]
  },
  {
   "cell_type": "code",
   "execution_count": 2,
   "metadata": {},
   "outputs": [],
   "source": [
    "import matplotlib.pylab as pylab\n",
    "import warnings\n",
    "import matplotlib.cbook\n",
    "\n",
    "from plot_params import params\n",
    "\n",
    "warnings.filterwarnings(\"ignore\",category=matplotlib.cbook.mplDeprecation)\n",
    "\n",
    "pylab.rcParams.update(params)\n",
    "cols_default = plt.rcParams['axes.prop_cycle'].by_key()['color']"
   ]
  },
  {
   "cell_type": "markdown",
   "metadata": {},
   "source": [
    "# A toy simulation"
   ]
  },
  {
   "cell_type": "code",
   "execution_count": 3,
   "metadata": {},
   "outputs": [],
   "source": [
    "class AstrometricSim:\n",
    "    def __init__(self, theta_x_lims=[-1.6, 1.6], theta_y_lims=[-0.9, 0.9]):\n",
    "        \"\"\"\n",
    "        Class to create animations of astrometric weak lensing. For demo and not science!\n",
    "        :param theta_x_lims: x-axis coordinate limits [x_min, x_max] in arcsecs\n",
    "        :param theta_y_lims: y-axis coordinate limits [y_min, y_max] in arcsecs\n",
    "        \"\"\"\n",
    "\n",
    "        self.theta_x_lims = theta_x_lims\n",
    "        self.theta_y_lims = theta_y_lims\n",
    "\n",
    "        # Area of sky region\n",
    "        self.roi_area = (self.theta_x_lims[1] - self.theta_x_lims[0]) * \\\n",
    "                        (self.theta_y_lims[1] - self.theta_y_lims[0])\n",
    "\n",
    "    def animation(self, pos_l, M_l, R_l, v_l, D_l,\n",
    "                  n_sources_fix=True,\n",
    "                  # Source properties\n",
    "                  std_mu_s=1e-6,\n",
    "                  n_dens=20, source_pos=\"random\"\n",
    "                  ):\n",
    "        \"\"\"\n",
    "        :param pos_l: tuple of lens positions, format [[x_1, y_1], [x_2, y_2]...]\n",
    "        :param M_l: tuple of lens masses\n",
    "        :param R_l: tuple of lens sizes (Gaussian lens)\n",
    "        :param v_l: tuple of lens velocities\n",
    "        :param D_l: tuple of distances of lenses\n",
    "        :param n_dens: density of sources (per arcsecs^2); default 20\n",
    "        :param source_pos: must be one of [\"uniform\", \"random\"]; default \"random\"\n",
    "        \"\"\"\n",
    "\n",
    "        # Get total number of sources in sky region\n",
    "        \n",
    "        if n_sources_fix:\n",
    "            self.n_total = np.floor(n_dens * self.roi_area).astype(np.int32)\n",
    "        else:\n",
    "            self.n_total = np.random.poisson(n_dens * self.roi_area)\n",
    "        \n",
    "        # Source velocities\n",
    "        self.mu_s_intrinsic = np.random.normal(loc=0, scale=std_mu_s, size=(ds.n_total, 2))\n",
    "        \n",
    "        # Set source positions\n",
    "\n",
    "        # Random positions + custom if specified\n",
    "        if source_pos == \"random\":\n",
    "\n",
    "            # Initial source property array\n",
    "            self.sources = np.zeros(self.n_total, dtype=[(\"theta_x\", float, 1),\n",
    "                                                         (\"theta_y\", float, 1),\n",
    "                                                         (\"theta_x_0\", float, 1),\n",
    "                                                         (\"theta_y_0\", float, 1),\n",
    "                                                         (\"mu\", float, 1)])\n",
    "\n",
    "            self.sources[\"theta_x_0\"] = np.array(\n",
    "                list(np.random.uniform(*self.theta_x_lims, self.n_total)))\n",
    "            self.sources[\"theta_y_0\"] = np.array(\n",
    "                list(np.random.uniform(*self.theta_x_lims, self.n_total)))\n",
    "\n",
    "        # Uniform grid of sources\n",
    "        elif source_pos == \"uniform\":\n",
    "            xy_ratio = (self.theta_y_lims[1] - self.theta_y_lims[0]) / \\\n",
    "                (self.theta_x_lims[1] - self.theta_x_lims[0])\n",
    "            x_pos = np.linspace(self.theta_x_lims[0], self.theta_x_lims[1], np.round(\n",
    "                np.sqrt(self.n_total / xy_ratio)))\n",
    "            y_pos = np.linspace(self.theta_y_lims[0], self.theta_y_lims[1], np.round(\n",
    "                np.sqrt(self.n_total * xy_ratio)))\n",
    "\n",
    "            self.n_total = len(np.meshgrid(x_pos, y_pos)[0].flatten())\n",
    "\n",
    "            # Initialize source property array\n",
    "            self.sources = np.zeros(self.n_total, dtype=[(\"theta_x\", float, 1),\n",
    "                                                         (\"theta_y\", float, 1),\n",
    "                                                         (\"theta_x_0\", float, 1),\n",
    "                                                         (\"theta_y_0\", float, 1)])\n",
    "\n",
    "            self.sources[\"theta_x_0\"] = np.meshgrid(x_pos, y_pos)[0].flatten()\n",
    "            self.sources[\"theta_y_0\"] = np.meshgrid(x_pos, y_pos)[1].flatten()\n",
    "\n",
    "        assert len(pos_l) == len(v_l) == len(M_l) == len(R_l) == len(D_l), \\\n",
    "            \"Lens property arrays must be the same size!\"\n",
    "\n",
    "        # Infer number of lenses\n",
    "        self.n_lens = len(pos_l)\n",
    "\n",
    "        # Initialize lens property array\n",
    "        self.lenses = np.zeros(self.n_lens, dtype=[(\"theta_x\", float, 1),\n",
    "                                                   (\"theta_y\", float, 1),\n",
    "                                                   (\"M_0\", float, 1),\n",
    "                                                   (\"R_0\", float, 1),\n",
    "                                                   (\"D\", float, 1),\n",
    "                                                   (\"v_x\", float, 1),\n",
    "                                                   (\"v_y\", float, 1)])\n",
    "\n",
    "        # Set initial source positions\n",
    "        self.sources[\"theta_x\"] = self.sources[\"theta_x_0\"]\n",
    "        self.sources[\"theta_y\"] = self.sources[\"theta_y_0\"]\n",
    "\n",
    "        # Set initial lens positions...\n",
    "        self.lenses[\"theta_x\"] = np.array(pos_l)[:, 0]\n",
    "        self.lenses[\"theta_y\"] = np.array(pos_l)[:, 1]\n",
    "\n",
    "        # ... and lens properties\n",
    "        self.lenses[\"v_x\"] = np.array(v_l)[:, 0]\n",
    "        self.lenses[\"v_y\"] = np.array(v_l)[:, 1]\n",
    "        self.lenses[\"M_0\"] = np.array(M_l)\n",
    "        self.lenses[\"R_0\"] = np.array(R_l)\n",
    "        self.lenses[\"D\"] = np.array(D_l)\n",
    "\n",
    "        theta_s = np.zeros((self.n_total, 2))\n",
    "\n",
    "        # Deflection and proper motion vectors\n",
    "        for i_lens in range(self.n_lens):\n",
    "            b_ary = np.transpose([self.sources[\"theta_x\"] - self.lenses[\"theta_x\"][i_lens],\n",
    "                                  self.sources[\"theta_y\"] - self.lenses[\"theta_y\"][i_lens]]) * asctorad\n",
    "\n",
    "            vel_l = np.array([self.lenses[\"v_x\"][i_lens],\n",
    "                              self.lenses[\"v_y\"][i_lens]])\n",
    "            \n",
    "            for i_source in range(self.n_total):\n",
    "\n",
    "                theta_s[i_source] += self.theta(b_ary[i_source], self.lenses[\"R_0\"][i_lens],\n",
    "                                                self.lenses[\"M_0\"][i_lens], self.lenses[\"D\"][i_lens])\n",
    "                        \n",
    "        # New source positions including deflection\n",
    "        self.sources[\"theta_x\"] = self.sources[\"theta_x_0\"] + theta_s[:, 0]\n",
    "        self.sources[\"theta_y\"] = self.sources[\"theta_y_0\"] + theta_s[:, 1]\n",
    "\n",
    "    def propagate(self, dt):\n",
    "        \"\"\" Update lens and star positions\"\"\"\n",
    "\n",
    "        theta_s = np.zeros((self.n_total, 2))\n",
    "\n",
    "        for i_lens in range(self.n_lens):\n",
    "            \n",
    "            b_ary = np.transpose([self.sources[\"theta_x\"] - self.lenses[\"theta_x\"][i_lens],\n",
    "                                  self.sources[\"theta_y\"] - self.lenses[\"theta_y\"][i_lens]]) * asctorad\n",
    "\n",
    "            vel_l = np.array([self.lenses[\"v_x\"][i_lens],\n",
    "                              self.lenses[\"v_y\"][i_lens]])\n",
    "            \n",
    "            for i_source in range(self.n_total):    \n",
    "                \n",
    "                theta_s[i_source] += self.theta(b_ary[i_source], self.lenses[\"R_0\"][i_lens],\n",
    "                                                self.lenses[\"M_0\"][i_lens], self.lenses[\"D\"][i_lens])\n",
    " \n",
    "            mu_l = (vel_l / self.lenses[\"D\"][i_lens]) / (Year ** -1) * radtoasc\n",
    "            \n",
    "            self.lenses[\"theta_x\"][i_lens] = self.lenses[\"theta_x\"][i_lens] + mu_l[0] * dt\n",
    "            self.lenses[\"theta_y\"][i_lens] = self.lenses[\"theta_y\"][i_lens] + mu_l[1] * dt\n",
    "                    \n",
    "        # Update intrinsic source position\n",
    "        self.sources[\"theta_x_0\"] += self.mu_s_intrinsic[:, 0] * dt\n",
    "        self.sources[\"theta_y_0\"] += self.mu_s_intrinsic[:, 1] * dt\n",
    "                \n",
    "        self.sources[\"theta_x\"] = self.sources[\"theta_x_0\"] + theta_s[:, 0] \n",
    "        self.sources[\"theta_y\"] = self.sources[\"theta_y_0\"] + theta_s[:, 1]\n",
    "\n",
    "\n",
    "    @classmethod\n",
    "    def mu(self, beta_vec, v_ang_vec, R_0, M_0, d_lens):\n",
    "        \"\"\" Get lens-induced proper motion vector\n",
    "        \"\"\"\n",
    "\n",
    "        # Convert angular to physical impact parameter\n",
    "        b_vec = d_lens * np.array(beta_vec)\n",
    "        # Convert angular to physical velocity\n",
    "        v_vec = d_lens * np.array(v_ang_vec)\n",
    "        b = np.linalg.norm(b_vec)  # Impact parameter\n",
    "        M, dMdb, _ = Profiles.MdMdb_Gauss(b, R_0, M_0)\n",
    "        b_unit_vec = b_vec / b  # Convert angular to physical impact parameter\n",
    "        b_dot_v = np.dot(b_unit_vec, v_vec)\n",
    "        factor = (dMdb / b * b_unit_vec * b_dot_v\n",
    "                  + M / b ** 2 * (v_vec - 2 * b_unit_vec * b_dot_v))\n",
    "\n",
    "        return -factor * 4 * GN / (asctorad / Year)  # Convert to as/yr\n",
    "\n",
    "    @classmethod\n",
    "    def theta(self, beta_vec, R_0, M_0, d_lens):\n",
    "        \"\"\" Get lens-induced deflection vector\n",
    "        \"\"\"\n",
    "\n",
    "        # Convert angular to physical impact parameter\n",
    "        b_vec = d_lens * np.array(beta_vec)\n",
    "        b = np.linalg.norm(b_vec)  # Impact parameter\n",
    "        M, _, _ = Profiles.MdMdb_Gauss(b, R_0, M_0)\n",
    "        b_unit_vec = b_vec / b  # Convert angular to physical impact parameter\n",
    "\n",
    "        return 4 * GN * M / b * b_unit_vec * radtoasc  # Convert to as"
   ]
  },
  {
   "cell_type": "code",
   "execution_count": 4,
   "metadata": {},
   "outputs": [],
   "source": [
    "from tqdm.notebook import tqdm"
   ]
  },
  {
   "cell_type": "code",
   "execution_count": 7,
   "metadata": {},
   "outputs": [
    {
     "name": "stderr",
     "output_type": "stream",
     "text": [
      "/var/folders/kq/gkzlnb6576x8mxsf32v72_y00000gn/T/ipykernel_89530/1466518691.py:48: FutureWarning: Passing (type, 1) or '1type' as a synonym of type is deprecated; in a future version of numpy, it will be understood as (type, (1,)) / '(1,)type'.\n",
      "  self.sources = np.zeros(self.n_total, dtype=[(\"theta_x\", float, 1),\n",
      "/var/folders/kq/gkzlnb6576x8mxsf32v72_y00000gn/T/ipykernel_89530/1466518691.py:86: FutureWarning: Passing (type, 1) or '1type' as a synonym of type is deprecated; in a future version of numpy, it will be understood as (type, (1,)) / '(1,)type'.\n",
      "  self.lenses = np.zeros(self.n_lens, dtype=[(\"theta_x\", float, 1),\n"
     ]
    }
   ],
   "source": [
    "# Dummy initialization, just to set some global vars\n",
    "\n",
    "ds = AstrometricSim(theta_x_lims = [-0.1, 0.1], theta_y_lims = [-0.1, 0.1])\n",
    "ds.animation(\n",
    "    pos_l=np.array([[0.,0]]),\n",
    "    v_l=np.array([[200, 0]]) * Kmps,\n",
    "    R_l=[10 * pc], M_l=[0], D_l=[1 * kpc],\n",
    "    n_dens=500, std_mu_s=1e-6, source_pos=\"random\")"
   ]
  },
  {
   "cell_type": "code",
   "execution_count": 11,
   "metadata": {},
   "outputs": [
    {
     "data": {
      "application/vnd.jupyter.widget-view+json": {
       "model_id": "9c307dc41adb4179a2f6642d322e7b2e",
       "version_major": 2,
       "version_minor": 0
      },
      "text/plain": [
       "  0%|          | 0/10000 [00:00<?, ?it/s]"
      ]
     },
     "metadata": {},
     "output_type": "display_data"
    },
    {
     "name": "stderr",
     "output_type": "stream",
     "text": [
      "/var/folders/kq/gkzlnb6576x8mxsf32v72_y00000gn/T/ipykernel_89530/1466518691.py:48: FutureWarning: Passing (type, 1) or '1type' as a synonym of type is deprecated; in a future version of numpy, it will be understood as (type, (1,)) / '(1,)type'.\n",
      "  self.sources = np.zeros(self.n_total, dtype=[(\"theta_x\", float, 1),\n",
      "/var/folders/kq/gkzlnb6576x8mxsf32v72_y00000gn/T/ipykernel_89530/1466518691.py:86: FutureWarning: Passing (type, 1) or '1type' as a synonym of type is deprecated; in a future version of numpy, it will be understood as (type, (1,)) / '(1,)type'.\n",
      "  self.lenses = np.zeros(self.n_lens, dtype=[(\"theta_x\", float, 1),\n"
     ]
    }
   ],
   "source": [
    "n_sim = 10000\n",
    "\n",
    "x = np.zeros((n_sim, ds.n_total, 10, 2))\n",
    "y = np.zeros((n_sim))\n",
    "y_lens_pos = np.zeros((n_sim, 2))\n",
    "\n",
    "for i_sim in tqdm(range(n_sim)):\n",
    "    \n",
    "    ds = AstrometricSim(theta_x_lims = [-0.1, 0.1], theta_y_lims = [-0.1, 0.1])\n",
    "    \n",
    "    y_lens = np.random.randint(2)\n",
    "    y[i_sim] = y_lens\n",
    "    \n",
    "    if y_lens:\n",
    "        M_l = 10 ** 7. * M_s\n",
    "    else:\n",
    "        M_l = 0\n",
    "    \n",
    "    pos_l = 0.1 * (np.random.random(2) - 0.5)\n",
    "    v_l = 300. * (np.random.random(2) - 0.5)\n",
    "    \n",
    "    y_lens_pos[i_sim] = pos_l\n",
    "    \n",
    "    anim = ds.animation(\n",
    "        pos_l=np.array([pos_l]),\n",
    "        v_l=np.array([v_l]) * Kmps,\n",
    "        R_l=[1 * pc], M_l=[M_l], D_l=[1 * kpc],\n",
    "        n_dens=500, std_mu_s=2e-5, source_pos=\"random\")\n",
    "\n",
    "    for i in range(10):\n",
    "        \n",
    "        ds.propagate(dt=25)\n",
    "        \n",
    "        x[i_sim, : , i, 0] = ds.sources[\"theta_x\"]\n",
    "        x[i_sim, : , i, 1] = ds.sources[\"theta_y\"]"
   ]
  },
  {
   "cell_type": "code",
   "execution_count": 12,
   "metadata": {},
   "outputs": [],
   "source": [
    "# Add measurement errors\n",
    "\n",
    "error_mu = 5e-5\n",
    "\n",
    "x_err = np.random.normal(loc=0, scale=error_mu, size=(x.shape))\n",
    "x += x_err"
   ]
  },
  {
   "cell_type": "markdown",
   "metadata": {},
   "source": [
    "## Viz"
   ]
  },
  {
   "cell_type": "code",
   "execution_count": 13,
   "metadata": {},
   "outputs": [
    {
     "data": {
      "application/vnd.jupyter.widget-view+json": {
       "model_id": "a0ddd910045c486bbf6167e026ddc0a0",
       "version_major": 2,
       "version_minor": 0
      },
      "text/plain": [
       "  0%|          | 0/16 [00:00<?, ?it/s]"
      ]
     },
     "metadata": {},
     "output_type": "display_data"
    },
    {
     "data": {
      "image/png": "[encoded data removed]",
      "text/plain": [
       "<Figure size 864x864 with 16 Axes>"
      ]
     },
     "metadata": {
      "needs_background": "light"
     },
     "output_type": "display_data"
    }
   ],
   "source": [
    "from matplotlib.gridspec import GridSpec\n",
    "\n",
    "fig = plt.figure(figsize=(12, 12))\n",
    "\n",
    "gs = GridSpec(4, 4)\n",
    "\n",
    "for i in tqdm(range(16)):\n",
    "    \n",
    "    ax = fig.add_subplot(gs[i])\n",
    "\n",
    "    for x_i in x[i]:\n",
    "        ax.scatter(x_i.T[0], x_i.T[1], color='forestgreen', s=0.2)\n",
    "        \n",
    "    if y[i]:\n",
    "        ax.scatter(y_lens_pos[i,0], y_lens_pos[i,1], label=\"Lens position\")\n",
    "        \n",
    "    ax.axes.xaxis.set_visible(False)\n",
    "    ax.axes.yaxis.set_visible(False)\n",
    "    \n",
    "#     ax.legend()\n",
    "    "
   ]
  },
  {
   "cell_type": "markdown",
   "metadata": {},
   "source": [
    "# Time-series deep set model"
   ]
  },
  {
   "cell_type": "code",
   "execution_count": 16,
   "metadata": {},
   "outputs": [],
   "source": [
    "import torch\n",
    "import torch.nn as nn\n",
    "import torch.nn.functional as F\n",
    "import torch.utils.data as data\n",
    "import torch.optim as optim"
   ]
  },
  {
   "cell_type": "code",
   "execution_count": 19,
   "metadata": {},
   "outputs": [],
   "source": [
    "from einops import rearrange"
   ]
  },
  {
   "cell_type": "code",
   "execution_count": 20,
   "metadata": {},
   "outputs": [],
   "source": [
    "x = torch.Tensor(x)\n",
    "y = torch.Tensor(y)"
   ]
  },
  {
   "cell_type": "code",
   "execution_count": 21,
   "metadata": {},
   "outputs": [],
   "source": [
    "# Normalize and rotate data\n",
    "\n",
    "x -= x[:, :, 0, :].unsqueeze(-2)  # Set first position to zero\n",
    "theta = torch.atan(x[:, :, -1, 1] / x[:, :, -1, 0]).numpy()  # Get rotation angle\n",
    "rot = np.array([\n",
    "    [np.cos(theta), -np.sin(theta)],\n",
    "    [np.sin(theta), np.cos(theta)]])  # Get rotation matrix\n",
    "rot = torch.Tensor(rearrange(rot, 'i j k l  -> k l i j'))\n",
    "x = torch.matmul(x, rot)  # Rotate (CHECK)"
   ]
  },
  {
   "cell_type": "code",
   "execution_count": 22,
   "metadata": {},
   "outputs": [],
   "source": [
    "def build_mlp(input_dim, hidden_dim, output_dim, layers):\n",
    "    \"\"\"Create an MLP from the configurations\n",
    "        Helper function for creating this kind of NN\n",
    "        MLP = multi-layer perceptron\n",
    "    \"\"\"\n",
    "    activation = nn.ReLU\n",
    "\n",
    "    seq = [nn.Linear(input_dim, hidden_dim), activation()]\n",
    "    for _ in range(layers):\n",
    "        seq += [nn.Linear(hidden_dim, hidden_dim), activation()]\n",
    "    seq += [nn.Linear(hidden_dim, output_dim)]\n",
    "\n",
    "    return nn.Sequential(*seq)"
   ]
  },
  {
   "cell_type": "code",
   "execution_count": 23,
   "metadata": {},
   "outputs": [],
   "source": [
    "class DeepSetLSTM(nn.Module):\n",
    "    def __init__(self, hidden_dim=64):\n",
    "        \"\"\" A deep set model based on an LSTM encoder\n",
    "        \"\"\"\n",
    "        super(DeepSetLSTM, self).__init__()\n",
    "                    \n",
    "        # Bi-dirctional LSTM encoder\n",
    "        # !!! You could swap this out for any other architecture\n",
    "        self.phi = nn.LSTM(input_size=2, hidden_size=hidden_dim, num_layers=8, batch_first=True, bidirectional=True)\n",
    "        \n",
    "        # MLP post-aggregation network\n",
    "        self.rho = build_mlp(input_dim=2 * hidden_dim, hidden_dim=2 * hidden_dim, output_dim=1, layers=4)\n",
    "\n",
    "    def forward(self, x):\n",
    "        # GR: A lot of these tricks is specific to the LSTM, will change with different version\n",
    "        \n",
    "        batch_size = x.shape[0]\n",
    "        \n",
    "        # Combine batch and number of stars into a single 'batch' dimension\n",
    "        # GR: b s t xy = batch star time position\n",
    "        # GR: einops makes rearranging tensors easier\n",
    "        # GR: (b s) combines stars into batch dimension\n",
    "        x = rearrange(x, 'b s t xy -> (b s) t xy')\n",
    "        \n",
    "        # Encode all through LSTM\n",
    "        # GR: the output of the lstm is h\n",
    "        x, (h, c) = self.phi(x) \n",
    "        \n",
    "        # Extract two 'hidden' vectors corresponding to two directions in LSTM\n",
    "        # GR: bidirectional LSTM implies it has an additional d dimension\n",
    "        h = rearrange(h, '(d l) b h -> b d l h', d=2)[:, :, -1, :]\n",
    "        # GR: combine two hidden dimensions\n",
    "        h = rearrange(h, 'b d h -> b (d h)')\n",
    "        \n",
    "        # Uncombine batch and star dimensions, then do mean-aggregation along star axis\n",
    "        # (Enforce permutation invariance)\n",
    "        # GR: uncombine batch and star dimensions\n",
    "        # GR: Take a mean over the star dimension (aggregation step for deep set,\n",
    "        #     mean is good for variable numbers of stars)\n",
    "        h = rearrange(h, '(b s) h -> b s h', b=batch_size).mean(-2)\n",
    "        \n",
    "        # Pass through post-aggregation network\n",
    "        # GR: the ML step\n",
    "        x = self.rho(h).squeeze(-1)\n",
    "        \n",
    "        return x"
   ]
  },
  {
   "cell_type": "code",
   "execution_count": 26,
   "metadata": {},
   "outputs": [],
   "source": [
    "from torch.utils.data import TensorDataset, DataLoader, random_split, SubsetRandomSampler\n",
    "\n",
    "import pytorch_lightning as pl\n",
    "from pytorch_lightning.callbacks import LearningRateMonitor, ModelCheckpoint, EarlyStopping"
   ]
  },
  {
   "cell_type": "code",
   "execution_count": 27,
   "metadata": {},
   "outputs": [],
   "source": [
    "# Standardize input data by Z-scoring\n",
    "x = (x - x.mean(0).mean(0)) / x.std(0).std(0)\n",
    "\n",
    "# GR: Was infinity, now zero again\n",
    "x[:, :, 0, :] = 0."
   ]
  },
  {
   "cell_type": "code",
   "execution_count": 28,
   "metadata": {},
   "outputs": [],
   "source": [
    "val_fraction = 0.1\n",
    "n_samples_val = int(val_fraction * len(x))\n",
    "\n",
    "dataset = TensorDataset(x, y)\n",
    "\n",
    "dataset_train, dataset_val = random_split(dataset, [len(x) - n_samples_val, n_samples_val])\n",
    "train_loader = DataLoader(dataset_train, batch_size=64, num_workers=8, pin_memory=True, shuffle=True)\n",
    "val_loader = DataLoader(dataset_val, batch_size=64, num_workers=8, pin_memory=True, shuffle=False)"
   ]
  },
  {
   "cell_type": "code",
   "execution_count": 29,
   "metadata": {},
   "outputs": [],
   "source": [
    "class MultiBlipClassifier(pl.LightningModule):\n",
    "\n",
    "    def __init__(self):\n",
    "        \"\"\" Lightning module\n",
    "        \"\"\"\n",
    "        super().__init__()\n",
    "        self.deepset = DeepSetLSTM()\n",
    "\n",
    "    def configure_optimizers(self):\n",
    "        \n",
    "        optimizer = optim.AdamW(self.parameters(), lr=5e-3, weight_decay=1e-5)\n",
    "        scheduler = torch.optim.lr_scheduler.ReduceLROnPlateau(optimizer, patience=4)\n",
    "        \n",
    "        return {\"optimizer\": optimizer, \n",
    "                \"lr_scheduler\": {\n",
    "                    \"scheduler\": scheduler,\n",
    "                    \"interval\": \"epoch\",\n",
    "                    \"monitor\": \"val_loss\",\n",
    "                    \"frequency\": 1}\n",
    "                }\n",
    "    \n",
    "    def training_step(self, batch, batch_idx):\n",
    "        x, y = batch\n",
    "        y_hat = self.deepset(x)\n",
    "        # GR: Binary cross-entropy loss function, essentially \\sum_{two classes} x log y\n",
    "        #    With logits means applying sigmoid before applying loss function\n",
    "        #.   You know something wrong when the loss is log(2) = .693\n",
    "        loss = nn.BCEWithLogitsLoss(reduction='mean')(y_hat, y)\n",
    "        self.log('train_loss', loss)\n",
    "        return loss\n",
    "\n",
    "    def validation_step(self, batch, batch_idx):\n",
    "        x, y = batch\n",
    "        y_hat = self.deepset(x)\n",
    "        loss = nn.BCEWithLogitsLoss(reduction='mean')(y_hat, y)\n",
    "        self.log('val_loss', loss)"
   ]
  },
  {
   "cell_type": "markdown",
   "metadata": {},
   "source": [
    "# Train model"
   ]
  },
  {
   "cell_type": "code",
   "execution_count": 30,
   "metadata": {},
   "outputs": [],
   "source": [
    "model = MultiBlipClassifier()"
   ]
  },
  {
   "cell_type": "code",
   "execution_count": 32,
   "metadata": {},
   "outputs": [
    {
     "name": "stderr",
     "output_type": "stream",
     "text": [
      "GPU available: False, used: False\n",
      "TPU available: False, using: 0 TPU cores\n",
      "IPU available: False, using: 0 IPUs\n",
      "Missing logger folder: /Users/gregoryridgway/Desktop/AstroML/Astrometric_TSeries_ML/notebooks/lightning_logs\n",
      "\n",
      "  | Name    | Type        | Params\n",
      "----------------------------------------\n",
      "0 | deepset | DeepSetLSTM | 812 K \n",
      "----------------------------------------\n",
      "812 K     Trainable params\n",
      "0         Non-trainable params\n",
      "812 K     Total params\n",
      "3.251     Total estimated model params size (MB)\n"
     ]
    },
    {
     "data": {
      "application/vnd.jupyter.widget-view+json": {
       "model_id": "",
       "version_major": 2,
       "version_minor": 0
      },
      "text/plain": [
       "Validation sanity check: 0it [00:00, ?it/s]"
      ]
     },
     "metadata": {},
     "output_type": "display_data"
    },
    {
     "data": {
      "application/vnd.jupyter.widget-view+json": {
       "model_id": "cee0d0b133c842a587cf49b9fee8c4c0",
       "version_major": 2,
       "version_minor": 0
      },
      "text/plain": [
       "Training: 0it [00:00, ?it/s]"
      ]
     },
     "metadata": {},
     "output_type": "display_data"
    },
    {
     "data": {
      "application/vnd.jupyter.widget-view+json": {
       "model_id": "",
       "version_major": 2,
       "version_minor": 0
      },
      "text/plain": [
       "Validating: 0it [00:00, ?it/s]"
      ]
     },
     "metadata": {},
     "output_type": "display_data"
    },
    {
     "data": {
      "application/vnd.jupyter.widget-view+json": {
       "model_id": "",
       "version_major": 2,
       "version_minor": 0
      },
      "text/plain": [
       "Validating: 0it [00:00, ?it/s]"
      ]
     },
     "metadata": {},
     "output_type": "display_data"
    },
    {
     "data": {
      "application/vnd.jupyter.widget-view+json": {
       "model_id": "",
       "version_major": 2,
       "version_minor": 0
      },
      "text/plain": [
       "Validating: 0it [00:00, ?it/s]"
      ]
     },
     "metadata": {},
     "output_type": "display_data"
    },
    {
     "data": {
      "application/vnd.jupyter.widget-view+json": {
       "model_id": "",
       "version_major": 2,
       "version_minor": 0
      },
      "text/plain": [
       "Validating: 0it [00:00, ?it/s]"
      ]
     },
     "metadata": {},
     "output_type": "display_data"
    },
    {
     "data": {
      "application/vnd.jupyter.widget-view+json": {
       "model_id": "",
       "version_major": 2,
       "version_minor": 0
      },
      "text/plain": [
       "Validating: 0it [00:00, ?it/s]"
      ]
     },
     "metadata": {},
     "output_type": "display_data"
    },
    {
     "data": {
      "application/vnd.jupyter.widget-view+json": {
       "model_id": "",
       "version_major": 2,
       "version_minor": 0
      },
      "text/plain": [
       "Validating: 0it [00:00, ?it/s]"
      ]
     },
     "metadata": {},
     "output_type": "display_data"
    },
    {
     "data": {
      "application/vnd.jupyter.widget-view+json": {
       "model_id": "",
       "version_major": 2,
       "version_minor": 0
      },
      "text/plain": [
       "Validating: 0it [00:00, ?it/s]"
      ]
     },
     "metadata": {},
     "output_type": "display_data"
    },
    {
     "data": {
      "application/vnd.jupyter.widget-view+json": {
       "model_id": "",
       "version_major": 2,
       "version_minor": 0
      },
      "text/plain": [
       "Validating: 0it [00:00, ?it/s]"
      ]
     },
     "metadata": {},
     "output_type": "display_data"
    },
    {
     "data": {
      "application/vnd.jupyter.widget-view+json": {
       "model_id": "",
       "version_major": 2,
       "version_minor": 0
      },
      "text/plain": [
       "Validating: 0it [00:00, ?it/s]"
      ]
     },
     "metadata": {},
     "output_type": "display_data"
    },
    {
     "data": {
      "application/vnd.jupyter.widget-view+json": {
       "model_id": "",
       "version_major": 2,
       "version_minor": 0
      },
      "text/plain": [
       "Validating: 0it [00:00, ?it/s]"
      ]
     },
     "metadata": {},
     "output_type": "display_data"
    },
    {
     "data": {
      "application/vnd.jupyter.widget-view+json": {
       "model_id": "",
       "version_major": 2,
       "version_minor": 0
      },
      "text/plain": [
       "Validating: 0it [00:00, ?it/s]"
      ]
     },
     "metadata": {},
     "output_type": "display_data"
    },
    {
     "data": {
      "application/vnd.jupyter.widget-view+json": {
       "model_id": "",
       "version_major": 2,
       "version_minor": 0
      },
      "text/plain": [
       "Validating: 0it [00:00, ?it/s]"
      ]
     },
     "metadata": {},
     "output_type": "display_data"
    },
    {
     "data": {
      "application/vnd.jupyter.widget-view+json": {
       "model_id": "",
       "version_major": 2,
       "version_minor": 0
      },
      "text/plain": [
       "Validating: 0it [00:00, ?it/s]"
      ]
     },
     "metadata": {},
     "output_type": "display_data"
    },
    {
     "data": {
      "application/vnd.jupyter.widget-view+json": {
       "model_id": "",
       "version_major": 2,
       "version_minor": 0
      },
      "text/plain": [
       "Validating: 0it [00:00, ?it/s]"
      ]
     },
     "metadata": {},
     "output_type": "display_data"
    },
    {
     "data": {
      "application/vnd.jupyter.widget-view+json": {
       "model_id": "",
       "version_major": 2,
       "version_minor": 0
      },
      "text/plain": [
       "Validating: 0it [00:00, ?it/s]"
      ]
     },
     "metadata": {},
     "output_type": "display_data"
    },
    {
     "data": {
      "application/vnd.jupyter.widget-view+json": {
       "model_id": "",
       "version_major": 2,
       "version_minor": 0
      },
      "text/plain": [
       "Validating: 0it [00:00, ?it/s]"
      ]
     },
     "metadata": {},
     "output_type": "display_data"
    },
    {
     "data": {
      "application/vnd.jupyter.widget-view+json": {
       "model_id": "",
       "version_major": 2,
       "version_minor": 0
      },
      "text/plain": [
       "Validating: 0it [00:00, ?it/s]"
      ]
     },
     "metadata": {},
     "output_type": "display_data"
    },
    {
     "data": {
      "application/vnd.jupyter.widget-view+json": {
       "model_id": "",
       "version_major": 2,
       "version_minor": 0
      },
      "text/plain": [
       "Validating: 0it [00:00, ?it/s]"
      ]
     },
     "metadata": {},
     "output_type": "display_data"
    },
    {
     "data": {
      "application/vnd.jupyter.widget-view+json": {
       "model_id": "",
       "version_major": 2,
       "version_minor": 0
      },
      "text/plain": [
       "Validating: 0it [00:00, ?it/s]"
      ]
     },
     "metadata": {},
     "output_type": "display_data"
    },
    {
     "data": {
      "application/vnd.jupyter.widget-view+json": {
       "model_id": "",
       "version_major": 2,
       "version_minor": 0
      },
      "text/plain": [
       "Validating: 0it [00:00, ?it/s]"
      ]
     },
     "metadata": {},
     "output_type": "display_data"
    },
    {
     "data": {
      "application/vnd.jupyter.widget-view+json": {
       "model_id": "",
       "version_major": 2,
       "version_minor": 0
      },
      "text/plain": [
       "Validating: 0it [00:00, ?it/s]"
      ]
     },
     "metadata": {},
     "output_type": "display_data"
    },
    {
     "data": {
      "application/vnd.jupyter.widget-view+json": {
       "model_id": "",
       "version_major": 2,
       "version_minor": 0
      },
      "text/plain": [
       "Validating: 0it [00:00, ?it/s]"
      ]
     },
     "metadata": {},
     "output_type": "display_data"
    },
    {
     "data": {
      "application/vnd.jupyter.widget-view+json": {
       "model_id": "",
       "version_major": 2,
       "version_minor": 0
      },
      "text/plain": [
       "Validating: 0it [00:00, ?it/s]"
      ]
     },
     "metadata": {},
     "output_type": "display_data"
    },
    {
     "data": {
      "application/vnd.jupyter.widget-view+json": {
       "model_id": "",
       "version_major": 2,
       "version_minor": 0
      },
      "text/plain": [
       "Validating: 0it [00:00, ?it/s]"
      ]
     },
     "metadata": {},
     "output_type": "display_data"
    },
    {
     "data": {
      "application/vnd.jupyter.widget-view+json": {
       "model_id": "",
       "version_major": 2,
       "version_minor": 0
      },
      "text/plain": [
       "Validating: 0it [00:00, ?it/s]"
      ]
     },
     "metadata": {},
     "output_type": "display_data"
    }
   ],
   "source": [
    "checkpoint_callback = ModelCheckpoint(monitor=\"val_loss\")\n",
    "early_stop_callback = EarlyStopping(monitor='val_loss', patience=8)        \n",
    "lr_monitor = LearningRateMonitor(logging_interval='epoch')\n",
    "\n",
    "trainer = pl.Trainer(max_epochs=25, gpu=1, gradient_clip_val=1., callbacks=[checkpoint_callback, early_stop_callback, lr_monitor])\n",
    "trainer.fit(model=model, train_dataloaders=train_loader, val_dataloaders=val_loader)\n",
    "model.load_from_checkpoint(checkpoint_callback.best_model_path);"
   ]
  },
  {
   "cell_type": "markdown",
   "metadata": {},
   "source": [
    "# Evaluate classification performance"
   ]
  },
  {
   "cell_type": "code",
   "execution_count": 36,
   "metadata": {},
   "outputs": [
    {
     "data": {
      "application/vnd.jupyter.widget-view+json": {
       "model_id": "f5cfb10fb2b34ad5806a26d857b4a472",
       "version_major": 2,
       "version_minor": 0
      },
      "text/plain": [
       "  0%|          | 0/16 [00:00<?, ?it/s]"
      ]
     },
     "metadata": {},
     "output_type": "display_data"
    },
    {
     "ename": "AssertionError",
     "evalue": "Torch not compiled with CUDA enabled",
     "output_type": "error",
     "traceback": [
      "\u001b[0;31m---------------------------------------------------------------------------\u001b[0m",
      "\u001b[0;31mAssertionError\u001b[0m                            Traceback (most recent call last)",
      "\u001b[0;32m/var/folders/kq/gkzlnb6576x8mxsf32v72_y00000gn/T/ipykernel_89530/3836494462.py\u001b[0m in \u001b[0;36m<module>\u001b[0;34m\u001b[0m\n\u001b[1;32m      5\u001b[0m \u001b[0;32mfor\u001b[0m \u001b[0mbatch\u001b[0m \u001b[0;32min\u001b[0m \u001b[0mtqdm\u001b[0m\u001b[0;34m(\u001b[0m\u001b[0mval_loader\u001b[0m\u001b[0;34m)\u001b[0m\u001b[0;34m:\u001b[0m\u001b[0;34m\u001b[0m\u001b[0;34m\u001b[0m\u001b[0m\n\u001b[1;32m      6\u001b[0m     \u001b[0mx_batch\u001b[0m\u001b[0;34m,\u001b[0m \u001b[0my_batch\u001b[0m \u001b[0;34m=\u001b[0m \u001b[0mbatch\u001b[0m\u001b[0;34m\u001b[0m\u001b[0;34m\u001b[0m\u001b[0m\n\u001b[0;32m----> 7\u001b[0;31m     \u001b[0my_hat\u001b[0m\u001b[0;34m.\u001b[0m\u001b[0mappend\u001b[0m\u001b[0;34m(\u001b[0m\u001b[0mtorch\u001b[0m\u001b[0;34m.\u001b[0m\u001b[0msigmoid\u001b[0m\u001b[0;34m(\u001b[0m\u001b[0mmodel\u001b[0m\u001b[0;34m.\u001b[0m\u001b[0mdeepset\u001b[0m\u001b[0;34m(\u001b[0m\u001b[0mx_batch\u001b[0m\u001b[0;34m.\u001b[0m\u001b[0mto\u001b[0m\u001b[0;34m(\u001b[0m\u001b[0;34m'cuda'\u001b[0m\u001b[0;34m)\u001b[0m\u001b[0;34m)\u001b[0m\u001b[0;34m)\u001b[0m\u001b[0;34m.\u001b[0m\u001b[0mto\u001b[0m\u001b[0;34m(\u001b[0m\u001b[0;34m'cpu'\u001b[0m\u001b[0;34m)\u001b[0m\u001b[0;34m.\u001b[0m\u001b[0mdetach\u001b[0m\u001b[0;34m(\u001b[0m\u001b[0;34m)\u001b[0m\u001b[0;34m.\u001b[0m\u001b[0mnumpy\u001b[0m\u001b[0;34m(\u001b[0m\u001b[0;34m)\u001b[0m\u001b[0;34m)\u001b[0m\u001b[0;34m\u001b[0m\u001b[0;34m\u001b[0m\u001b[0m\n\u001b[0m\u001b[1;32m      8\u001b[0m     \u001b[0my_val\u001b[0m\u001b[0;34m.\u001b[0m\u001b[0mappend\u001b[0m\u001b[0;34m(\u001b[0m\u001b[0my_batch\u001b[0m\u001b[0;34m)\u001b[0m\u001b[0;34m\u001b[0m\u001b[0;34m\u001b[0m\u001b[0m\n",
      "\u001b[0;32m/usr/local/lib/python3.9/site-packages/torch/cuda/__init__.py\u001b[0m in \u001b[0;36m_lazy_init\u001b[0;34m()\u001b[0m\n\u001b[1;32m    208\u001b[0m                 \"multiprocessing, you must use the 'spawn' start method\")\n\u001b[1;32m    209\u001b[0m         \u001b[0;32mif\u001b[0m \u001b[0;32mnot\u001b[0m \u001b[0mhasattr\u001b[0m\u001b[0;34m(\u001b[0m\u001b[0mtorch\u001b[0m\u001b[0;34m.\u001b[0m\u001b[0m_C\u001b[0m\u001b[0;34m,\u001b[0m \u001b[0;34m'_cuda_getDeviceCount'\u001b[0m\u001b[0;34m)\u001b[0m\u001b[0;34m:\u001b[0m\u001b[0;34m\u001b[0m\u001b[0;34m\u001b[0m\u001b[0m\n\u001b[0;32m--> 210\u001b[0;31m             \u001b[0;32mraise\u001b[0m \u001b[0mAssertionError\u001b[0m\u001b[0;34m(\u001b[0m\u001b[0;34m\"Torch not compiled with CUDA enabled\"\u001b[0m\u001b[0;34m)\u001b[0m\u001b[0;34m\u001b[0m\u001b[0;34m\u001b[0m\u001b[0m\n\u001b[0m\u001b[1;32m    211\u001b[0m         \u001b[0;32mif\u001b[0m \u001b[0m_cudart\u001b[0m \u001b[0;32mis\u001b[0m \u001b[0;32mNone\u001b[0m\u001b[0;34m:\u001b[0m\u001b[0;34m\u001b[0m\u001b[0;34m\u001b[0m\u001b[0m\n\u001b[1;32m    212\u001b[0m             raise AssertionError(\n",
      "\u001b[0;31mAssertionError\u001b[0m: Torch not compiled with CUDA enabled"
     ]
    }
   ],
   "source": [
    "model.to('cuda')\n",
    "\n",
    "y_hat = []\n",
    "y_val = []\n",
    "for batch in tqdm(val_loader):\n",
    "    x_batch, y_batch = batch\n",
    "    y_hat.append(torch.sigmoid(model.deepset(x_batch.to('cuda'))).to('cpu').detach().numpy())\n",
    "    y_val.append(y_batch)"
   ]
  },
  {
   "cell_type": "code",
   "execution_count": 35,
   "metadata": {},
   "outputs": [
    {
     "ename": "NameError",
     "evalue": "name 'y_hat' is not defined",
     "output_type": "error",
     "traceback": [
      "\u001b[0;31m---------------------------------------------------------------------------\u001b[0m",
      "\u001b[0;31mNameError\u001b[0m                                 Traceback (most recent call last)",
      "\u001b[0;32m/var/folders/kq/gkzlnb6576x8mxsf32v72_y00000gn/T/ipykernel_89530/2659130609.py\u001b[0m in \u001b[0;36m<module>\u001b[0;34m\u001b[0m\n\u001b[0;32m----> 1\u001b[0;31m \u001b[0my_hat\u001b[0m \u001b[0;34m=\u001b[0m \u001b[0mnp\u001b[0m\u001b[0;34m.\u001b[0m\u001b[0mconcatenate\u001b[0m\u001b[0;34m(\u001b[0m\u001b[0my_hat\u001b[0m\u001b[0;34m)\u001b[0m\u001b[0;34m\u001b[0m\u001b[0;34m\u001b[0m\u001b[0m\n\u001b[0m\u001b[1;32m      2\u001b[0m \u001b[0my_test\u001b[0m \u001b[0;34m=\u001b[0m \u001b[0mnp\u001b[0m\u001b[0;34m.\u001b[0m\u001b[0mconcatenate\u001b[0m\u001b[0;34m(\u001b[0m\u001b[0my_val\u001b[0m\u001b[0;34m)\u001b[0m\u001b[0;34m\u001b[0m\u001b[0;34m\u001b[0m\u001b[0m\n",
      "\u001b[0;31mNameError\u001b[0m: name 'y_hat' is not defined"
     ]
    }
   ],
   "source": [
    "y_hat = np.concatenate(y_hat)\n",
    "y_test = np.concatenate(y_val)"
   ]
  },
  {
   "cell_type": "code",
   "execution_count": 128,
   "metadata": {},
   "outputs": [],
   "source": [
    "from sklearn.metrics import roc_curve, auc\n",
    "fpr, tpr, _ = roc_curve(y_test, y_hat)\n",
    "roc_auc = auc(fpr, tpr)"
   ]
  },
  {
   "cell_type": "code",
   "execution_count": 129,
   "metadata": {},
   "outputs": [
    {
     "data": {
      "image/png": "[encoded data removed]",
      "text/plain": [
       "<Figure size 443.077x360 with 1 Axes>"
      ]
     },
     "metadata": {
      "needs_background": "light"
     },
     "output_type": "display_data"
    }
   ],
   "source": [
    "plt.plot(fpr, tpr, label=\"ROC (AUC = %0.2f)\" % roc_auc)\n",
    "plt.plot([0, 1], [0, 1], lw=2, linestyle=\"--\")\n",
    "plt.xlim([0.0, 1.0])\n",
    "plt.ylim([0.0, 1.05])\n",
    "plt.xlabel(\"False Positive Rate\")\n",
    "plt.ylabel(\"True Positive Rate\")\n",
    "plt.title(\"Lens/no-lens classification performance\")\n",
    "plt.legend(loc=\"lower right\")\n",
    "plt.show()"
   ]
  },
  {
   "cell_type": "code",
   "execution_count": null,
   "metadata": {},
   "outputs": [],
   "source": []
  }
 ],
 "metadata": {
  "kernelspec": {
   "display_name": "Python 3 (ipykernel)",
   "language": "python",
   "name": "python3"
  },
  "language_info": {
   "codemirror_mode": {
    "name": "ipython",
    "version": 3
   },
   "file_extension": ".py",
   "mimetype": "text/x-python",
   "name": "python",
   "nbconvert_exporter": "python",
   "pygments_lexer": "ipython3",
   "version": "3.9.5"
  }
 },
 "nbformat": 4,
 "nbformat_minor": 4
}
