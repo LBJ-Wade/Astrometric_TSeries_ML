{
 "cells": [
  {
   "cell_type": "code",
   "execution_count": 1,
   "id": "57dbd6b9",
   "metadata": {},
   "outputs": [
    {
     "name": "stdout",
     "output_type": "stream",
     "text": [
      "The autoreload extension is already loaded. To reload it, use:\n",
      "  %reload_ext autoreload\n"
     ]
    }
   ],
   "source": [
    "%load_ext autoreload\n",
    "%matplotlib inline"
   ]
  },
  {
   "cell_type": "markdown",
   "id": "3ea5e630",
   "metadata": {},
   "source": [
    "- The fact that so many lenses are able to contribute to the deflection might be a relic of using point like lenses.  Try making them finite size, i.e. look into Gaussian lenses from Sid+Ken et alo's PS paper. (they are somewhere between pointlike and fluffy sub-halos)\n",
    "- microlensing are good at point like objects"
   ]
  },
  {
   "cell_type": "code",
   "execution_count": 2,
   "id": "3ab2ad2f",
   "metadata": {},
   "outputs": [],
   "source": [
    "%autoreload\n",
    "\n",
    "import numpy as np\n",
    "import pickle\n",
    "\n",
    "from scipy.interpolate import interp1d\n",
    "import scipy.stats as stat\n",
    "\n",
    "# Astropy\n",
    "from astropy.coordinates import SkyCoord\n",
    "from astropy import units as u\n",
    "import astropy.coordinates as coord\n",
    "\n",
    "# lenstools\n",
    "import lenstools as lt\n",
    "\n",
    "# Convenient variables\n",
    "pi   = np.pi\n",
    "norm = np.linalg.norm\n",
    "mult = np.matmul\n",
    "dot  = np.dot"
   ]
  },
  {
   "cell_type": "markdown",
   "id": "e3a9f321",
   "metadata": {},
   "source": [
    "Questions:\n",
    "- We can find the circular motion of the sun around the Milky Way by following the references in `coord.Galactocentric().frame_attribute_references`. But the sun isn't the only star on a circular path.  Shouldn't all stars have circular paths?  And doesn't that affect our ability to see multiblips?  We should start somewhere easier.\n",
    "- Doesn't the observed flux of the star also increase due to lensing (i.e. focusing)? Shouldn't that be taken into account?\n",
    "- How does Gaia determine the distance?  Angular position makes sense, and so I know how a lens would distort the apparent angular position.  But what about apparent vs. observed distance?\n",
    "- What about multiple deflections?  Three lenses somewhat along the line of sight -> confusing geometry of the observed source.\n",
    "- For a $10^8 M_\\odot$ compact source, the source can have an impact parameter of $3 Mpc$ and produce a $\\mu as$ deflection.  Seems suspiciously sensitive.... however based on Ken's paper, it's true.\n",
    "- However, the above seems to tell me that the approximations going into Ken's lens equation (small angle, etc.) aren't valid anymore.  I've found \\href[Virbhadra+Ellis](https://arxiv.org/pdf/astro-ph/9904193.pdf) for the full equation.\n",
    "- If such far away objects can deflect source light significantly, and there are many such objects throughout the halo, shouldn't we use an equation that involves many lenses?"
   ]
  },
  {
   "cell_type": "markdown",
   "id": "46573def",
   "metadata": {},
   "source": [
    "TODO:\n",
    "- Figure out feasibility (what will GAIA measure?  What are our capabilities? Is this a good idea, or a solution in search of a problem?)\n",
    "- What should we look for: sub-haloes, exotic compact objects (Diss DM Rouven1812), minihaloes (erickcek), PBHs"
   ]
  },
  {
   "cell_type": "markdown",
   "id": "5fe080c7",
   "metadata": {},
   "source": [
    "Two possibilities:\n",
    "- $\\textbf{Conceptually simple}$: source (6d position, intrinsic props?), lens (6d position, intrinsic params), properties of Gaia?\n",
    "- $\\textbf{Technically simple}$:  What are the dof's? Cut them down with spherical symmetry. source (distance away, perp velocity), lens (distance, impact parameter, enclosed mass, perp velocity)\n",
    "\n",
    "\n",
    "Progression:\n",
    "1. Assume a simple reference frame where the observer is at the origin, the orientation is fixed and arbitrary, and the sources and lenses move in straight lines.\n",
    "2. Add the parallax effect.\n",
    "3. Put the origin in the Galactic center, sample lenses and sources wrt the center, put the observer at its correct position (8kpc away). Assume no rotations, just a stationary observer and linear motions of lenses and sources. The linear motions can be given by the Jeans Equation with simple approximations.\n",
    "4. Put in coherent motions of lenses, sources, and observer around the center."
   ]
  },
  {
   "cell_type": "markdown",
   "id": "ae1707b5",
   "metadata": {},
   "source": [
    "# 1. Simple Frame, Simple Distributions"
   ]
  },
  {
   "cell_type": "markdown",
   "id": "d60fc120",
   "metadata": {},
   "source": [
    "## Initialization"
   ]
  },
  {
   "cell_type": "code",
   "execution_count": 3,
   "id": "7a108f43",
   "metadata": {},
   "outputs": [],
   "source": [
    "# Number of sources, lenses\n",
    "N_s, N_l = 20, 10\n",
    "\n",
    "# compact object mass, in solar masses\n",
    "M_co = 1e7 * u.M_sun\n",
    "\n",
    "# Average Distance of source according to Gaia DR2\n",
    "R_s  = 600 * u.pc\n"
   ]
  },
  {
   "cell_type": "code",
   "execution_count": 4,
   "id": "093aca63",
   "metadata": {},
   "outputs": [
    {
     "name": "stdout",
     "output_type": "stream",
     "text": [
      "\n",
      "What the observer sees without a lens (\\theta, \\phi): \n",
      "\t[ 1.01675008 -0.25306145] rad\n",
      "\n",
      "\n",
      "Deviation induced by lens\n",
      "Ken's formula: \n",
      "\t[ 2.45820798 -0.56675307] mas\n",
      "\n",
      "quadratic formula:\n",
      "\t[ 4.52671389 -1.0436582 ] mas\n"
     ]
    }
   ],
   "source": [
    "%autoreload\n",
    "\n",
    "observer = lt.Observer()\n",
    "lens, src = lt.sample('relative', scale=np.array([4,4,.1])*u.kpc, observer=observer)\n",
    "lens.M = M_co\n",
    "\n",
    "# (4*lt.G_N*lens.M/lt.c**2 / lt.mu_as).to(u.pc)\n",
    "\n",
    "n = (lens.x-observer.x)/norm(lens.x-observer.x)\n",
    "# print(\n",
    "#     'Dl: ',  dot(n,lens.x), '\\n',\n",
    "#     'Ds: ',  dot(n,src.x), '\\n',\n",
    "#     '|b|: ', norm(src.x - dot(n,src.x)*n),\n",
    "#     sep=''\n",
    "# )\n",
    "\n",
    "print(\n",
    "    '\\nWhat the observer sees without a lens (\\\\theta, \\phi): \\n\\t', \n",
    "    observer.observe(src), \n",
    "    sep=''\n",
    ")\n",
    "\n",
    "print(\n",
    "    '\\n\\nDeviation induced by lens',\n",
    "    '\\nKen\\'s formula: \\n\\t', \n",
    "    (observer.observe(src, lens, method='fully_approximate') - observer.observe(src)).to(u.mas), \n",
    "    sep=''\n",
    ")\n",
    "\n",
    "# print(\n",
    "#     '\\nquadratic formula: \\n\\t\\Delta \\\\theta+:', \n",
    "#     observer.observe(src, lens, method='quadratic')[0] - observer.observe(src), \n",
    "#     '\\n\\t\\Delta \\\\theta-:',\n",
    "#     observer.observe(src, lens, method='quadratic')[1] - observer.observe(src), \n",
    "#     sep=''\n",
    "# )\n",
    "\n",
    "print(\n",
    "    '\\nquadratic formula:\\n\\t', \n",
    "    (observer.observe(src, lens, method='quadratic') - observer.observe(src)).to(u.mas), \n",
    "    sep=''\n",
    ")"
   ]
  },
  {
   "cell_type": "code",
   "execution_count": 5,
   "id": "8ca3c59a",
   "metadata": {},
   "outputs": [
    {
     "data": {
      "text/latex": [
       "$1.0227122 \\; \\mathrm{\\frac{kpc}{yr}}$"
      ],
      "text/plain": [
       "<Quantity 1.02271217 kpc / yr>"
      ]
     },
     "execution_count": 5,
     "metadata": {},
     "output_type": "execute_result"
    }
   ],
   "source": [
    "(1e9*u.km/u.s).to(u.kpc/u.yr)"
   ]
  },
  {
   "cell_type": "code",
   "execution_count": 81,
   "id": "fb01ecab",
   "metadata": {},
   "outputs": [],
   "source": [
    "%autoreload\n",
    "# lens.M*=10\n",
    "lens_tmp = lens.copy()\n",
    "src_tmp = src.copy()\n",
    "\n",
    "fac=1\n",
    "fac2=5\n",
    "\n",
    "lens_tmp.v = np.array([0,0,0]) * u.km/u.s\n",
    "lens_tmp.x = np.array([0,0,1]) * u.kpc\n",
    "lens_tmp.M = 1e6 * u.M_sun\n",
    "\n",
    "src_tmp.v = np.array([1,0,0]) * 1e6*fac*fac2 * u.km/u.s\n",
    "src_tmp.x = np.array([-.01*fac2,.01,2]) * u.kpc\n",
    "\n",
    "# src_tmp.time_evolve(dt=-25*0.1*u.yr)\n",
    "# lens_tmp.time_evolve(dt=-25*0.1*u.yr)\n",
    "\n",
    "tmp1, tmp2 = observer.observe(src_tmp, lens_tmp, method='fully_approximate', N=100, dt=0.2/fac * u.yr)\n",
    "\n",
    "# tmp1, tmp2 = observer.observe(src_tmp, lens_tmp, method='quadratic', N=100, dt=0.2/fac * u.yr)\n",
    "\n",
    "t_vec = np.arange(0,2/fac,.02/fac)"
   ]
  },
  {
   "cell_type": "code",
   "execution_count": 78,
   "id": "16717eef",
   "metadata": {},
   "outputs": [
    {
     "data": {
      "text/plain": [
       "[<matplotlib.lines.Line2D at 0x135717400>]"
      ]
     },
     "execution_count": 78,
     "metadata": {},
     "output_type": "execute_result"
    },
    {
     "data": {
      "image/png": "[encoded data removed]",
      "text/plain": [
       "<Figure size 432x288 with 1 Axes>"
      ]
     },
     "metadata": {
      "needs_background": "light"
     },
     "output_type": "display_data"
    }
   ],
   "source": [
    "plt.figure()\n",
    "plt.plot(tmp1[:,0], tmp1[:,1])\n",
    "plt.plot(tmp2[:,0], tmp2[:,1])\n"
   ]
  },
  {
   "cell_type": "markdown",
   "id": "bbd7b00f",
   "metadata": {},
   "source": [
    "We should see how quickly this deviation becomes visible by eye as the impact parameter goes to zero."
   ]
  },
  {
   "cell_type": "code",
   "execution_count": 79,
   "id": "53ba9406",
   "metadata": {
    "collapsed": true
   },
   "outputs": [
    {
     "data": {
      "text/plain": [
       "[<matplotlib.lines.Line2D at 0x1357f0b80>]"
      ]
     },
     "execution_count": 79,
     "metadata": {},
     "output_type": "execute_result"
    },
    {
     "data": {
      "image/png": "[encoded data removed]",
      "text/plain": [
       "<Figure size 432x288 with 1 Axes>"
      ]
     },
     "metadata": {
      "needs_background": "light"
     },
     "output_type": "display_data"
    }
   ],
   "source": [
    "# plt.plot(t_vec, np.abs(tmp2[:,0]-tmp1[:,0]))\n",
    "plt.plot(t_vec, np.abs(tmp2[:,0]))\n",
    "plt.plot(t_vec, np.abs(tmp1[:,0]))\n",
    "# plt.plot(t_vec, np.abs(tmp2[:,1]-tmp1[:,1]))"
   ]
  },
  {
   "cell_type": "markdown",
   "id": "06ce4fe8",
   "metadata": {},
   "source": [
    "## Cross-Checks"
   ]
  },
  {
   "cell_type": "code",
   "execution_count": 35,
   "id": "357d5302",
   "metadata": {},
   "outputs": [
    {
     "name": "stdout",
     "output_type": "stream",
     "text": [
      "0.0\n",
      "1.2560739669470201e-15\n",
      "2.175583928816829e-15\n",
      "1.0877919644084146e-15\n",
      "9.930136612989092e-16\n",
      "2.808666774861361e-15\n",
      "0.0\n",
      "1.9984014443252818e-15\n",
      "2.085919684541963e-15\n",
      "9.930136612989092e-16\n"
     ]
    }
   ],
   "source": [
    "## Without a lens, I get the phi and theta of a source to machine precision\n",
    "\n",
    "for i in np.arange(10):\n",
    "    lens, source = lt.sample('relative', scale=8*u.kpc, observer=observer)\n",
    "    r = norm(source.x)\n",
    "    theta, phi = observer.observe(source)\n",
    "    print(norm(source.x.value - np.array(\n",
    "        [(r*np.sin(theta)*np.cos(phi)).value, \n",
    "        (r*np.sin(theta)*np.sin(phi)).value, \n",
    "        (r*np.cos(theta)).value])\n",
    "    ))"
   ]
  },
  {
   "cell_type": "markdown",
   "id": "2508062a",
   "metadata": {},
   "source": [
    "# 3. Distributions of Sources and Lenses"
   ]
  },
  {
   "cell_type": "code",
   "execution_count": null,
   "id": "781f826e",
   "metadata": {},
   "outputs": [],
   "source": [
    "lenses = lt.Lenses(\n",
    "    x = lt.sample_position(N[1], lt.R), \n",
    "    v = stat.norm.rvs(0, lt.v_esc, [N[1],3]),\n",
    "    M = M_co\n",
    ")\n",
    "\n",
    "sources = lt.Sources(\n",
    "    x = lt.sample_position(N[1], lt.R), \n",
    "    v = stat.norm.rvs(0, lt.v_esc, [N[1],3])\n",
    ")"
   ]
  },
  {
   "cell_type": "markdown",
   "id": "6cf4483f",
   "metadata": {},
   "source": [
    "# Convert to Sky Coordinates"
   ]
  },
  {
   "cell_type": "code",
   "execution_count": 9,
   "id": "585bddf1",
   "metadata": {},
   "outputs": [],
   "source": [
    "scnow = SkyCoord(\n",
    "    x=(x_srcs[:,0]*u.km).to(u.kpc),\n",
    "    y=(x_srcs[:,1]*u.km).to(u.kpc),\n",
    "    z=(x_srcs[:,2]*u.km).to(u.kpc),\n",
    "    frame='galactocentric'\n",
    ")\n",
    "scnow = scnow.transform_to(coord.ICRS)"
   ]
  },
  {
   "cell_type": "code",
   "execution_count": 28,
   "id": "3dbb0a19",
   "metadata": {},
   "outputs": [],
   "source": [
    "#!!! Pretending that the Earth's orbit is a circle with radius 1 AU\n",
    "amplitude = 1*u.kpc\n",
    "repr0 = scnow.barycentrictrueecliptic.cartesian\n",
    "\n",
    "def eclcart_to_spherical1(rep):\n",
    "    return rep.represent_as(coord.SphericalRepresentation)\n",
    "\n",
    "#scatkwargs = dict(s=mag_to_size(mag), alpha=.9, c=scnow.distance, cmap=darker_vidiris)\n",
    "scatkwargs = dict(alpha=.9)\n",
    "\n",
    "def animfunc(phase, eclcart_to_spherical, ax, ylims=(0, 90)):\n",
    "    drepr = coord.CartesianRepresentation([np.cos(phase),np.sin(phase),0]*amplitude)\n",
    "    rep = repr0 + drepr\n",
    "    srep = eclcart_to_spherical(rep)\n",
    "    \n",
    "    ax.cla()\n",
    "    # ax.set_title(f'Center={centerstr}, Earth semimajor axis={amplitude}')\n",
    "    ax.scatter(srep.lon.rad, 90-srep.lat.deg, **scatkwargs)\n",
    "    ax.set_ylim(*ylims)\n",
    "    ax.set_yticks(np.linspace(*ax.get_ylim(), 5)[1:])\n",
    "    ax.set_yticklabels(['{}'.format(int(90-yl)) for yl in ax.get_yticks()])\n",
    "    ax.grid(alpha=.5)"
   ]
  },
  {
   "cell_type": "code",
   "execution_count": 29,
   "id": "55cc742c",
   "metadata": {},
   "outputs": [
    {
     "data": {
      "image/png": "[encoded data removed]",
      "text/plain": [
       "<Figure size 400x400 with 1 Axes>"
      ]
     },
     "metadata": {},
     "output_type": "display_data"
    }
   ],
   "source": [
    "fig = plt.figure(figsize=(4, 4))\n",
    "ax = plt.subplot(projection='polar')\n",
    "\n",
    "\n",
    "animfunc(0, eclcart_to_spherical1, ax)"
   ]
  },
  {
   "cell_type": "code",
   "execution_count": 98,
   "id": "05bede22",
   "metadata": {},
   "outputs": [],
   "source": [
    "# repr0 = scnow.barycentrictrueecliptic.cartesian\n",
    "repr0 = scnow.icrs.cartesian\n",
    "\n",
    "phase=0\n",
    "drepr = coord.CartesianRepresentation([np.cos(phase),np.sin(phase),0]*amplitude)\n",
    "rep = repr0 + drepr\n",
    "# rep.represent_as(coord.ICRS)"
   ]
  },
  {
   "cell_type": "code",
   "execution_count": 99,
   "id": "af913cc9",
   "metadata": {},
   "outputs": [
    {
     "data": {
      "text/plain": [
       "<CartesianRepresentation (x, y, z) in kpc\n",
       "    [(-5.88491096,  -3.17144999,   3.26537629),\n",
       "     (-1.78705735,  -5.03318686,   0.49145424),\n",
       "     ( 2.12181245,  -4.81548062,  -9.31338091),\n",
       "     (-1.05714391,   2.24176212,  -3.60568316),\n",
       "     (-9.94418522,  -8.68866432,  -1.50307338),\n",
       "     ( 3.7048713 ,  -6.94958579, -10.73358314),\n",
       "     (-0.3648277 ,  -2.98405263,   1.79430698),\n",
       "     (-3.13936839,  -6.97368781,  -7.46274514),\n",
       "     (-9.25288161,  -8.7603972 ,  -6.27116545),\n",
       "     ( 2.26020559,  -6.61371122,  -7.13838266),\n",
       "     (-1.65667663, -13.07425287,  -4.58932112),\n",
       "     ( 7.6833585 ,  -3.68172812,  -2.08089504),\n",
       "     (-4.68418629, -12.05147278,   2.84192512),\n",
       "     (-1.95375495,  -4.59401553, -13.32005351),\n",
       "     (-0.15167927, -14.59132701,  -2.58342049),\n",
       "     ( 0.04703921, -12.81225564,  -7.54114061),\n",
       "     (-2.6646762 ,  -3.96574743,  -5.06596959),\n",
       "     ( 1.05224875,  -3.79933595,   3.73953472),\n",
       "     ( 2.26879884,  -8.18843645,  -1.38900304),\n",
       "     (-3.11827705,  -5.19385553,  -7.69231472)]>"
      ]
     },
     "execution_count": 99,
     "metadata": {},
     "output_type": "execute_result"
    }
   ],
   "source": [
    "rep"
   ]
  },
  {
   "cell_type": "markdown",
   "id": "3d1fe6c9",
   "metadata": {},
   "source": [
    "### SkyCoord Practice"
   ]
  },
  {
   "cell_type": "code",
   "execution_count": 6,
   "id": "ec8cff56",
   "metadata": {},
   "outputs": [],
   "source": [
    "from astropy.coordinates import SkyCoord\n",
    "from astropy import units as u\n",
    "import astropy.coordinates as coord"
   ]
  },
  {
   "cell_type": "code",
   "execution_count": 7,
   "id": "bf63116f",
   "metadata": {},
   "outputs": [],
   "source": [
    "from astropy.time import Time\n",
    "c = SkyCoord(l=10*u.degree, b=45*u.degree, distance=100*u.pc,\n",
    "              pm_l_cosb=34*u.mas/u.yr, pm_b=-117*u.mas/u.yr,\n",
    "              frame='galactic',\n",
    "              obstime=Time('1988-12-18 05:11:23.5'))\n",
    "\n",
    "c = coord.SkyCoord(ra=[158.3122, 24.5] * u.degree,\n",
    "                    dec=[-17.3, 81.52] * u.degree,\n",
    "                    distance=[11.5, 24.12] * u.kpc)"
   ]
  },
  {
   "cell_type": "code",
   "execution_count": 8,
   "id": "c162737c",
   "metadata": {},
   "outputs": [
    {
     "data": {
      "text/plain": [
       "<SkyCoord (ICRS): (ra, dec, distance) in (deg, deg, kpc)\n",
       "    [(158.3122, -17.3 , 11.5 ), ( 24.5   ,  81.52, 24.12)]>"
      ]
     },
     "execution_count": 8,
     "metadata": {},
     "output_type": "execute_result"
    }
   ],
   "source": [
    "c"
   ]
  },
  {
   "cell_type": "code",
   "execution_count": 9,
   "id": "0032a4a4",
   "metadata": {},
   "outputs": [
    {
     "data": {
      "text/latex": [
       "$100000 \\; \\mathrm{pc}$"
      ],
      "text/plain": [
       "<Quantity 100000. pc>"
      ]
     },
     "execution_count": 9,
     "metadata": {},
     "output_type": "execute_result"
    }
   ],
   "source": [
    "(1e-2*u.mas).to(u.pc, u.parallax())"
   ]
  },
  {
   "cell_type": "code",
   "execution_count": 10,
   "id": "9100ec3b",
   "metadata": {},
   "outputs": [
    {
     "data": {
      "text/plain": [
       "<bound method Quantity.to of <Quantity 0.01 mas>>"
      ]
     },
     "execution_count": 10,
     "metadata": {},
     "output_type": "execute_result"
    }
   ],
   "source": [
    "(1e-2*u.mas).to"
   ]
  },
  {
   "cell_type": "code",
   "execution_count": 11,
   "id": "ff1d5c19",
   "metadata": {},
   "outputs": [
    {
     "data": {
      "text/plain": [
       "<SkyCoord (Galactocentric: galcen_coord=<ICRS Coordinate: (ra, dec) in deg\n",
       "    (266.4051, -28.936175)>, galcen_distance=8.122 kpc, galcen_v_sun=(12.9, 245.6, 7.78) km / s, z_sun=20.8 pc, roll=0.0 deg): (x, y, z) in kpc\n",
       "    [( -9.43489286, -9.40062188, 6.51345359),\n",
       "     (-21.11044918, 18.76334013, 7.83175149)]>"
      ]
     },
     "execution_count": 11,
     "metadata": {},
     "output_type": "execute_result"
    }
   ],
   "source": [
    "c.transform_to(coord.Galactocentric) "
   ]
  },
  {
   "cell_type": "code",
   "execution_count": 63,
   "id": "c08d186c",
   "metadata": {},
   "outputs": [
    {
     "data": {
      "text/plain": [
       "63241.077084266275"
      ]
     },
     "execution_count": 63,
     "metadata": {},
     "output_type": "execute_result"
    }
   ],
   "source": [
    "(u.lightyear/u.au).decompose().scale"
   ]
  },
  {
   "cell_type": "code",
   "execution_count": 51,
   "id": "985122c7",
   "metadata": {},
   "outputs": [],
   "source": [
    "ra = np.array([10.1,1.1,2.0, 0.2])*u.rad\n",
    "dec = np.array([1.1, 1.0, 0.02, 0.5])*u.rad\n",
    "dist = (np.array([100.2,5.5,1.0, 2.2])*u.mas).to(u.pc, u.parallax())\n",
    "\n",
    "scnow = SkyCoord(ra, dec, distance=dist)\n",
    "x,y,z = scnow.cartesian.xyz"
   ]
  },
  {
   "cell_type": "code",
   "execution_count": 44,
   "id": "23d5424e",
   "metadata": {},
   "outputs": [],
   "source": [
    "repr0 = scnow.barycentrictrueecliptic.cartesian"
   ]
  },
  {
   "cell_type": "code",
   "execution_count": 46,
   "id": "0d4e425a",
   "metadata": {},
   "outputs": [
    {
     "data": {
      "text/plain": [
       "<SphericalRepresentation (lon, lat, distance) in (rad, rad, pc)\n",
       "    [(0.72018533,  0.92671848,    9.98003992),\n",
       "     (1.26500575,  0.61933823,  181.81818182),\n",
       "     (2.02965064, -0.35040349, 1000.        ),\n",
       "     (0.38706697,  0.37956058,  454.54545455)]>"
      ]
     },
     "execution_count": 46,
     "metadata": {},
     "output_type": "execute_result"
    }
   ],
   "source": [
    "repr0.represent_as(SphericalRepresentation)"
   ]
  },
  {
   "cell_type": "code",
   "execution_count": 16,
   "id": "08572bb8",
   "metadata": {},
   "outputs": [],
   "source": [
    "# How can I start in a frame centered at the center of the Milky Way?\n",
    "sc_srcs = SkyCoord(\n",
    "    representation_type='cartesian',\n",
    "    x = x_srcs[:,0],\n",
    "    y = x_srcs[:,1],\n",
    "    z = x_srcs[:,2]\n",
    ")"
   ]
  },
  {
   "cell_type": "markdown",
   "id": "89d798fb",
   "metadata": {},
   "source": [
    "# GAIA DR2"
   ]
  },
  {
   "cell_type": "markdown",
   "id": "8d400505",
   "metadata": {},
   "source": [
    "I am following [this](https://gist.github.com/eteq/02a0065f15da3b3d8c2a9dea146a2a14#file-parallax_gaiadr2-ipynb) code. \n",
    "\n",
    "Also, [astroquery](https://astroquery.readthedocs.io/en/v0.3.9/index.html#archives) seems interesting enough to learn more about.\n",
    "\n",
    "Another way to download data [here](https://www.cosmos.esa.int/web/gaia-users/archive/programmatic-access#command_Sect1)."
   ]
  },
  {
   "cell_type": "code",
   "execution_count": 32,
   "id": "8a6e6761",
   "metadata": {},
   "outputs": [],
   "source": [
    "import numpy as np\n",
    "\n",
    "from termcolor import cprint\n",
    "\n",
    "import astropy.units as u\n",
    "from astropy.io import votable\n",
    "from astropy.coordinates import SkyCoord, CartesianRepresentation, SphericalRepresentation, matrix_utilities\n",
    "from astropy.table import Table\n",
    "\n",
    "from matplotlib import cm, colors, pyplot as plt\n",
    "from matplotlib import animation\n",
    "from IPython.display import HTML\n",
    "\n",
    "from astroquery import gaia\n",
    "from astroquery.gaia import Gaia as g\n",
    "from astroquery.utils.tap import TapPlus"
   ]
  },
  {
   "cell_type": "code",
   "execution_count": 33,
   "id": "b8be2ba2",
   "metadata": {},
   "outputs": [],
   "source": [
    "using_ari = False\n",
    "def fix_ari_query(job):\n",
    "    from urllib.request import urlopen\n",
    "    from xml import etree\n",
    "\n",
    "    remtree = etree.ElementTree.parse(urlopen(job.get_remote_location()))\n",
    "\n",
    "    res_elem = remtree.find('*/{http://www.ivoa.net/xml/UWS/v1.0}result')\n",
    "    res_url = res_elem.attrib['{http://www.w3.org/1999/xlink}href']\n",
    "    res_url\n",
    "\n",
    "    vtab = votable.parse(res_url)\n",
    "\n",
    "    for fi in vtab.iter_fields_and_params():\n",
    "        if not isinstance(fi, votable.tree.Field):\n",
    "            continue #params\n",
    "        fi.ID = fi.name\n",
    "    return vtab.get_first_table().to_table()"
   ]
  },
  {
   "cell_type": "code",
   "execution_count": 36,
   "id": "f0a33b37",
   "metadata": {},
   "outputs": [
    {
     "name": "stdout",
     "output_type": "stream",
     "text": [
      "INFO: Retrieving tables... [astroquery.utils.tap.core]\n",
      "INFO: Parsing tables... [astroquery.utils.tap.core]\n",
      "INFO: Done. [astroquery.utils.tap.core]\n"
     ]
    }
   ],
   "source": [
    "## Load metadata\n",
    "tmp = g.load_tables()\n",
    "print(tmp[0].get_qualified_name())\n",
    "tds = {t.get_qualified_name():t for t in tmp}\n",
    "for key in tds.keys():\n",
    "    if 'source' in key:\n",
    "        print(key)\n",
    "\n",
    "# tmp2 = g.load_table('gaiadr2.gaia_source')"
   ]
  },
  {
   "cell_type": "code",
   "execution_count": null,
   "id": "52b6b936",
   "metadata": {},
   "outputs": [],
   "source": [
    "from astroquery.gaia import Gaia as g\n",
    "import astropy.units as u\n",
    "from astropy.io import votable\n",
    "from astropy.coordinates import SkyCoord, CartesianRepresentation, SphericalRepresentation, matrix_utilities\n",
    "from astropy.table import Table"
   ]
  },
  {
   "cell_type": "code",
   "execution_count": 64,
   "id": "ffb6e93f",
   "metadata": {},
   "outputs": [
    {
     "name": "stdout",
     "output_type": "stream",
     "text": [
      "INFO: Query finished. [astroquery.utils.tap.core]\n"
     ]
    },
    {
     "data": {
      "text/plain": [
       "478688"
      ]
     },
     "execution_count": 64,
     "metadata": {},
     "output_type": "execute_result"
    }
   ],
   "source": [
    "## Load actual data\n",
    "\n",
    "pclim = 10*u.kpc\n",
    "pxlim = pclim.to(u.marcsec, u.parallax())\n",
    "\n",
    "mag = 10 # 12\n",
    "\n",
    "qry=f\"\"\"\n",
    "SELECT *\n",
    "FROM gaiadr2.gaia_source\n",
    "WHERE parallax >= {pxlim.value} AND phot_g_mean_mag <= {mag}\n",
    "\"\"\"\n",
    "\n",
    "job = g.launch_job_async(qry)\n",
    "tab = job.get_results()\n",
    "len(tab)\n",
    "\n",
    "# pickle.dump(tab, open('/Users/gregoryridgway/Desktop/AstroML/data/Gaia_DR2', 'wb'))\n",
    "# pickle.dump(tab, open('/Users/gregoryridgway/Desktop/AstroML/data/Gaia_DR2_10kpc_mag10', 'wb'))"
   ]
  },
  {
   "cell_type": "code",
   "execution_count": 336,
   "id": "3ff2458c",
   "metadata": {},
   "outputs": [
    {
     "data": {
      "text/html": [
       "<div><i>Table length=478688</i>\n",
       "<table id=\"table5375781232\" class=\"table-striped table-bordered table-condensed\">\n",
       "<thead><tr><th>solution_id</th><th>designation</th><th>source_id</th><th>random_index</th><th>ref_epoch</th><th>ra</th><th>ra_error</th><th>dec</th><th>dec_error</th><th>parallax</th><th>parallax_error</th><th>parallax_over_error</th><th>pmra</th><th>pmra_error</th><th>pmdec</th><th>pmdec_error</th><th>ra_dec_corr</th><th>ra_parallax_corr</th><th>ra_pmra_corr</th><th>ra_pmdec_corr</th><th>dec_parallax_corr</th><th>dec_pmra_corr</th><th>dec_pmdec_corr</th><th>parallax_pmra_corr</th><th>parallax_pmdec_corr</th><th>pmra_pmdec_corr</th><th>astrometric_n_obs_al</th><th>astrometric_n_obs_ac</th><th>astrometric_n_good_obs_al</th><th>astrometric_n_bad_obs_al</th><th>astrometric_gof_al</th><th>astrometric_chi2_al</th><th>astrometric_excess_noise</th><th>astrometric_excess_noise_sig</th><th>astrometric_params_solved</th><th>astrometric_primary_flag</th><th>astrometric_weight_al</th><th>astrometric_pseudo_colour</th><th>astrometric_pseudo_colour_error</th><th>mean_varpi_factor_al</th><th>astrometric_matched_observations</th><th>visibility_periods_used</th><th>astrometric_sigma5d_max</th><th>frame_rotator_object_type</th><th>matched_observations</th><th>duplicated_source</th><th>phot_g_n_obs</th><th>phot_g_mean_flux</th><th>phot_g_mean_flux_error</th><th>phot_g_mean_flux_over_error</th><th>phot_g_mean_mag</th><th>phot_bp_n_obs</th><th>phot_bp_mean_flux</th><th>phot_bp_mean_flux_error</th><th>phot_bp_mean_flux_over_error</th><th>phot_bp_mean_mag</th><th>phot_rp_n_obs</th><th>phot_rp_mean_flux</th><th>phot_rp_mean_flux_error</th><th>phot_rp_mean_flux_over_error</th><th>phot_rp_mean_mag</th><th>phot_bp_rp_excess_factor</th><th>phot_proc_mode</th><th>bp_rp</th><th>bp_g</th><th>g_rp</th><th>radial_velocity</th><th>radial_velocity_error</th><th>rv_nb_transits</th><th>rv_template_teff</th><th>rv_template_logg</th><th>rv_template_fe_h</th><th>phot_variable_flag</th><th>l</th><th>b</th><th>ecl_lon</th><th>ecl_lat</th><th>priam_flags</th><th>teff_val</th><th>teff_percentile_lower</th><th>teff_percentile_upper</th><th>a_g_val</th><th>a_g_percentile_lower</th><th>a_g_percentile_upper</th><th>e_bp_min_rp_val</th><th>e_bp_min_rp_percentile_lower</th><th>e_bp_min_rp_percentile_upper</th><th>flame_flags</th><th>radius_val</th><th>radius_percentile_lower</th><th>radius_percentile_upper</th><th>lum_val</th><th>lum_percentile_lower</th><th>lum_percentile_upper</th><th>datalink_url</th></tr></thead>\n",
       "<thead><tr><th></th><th></th><th></th><th></th><th>yr</th><th>deg</th><th>mas</th><th>deg</th><th>mas</th><th>mas</th><th>mas</th><th></th><th>mas / yr</th><th>mas / yr</th><th>mas / yr</th><th>mas / yr</th><th></th><th></th><th></th><th></th><th></th><th></th><th></th><th></th><th></th><th></th><th></th><th></th><th></th><th></th><th></th><th></th><th>mas</th><th></th><th></th><th></th><th>1 / mas2</th><th>1 / um</th><th>1 / um</th><th></th><th></th><th></th><th>mas</th><th></th><th></th><th></th><th></th><th>electron / s</th><th>electron / s</th><th></th><th>mag</th><th></th><th>electron / s</th><th>electron / s</th><th></th><th>mag</th><th></th><th>electron / s</th><th>electron / s</th><th></th><th>mag</th><th></th><th></th><th>mag</th><th>mag</th><th>mag</th><th>km / s</th><th>km / s</th><th></th><th>K</th><th>log(cm.s**-2)</th><th>dex</th><th></th><th>deg</th><th>deg</th><th>deg</th><th>deg</th><th></th><th>K</th><th>K</th><th>K</th><th>mag</th><th>mag</th><th>mag</th><th>mag</th><th>mag</th><th>mag</th><th></th><th>Rsun</th><th>Rsun</th><th>Rsun</th><th>Lsun</th><th>Lsun</th><th>Lsun</th><th></th></tr></thead>\n",
       "<thead><tr><th>int64</th><th>object</th><th>int64</th><th>int64</th><th>float64</th><th>float64</th><th>float64</th><th>float64</th><th>float64</th><th>float64</th><th>float64</th><th>float32</th><th>float64</th><th>float64</th><th>float64</th><th>float64</th><th>float32</th><th>float32</th><th>float32</th><th>float32</th><th>float32</th><th>float32</th><th>float32</th><th>float32</th><th>float32</th><th>float32</th><th>int32</th><th>int32</th><th>int32</th><th>int32</th><th>float32</th><th>float32</th><th>float64</th><th>float64</th><th>int16</th><th>bool</th><th>float32</th><th>float64</th><th>float64</th><th>float32</th><th>int16</th><th>int16</th><th>float32</th><th>int32</th><th>int16</th><th>bool</th><th>int32</th><th>float64</th><th>float64</th><th>float32</th><th>float32</th><th>int32</th><th>float64</th><th>float64</th><th>float32</th><th>float32</th><th>int32</th><th>float64</th><th>float64</th><th>float32</th><th>float32</th><th>float32</th><th>int16</th><th>float32</th><th>float32</th><th>float32</th><th>float64</th><th>float64</th><th>int32</th><th>float32</th><th>float32</th><th>float32</th><th>object</th><th>float64</th><th>float64</th><th>float64</th><th>float64</th><th>int64</th><th>float32</th><th>float32</th><th>float32</th><th>float32</th><th>float32</th><th>float32</th><th>float32</th><th>float32</th><th>float32</th><th>int64</th><th>float32</th><th>float32</th><th>float32</th><th>float32</th><th>float32</th><th>float32</th><th>object</th></tr></thead>\n",
       "<tr><td>1635721458409799680</td><td>Gaia DR2 4038055447710650240</td><td>4038055447710650240</td><td>1422926548</td><td>2015.5</td><td>274.4061143187362</td><td>0.8484865818441963</td><td>-36.76240607839242</td><td>0.7699228339052769</td><td>19.653809686071373</td><td>0.9336287242586353</td><td>21.050991</td><td>-131.91735165925866</td><td>1.5866347182871663</td><td>-164.92287295610117</td><td>1.4493621781679744</td><td>-0.04765288</td><td>-0.30638885</td><td>-0.20533392</td><td>-0.06941658</td><td>-0.2043609</td><td>0.010371089</td><td>-0.30376002</td><td>-0.21814625</td><td>0.1171404</td><td>-0.12497318</td><td>114</td><td>114</td><td>109</td><td>5</td><td>191.20386</td><td>98974.65</td><td>3.4410265572801118</td><td>3131.561904869388</td><td>31</td><td>False</td><td>0.07572304</td><td>2.0456258319976923</td><td>0.23699778325590104</td><td>-0.20245567</td><td>14</td><td>9</td><td>0.8074792</td><td>0</td><td>18</td><td>False</td><td>115</td><td>3201722897.2008457</td><td>19443470.355373625</td><td>164.66829</td><td>1.9249064</td><td>17</td><td>434382474.8477304</td><td>12789430.381139927</td><td>33.964176</td><td>3.7567074</td><td>17</td><td>1444134724.0162575</td><td>31913219.62981784</td><td>45.251926</td><td>1.8629007</td><td>0.5867207</td><td>0</td><td>1.8938067</td><td>1.831801</td><td>0.06200564</td><td>--</td><td>--</td><td>0</td><td>--</td><td>--</td><td>--</td><td>NOT_AVAILABLE</td><td>356.43209109585257</td><td>-9.676937844208421</td><td>273.6271682533203</td><td>-13.378586037363576</td><td>101001</td><td>4732.6665</td><td>3616.0</td><td>6756.0</td><td>--</td><td>--</td><td>--</td><td>--</td><td>--</td><td>--</td><td>--</td><td>--</td><td>--</td><td>--</td><td>--</td><td>--</td><td>--</td><td>https://gea.esac.esa.int/data-server/datalink/links?ID=Gaia+DR2+4038055447710650240</td></tr>\n",
       "<tr><td>1635721458409799680</td><td>Gaia DR2 5589311357724458368</td><td>5589311357724458368</td><td>373558530</td><td>2015.5</td><td>109.28559761663782</td><td>0.9067893635565435</td><td>-37.097446909729776</td><td>0.9344878893445064</td><td>3.7974625279057883</td><td>1.0619630885874203</td><td>3.5758893</td><td>-14.637400320746199</td><td>1.982978013256365</td><td>2.28343468295344</td><td>1.8069423039260906</td><td>-0.011283606</td><td>0.16704658</td><td>-0.051747303</td><td>0.053808548</td><td>0.11057641</td><td>0.11970558</td><td>-0.0012748693</td><td>0.33867797</td><td>-0.16565764</td><td>-0.10245415</td><td>124</td><td>124</td><td>116</td><td>8</td><td>240.82486</td><td>181146.06</td><td>4.44286152540561</td><td>6091.735311413855</td><td>31</td><td>False</td><td>0.046741415</td><td>2.6711427396604037</td><td>0.3283555003999547</td><td>0.09970463</td><td>17</td><td>11</td><td>1.0016588</td><td>0</td><td>20</td><td>True</td><td>131</td><td>3070121033.874391</td><td>56371643.13836717</td><td>54.462154</td><td>1.970477</td><td>17</td><td>562170769.9009873</td><td>19087660.245564424</td><td>29.452053</td><td>3.4767175</td><td>17</td><td>1398816943.5583386</td><td>35734370.13811199</td><td>39.14486</td><td>1.8975178</td><td>0.638733</td><td>0</td><td>1.5791997</td><td>1.5062405</td><td>0.072959185</td><td>--</td><td>--</td><td>0</td><td>--</td><td>--</td><td>--</td><td>NOT_AVAILABLE</td><td>249.01061044207498</td><td>-11.279045536625086</td><td>120.30061408895084</td><td>-58.52489957621188</td><td>101001</td><td>4732.6665</td><td>3628.5</td><td>6756.0</td><td>--</td><td>--</td><td>--</td><td>--</td><td>--</td><td>--</td><td>--</td><td>--</td><td>--</td><td>--</td><td>--</td><td>--</td><td>--</td><td>https://gea.esac.esa.int/data-server/datalink/links?ID=Gaia+DR2+5589311357724458368</td></tr>\n",
       "<tr><td>1635721458409799680</td><td>Gaia DR2 1869302503184405760</td><td>1869302503184405760</td><td>1323504946</td><td>2015.5</td><td>311.55470104855004</td><td>0.7001399152234918</td><td>33.97165785643453</td><td>0.8129119328587417</td><td>43.176897759176065</td><td>0.9383966859050774</td><td>46.01135</td><td>365.95378406370776</td><td>1.7794312080384187</td><td>308.7866768543131</td><td>1.7689989256425638</td><td>-0.13181947</td><td>-0.25349966</td><td>0.0472319</td><td>-0.0043808036</td><td>0.37772784</td><td>0.076620705</td><td>-0.082620464</td><td>0.1753863</td><td>0.054325733</td><td>-0.03344647</td><td>120</td><td>120</td><td>110</td><td>10</td><td>201.10074</td><td>113053.53</td><td>3.3815855253288274</td><td>3450.5208242401964</td><td>31</td><td>False</td><td>0.077987336</td><td>2.043111769640703</td><td>0.2117925996875702</td><td>0.03989892</td><td>16</td><td>12</td><td>0.8818119</td><td>0</td><td>20</td><td>True</td><td>124</td><td>2926006610.935876</td><td>17004353.310441907</td><td>172.07397</td><td>2.0226774</td><td>19</td><td>106035607.09620005</td><td>42193179.5448347</td><td>2.5130982</td><td>5.287759</td><td>18</td><td>1112221901.7938163</td><td>15073724.767160488</td><td>73.78547</td><td>2.1464415</td><td>0.416355</td><td>0</td><td>3.1413174</td><td>3.2650814</td><td>-0.12376404</td><td>--</td><td>--</td><td>0</td><td>--</td><td>--</td><td>--</td><td>NOT_AVAILABLE</td><td>75.95341978748462</td><td>-5.715753056523068</td><td>327.7486642112712</td><td>49.422902667804294</td><td>101001</td><td>4732.6665</td><td>3616.0</td><td>6756.0</td><td>--</td><td>--</td><td>--</td><td>--</td><td>--</td><td>--</td><td>--</td><td>--</td><td>--</td><td>--</td><td>--</td><td>--</td><td>--</td><td>https://gea.esac.esa.int/data-server/datalink/links?ID=Gaia+DR2+1869302503184405760</td></tr>\n",
       "<tr><td>1635721458409799680</td><td>Gaia DR2 4302054339950301696</td><td>4302054339950301696</td><td>387169172</td><td>2015.5</td><td>296.5649839440163</td><td>0.6436819615617786</td><td>10.613253300439279</td><td>0.6331567915724584</td><td>2.741463562983809</td><td>0.7881072213225203</td><td>3.4785414</td><td>13.558087882061871</td><td>1.3104494603732866</td><td>-0.4016424904745284</td><td>1.2009215147533134</td><td>0.12982132</td><td>-0.22113818</td><td>-0.014914623</td><td>0.023782713</td><td>-0.08972106</td><td>0.027576374</td><td>-0.116496235</td><td>-0.30869716</td><td>-0.1208243</td><td>0.09620649</td><td>130</td><td>130</td><td>123</td><td>7</td><td>198.29619</td><td>104511.06</td><td>3.070435867031976</td><td>2422.6765879414697</td><td>31</td><td>False</td><td>0.09180439</td><td>2.0644279418585643</td><td>0.21702557047539336</td><td>0.15170315</td><td>16</td><td>12</td><td>0.6602751</td><td>0</td><td>18</td><td>True</td><td>132</td><td>2878727655.715487</td><td>12201457.791520832</td><td>235.93309</td><td>2.0403643</td><td>18</td><td>577247045.4025881</td><td>15491663.565257315</td><td>37.261787</td><td>3.447984</td><td>18</td><td>1243807511.9463563</td><td>26562258.41112781</td><td>46.826122</td><td>2.025037</td><td>0.63259006</td><td>0</td><td>1.4229469</td><td>1.4076197</td><td>0.015327215</td><td>--</td><td>--</td><td>0</td><td>--</td><td>--</td><td>--</td><td>NOT_AVAILABLE</td><td>48.726049309853444</td><td>-7.081227972993355</td><td>300.93903390588986</td><td>31.243545008451665</td><td>101001</td><td>4732.6665</td><td>3843.0</td><td>6756.0</td><td>--</td><td>--</td><td>--</td><td>--</td><td>--</td><td>--</td><td>--</td><td>--</td><td>--</td><td>--</td><td>--</td><td>--</td><td>--</td><td>https://gea.esac.esa.int/data-server/datalink/links?ID=Gaia+DR2+4302054339950301696</td></tr>\n",
       "<tr><td>1635721458409799680</td><td>Gaia DR2 4429785739601541504</td><td>4429785739601541504</td><td>1457686529</td><td>2015.5</td><td>236.06755715935202</td><td>0.6565281733824535</td><td>6.425826685796823</td><td>0.6289552644558788</td><td>39.36963839348822</td><td>0.8513504039071745</td><td>46.243755</td><td>138.57623155291884</td><td>1.8926171552698963</td><td>46.915636208302175</td><td>2.095717463597688</td><td>0.02565869</td><td>-0.23434041</td><td>0.023681544</td><td>-0.0730267</td><td>-0.3066122</td><td>-0.23200935</td><td>0.28718123</td><td>0.26747018</td><td>-0.23411654</td><td>-0.39464244</td><td>110</td><td>110</td><td>100</td><td>10</td><td>175.49295</td><td>81075.47</td><td>2.7097710586979105</td><td>2368.213233126435</td><td>31</td><td>False</td><td>0.12110915</td><td>2.4616177324738064</td><td>0.19354017429454784</td><td>-0.049615294</td><td>13</td><td>9</td><td>1.1637493</td><td>0</td><td>14</td><td>True</td><td>117</td><td>2663216661.3492775</td><td>11386069.688501997</td><td>233.90132</td><td>2.1248496</td><td>12</td><td>555748098.9676614</td><td>23245160.963215467</td><td>23.90812</td><td>3.4891932</td><td>13</td><td>1092928402.1369622</td><td>47409677.12131199</td><td>23.052855</td><td>2.1654408</td><td>0.6190546</td><td>0</td><td>1.3237524</td><td>1.3643436</td><td>-0.04059124</td><td>--</td><td>--</td><td>0</td><td>--</td><td>--</td><td>--</td><td>NOT_AVAILABLE</td><td>14.203522905455038</td><td>44.0785936306196</td><td>232.07573490783096</td><td>25.508340929245243</td><td>101001</td><td>4732.6665</td><td>3851.25</td><td>6756.0</td><td>--</td><td>--</td><td>--</td><td>--</td><td>--</td><td>--</td><td>--</td><td>--</td><td>--</td><td>--</td><td>--</td><td>--</td><td>--</td><td>https://gea.esac.esa.int/data-server/datalink/links?ID=Gaia+DR2+4429785739601541504</td></tr>\n",
       "<tr><td>1635721458409799680</td><td>Gaia DR2 6227443304909889536</td><td>6227443304909889536</td><td>1433578917</td><td>2015.5</td><td>226.01721301839848</td><td>0.6983396335111751</td><td>-25.282153195983703</td><td>0.5821041228502564</td><td>7.923984513207018</td><td>0.7948903998846908</td><td>9.968651</td><td>-75.90906390478389</td><td>1.3297372314097982</td><td>-38.54051987415152</td><td>1.1308154094209097</td><td>-0.122098446</td><td>-0.3775828</td><td>-0.16161938</td><td>-0.23973</td><td>0.0854183</td><td>-0.1622312</td><td>0.038939707</td><td>-0.29934895</td><td>0.24799088</td><td>-0.09142622</td><td>93</td><td>93</td><td>88</td><td>5</td><td>141.95143</td><td>48188.797</td><td>2.321526948910874</td><td>1596.514077320036</td><td>31</td><td>False</td><td>0.16441777</td><td>2.2106536548041342</td><td>0.2210038714677974</td><td>-0.14241678</td><td>11</td><td>9</td><td>0.6684503</td><td>0</td><td>12</td><td>True</td><td>95</td><td>2640277280.4894733</td><td>21339088.299403585</td><td>123.72962</td><td>2.1342418</td><td>11</td><td>413704610.1709931</td><td>12172180.65583011</td><td>33.987717</td><td>3.8096623</td><td>11</td><td>1408934000.8313634</td><td>61411070.25193217</td><td>22.94267</td><td>1.8896934</td><td>0.6903209</td><td>1</td><td>1.919969</td><td>1.6754205</td><td>0.24454844</td><td>--</td><td>--</td><td>0</td><td>--</td><td>--</td><td>--</td><td>NOT_AVAILABLE</td><td>337.2219820122964</td><td>28.617741974253477</td><td>230.68700195419117</td><td>-7.644737846003542</td><td>101002</td><td>4710.0</td><td>3616.0</td><td>6589.0</td><td>--</td><td>--</td><td>--</td><td>--</td><td>--</td><td>--</td><td>--</td><td>--</td><td>--</td><td>--</td><td>--</td><td>--</td><td>--</td><td>https://gea.esac.esa.int/data-server/datalink/links?ID=Gaia+DR2+6227443304909889536</td></tr>\n",
       "<tr><td>1635721458409799680</td><td>Gaia DR2 4049506483413484672</td><td>4049506483413484672</td><td>532144575</td><td>2015.5</td><td>275.2486775206737</td><td>0.9991717620975913</td><td>-29.82821901708563</td><td>0.9867174036999292</td><td>0.7298641312956213</td><td>1.3870096661449784</td><td>0.5262142</td><td>36.58150903850877</td><td>1.9122538001567457</td><td>-20.75792895823451</td><td>1.485393327411047</td><td>0.14085262</td><td>-0.23677221</td><td>-0.20797345</td><td>-0.098661885</td><td>-0.41253433</td><td>0.21841371</td><td>-0.4809324</td><td>-0.6041887</td><td>0.24553749</td><td>-0.09590434</td><td>69</td><td>69</td><td>69</td><td>0</td><td>135.73396</td><td>46574.06</td><td>3.1050406871814102</td><td>1712.168769244269</td><td>31</td><td>False</td><td>0.09377857</td><td>1.6989935704683767</td><td>0.2774017757875593</td><td>-0.078140765</td><td>9</td><td>6</td><td>1.0345207</td><td>0</td><td>9</td><td>False</td><td>76</td><td>2606738864.701792</td><td>22783676.27978768</td><td>114.41257</td><td>2.1481218</td><td>9</td><td>519711618.54586256</td><td>13848890.728364758</td><td>37.52731</td><td>3.5619822</td><td>9</td><td>1078216123.8618171</td><td>14328278.533733528</td><td>75.250916</td><td>2.1801555</td><td>0.6129988</td><td>0</td><td>1.3818266</td><td>1.4138603</td><td>-0.032033682</td><td>--</td><td>--</td><td>0</td><td>--</td><td>--</td><td>--</td><td>NOT_AVAILABLE</td><td>3.000853479111415</td><td>-7.1547535598232255</td><td>274.5810293890008</td><td>-6.472365179197794</td><td>101001</td><td>4732.6665</td><td>3843.0</td><td>6756.0</td><td>--</td><td>--</td><td>--</td><td>--</td><td>--</td><td>--</td><td>--</td><td>--</td><td>--</td><td>--</td><td>--</td><td>--</td><td>--</td><td>https://gea.esac.esa.int/data-server/datalink/links?ID=Gaia+DR2+4049506483413484672</td></tr>\n",
       "<tr><td>1635721458409799680</td><td>Gaia DR2 5111187420712629632</td><td>5111187420712629632</td><td>251072878</td><td>2015.5</td><td>59.50763338363228</td><td>0.5380990257475361</td><td>-13.508997297697881</td><td>0.443609038926096</td><td>18.956223413457312</td><td>0.790581380643455</td><td>23.977573</td><td>58.77358856890851</td><td>0.7849916114828042</td><td>-112.74977748230101</td><td>0.7489065302940398</td><td>-0.065820694</td><td>0.5865416</td><td>0.094242916</td><td>-0.19859329</td><td>-0.14577667</td><td>-0.12081385</td><td>-0.260179</td><td>0.30128926</td><td>-0.21000877</td><td>-0.118474856</td><td>265</td><td>265</td><td>248</td><td>17</td><td>279.03027</td><td>204233.25</td><td>2.897225321210091</td><td>4337.3497078038745</td><td>31</td><td>False</td><td>0.108371414</td><td>2.5120163672623996</td><td>0.14819168447007103</td><td>0.029466541</td><td>34</td><td>14</td><td>0.44707638</td><td>0</td><td>41</td><td>True</td><td>301</td><td>2600769469.722616</td><td>12610954.6132067</td><td>206.23097</td><td>2.1506112</td><td>36</td><td>111566519.35419501</td><td>20799512.202127922</td><td>5.3639007</td><td>5.2325535</td><td>37</td><td>441472279.1038439</td><td>61118284.159711756</td><td>7.223244</td><td>3.1496613</td><td>0.2126443</td><td>0</td><td>2.0828922</td><td>3.0819423</td><td>-0.99905014</td><td>59.954691238798745</td><td>1.7733516432513454</td><td>2</td><td>5500.0</td><td>3.5</td><td>0.0</td><td>NOT_AVAILABLE</td><td>205.1628800541252</td><td>-44.4727352580827</td><td>53.867697422111135</td><td>-33.20266209231831</td><td>101101</td><td>4732.6665</td><td>3616.0</td><td>6756.0</td><td>--</td><td>--</td><td>--</td><td>--</td><td>--</td><td>--</td><td>--</td><td>--</td><td>--</td><td>--</td><td>--</td><td>--</td><td>--</td><td>https://gea.esac.esa.int/data-server/datalink/links?ID=Gaia+DR2+5111187420712629632</td></tr>\n",
       "<tr><td>1635721458409799680</td><td>Gaia DR2 5922444483086619520</td><td>5922444483086619520</td><td>1575780478</td><td>2015.5</td><td>261.3248898046725</td><td>0.7128212243240933</td><td>-55.52999303063296</td><td>0.7050657467628921</td><td>2.6943986539833666</td><td>0.6785086212179441</td><td>3.9710603</td><td>-7.058360803736206</td><td>1.438383884325914</td><td>-21.654340337617374</td><td>1.3192649859873373</td><td>-0.13123131</td><td>-0.2313108</td><td>-0.5438266</td><td>0.12127445</td><td>-0.04324445</td><td>0.15869857</td><td>-0.6674023</td><td>-0.0017574201</td><td>0.1384449</td><td>-0.038470864</td><td>159</td><td>159</td><td>145</td><td>14</td><td>212.23631</td><td>118301.414</td><td>2.9511284045026724</td><td>3483.066175149111</td><td>31</td><td>False</td><td>0.10530934</td><td>1.7262593245312103</td><td>0.19557885960779764</td><td>-0.06376271</td><td>20</td><td>10</td><td>0.7602511</td><td>0</td><td>22</td><td>True</td><td>161</td><td>2523593583.9705076</td><td>14598854.680055713</td><td>172.86244</td><td>2.1833172</td><td>21</td><td>503091180.7264701</td><td>18757944.62614733</td><td>26.820166</td><td>3.5972714</td><td>20</td><td>1126525998.022838</td><td>29732185.8150689</td><td>37.889107</td><td>2.132567</td><td>0.6457526</td><td>0</td><td>1.4647045</td><td>1.4139543</td><td>0.050750256</td><td>--</td><td>--</td><td>0</td><td>--</td><td>--</td><td>--</td><td>NOT_AVAILABLE</td><td>335.3670731043675</td><td>-11.012888023068045</td><td>264.2058115689464</td><td>-32.265064572352806</td><td>101001</td><td>4732.6665</td><td>3843.0</td><td>6756.0</td><td>--</td><td>--</td><td>--</td><td>--</td><td>--</td><td>--</td><td>--</td><td>--</td><td>--</td><td>--</td><td>--</td><td>--</td><td>--</td><td>https://gea.esac.esa.int/data-server/datalink/links?ID=Gaia+DR2+5922444483086619520</td></tr>\n",
       "<tr><td>...</td><td>...</td><td>...</td><td>...</td><td>...</td><td>...</td><td>...</td><td>...</td><td>...</td><td>...</td><td>...</td><td>...</td><td>...</td><td>...</td><td>...</td><td>...</td><td>...</td><td>...</td><td>...</td><td>...</td><td>...</td><td>...</td><td>...</td><td>...</td><td>...</td><td>...</td><td>...</td><td>...</td><td>...</td><td>...</td><td>...</td><td>...</td><td>...</td><td>...</td><td>...</td><td>...</td><td>...</td><td>...</td><td>...</td><td>...</td><td>...</td><td>...</td><td>...</td><td>...</td><td>...</td><td>...</td><td>...</td><td>...</td><td>...</td><td>...</td><td>...</td><td>...</td><td>...</td><td>...</td><td>...</td><td>...</td><td>...</td><td>...</td><td>...</td><td>...</td><td>...</td><td>...</td><td>...</td><td>...</td><td>...</td><td>...</td><td>...</td><td>...</td><td>...</td><td>...</td><td>...</td><td>...</td><td>...</td><td>...</td><td>...</td><td>...</td><td>...</td><td>...</td><td>...</td><td>...</td><td>...</td><td>...</td><td>...</td><td>...</td><td>...</td><td>...</td><td>...</td><td>...</td><td>...</td><td>...</td><td>...</td><td>...</td><td>...</td><td>...</td><td>...</td></tr>\n",
       "<tr><td>1635721458409799680</td><td>Gaia DR2 4547579134706488192</td><td>4547579134706488192</td><td>257677201</td><td>2015.5</td><td>257.6789148577721</td><td>0.023453715594074737</td><td>16.558220194211984</td><td>0.029530030127623945</td><td>4.194711465225483</td><td>0.02976245702443198</td><td>140.9397</td><td>0.6334037725777024</td><td>0.04960238700923416</td><td>-5.9185991540664595</td><td>0.05600388957003633</td><td>0.26280627</td><td>0.079723455</td><td>-0.60756797</td><td>-0.28950718</td><td>-0.12660743</td><td>-0.26758856</td><td>-0.70335287</td><td>-0.25303736</td><td>0.08914503</td><td>0.2943156</td><td>248</td><td>248</td><td>240</td><td>8</td><td>8.015608</td><td>454.0918</td><td>0.0</td><td>0.0</td><td>31</td><td>True</td><td>310.07333</td><td>1.6113405194991715</td><td>0.006091676889374199</td><td>0.05174648</td><td>28</td><td>15</td><td>0.046975058</td><td>0</td><td>31</td><td>False</td><td>238</td><td>1885174.8815990728</td><td>538.1787600820451</td><td>3502.8787</td><td>9.999987</td><td>27</td><td>1030022.629834956</td><td>864.5480328525223</td><td>1191.4001</td><td>10.319271</td><td>29</td><td>1218145.5797878325</td><td>884.487523120292</td><td>1377.2332</td><td>9.547672</td><td>1.1925515</td><td>0</td><td>0.7715988</td><td>0.31928444</td><td>0.45231438</td><td>19.998599315535344</td><td>0.46548891183596</td><td>7</td><td>6250.0</td><td>4.5</td><td>0.0</td><td>NOT_AVAILABLE</td><td>37.392855088017974</td><td>29.532218252962377</td><td>254.66368337136973</td><td>39.34379660552446</td><td>100001</td><td>5714.838</td><td>5514.1123</td><td>5899.0</td><td>1.2875</td><td>0.9186</td><td>1.5376</td><td>0.6445</td><td>0.4039</td><td>0.7973</td><td>200111</td><td>2.1026044</td><td>1.9733704</td><td>2.2584693</td><td>4.2484016</td><td>4.199938</td><td>4.2968655</td><td>https://gea.esac.esa.int/data-server/datalink/links?ID=Gaia+DR2+4547579134706488192</td></tr>\n",
       "<tr><td>1635721458409799680</td><td>Gaia DR2 43346081262264448</td><td>43346081262264448</td><td>238507277</td><td>2015.5</td><td>56.22345202413663</td><td>0.03902359808045268</td><td>16.863282853375424</td><td>0.026345329893095296</td><td>1.6435490853182566</td><td>0.044988211887472505</td><td>36.532883</td><td>19.421934620154325</td><td>0.08929025510895593</td><td>3.146786562038643</td><td>0.059553688748619396</td><td>0.2663161</td><td>0.019041821</td><td>-0.3739791</td><td>-0.1254631</td><td>-0.30090266</td><td>-0.16442297</td><td>0.031330314</td><td>0.35209778</td><td>0.082386605</td><td>0.41191953</td><td>170</td><td>170</td><td>169</td><td>1</td><td>1.4222667</td><td>190.3931</td><td>0.0</td><td>0.0</td><td>31</td><td>True</td><td>243.06625</td><td>1.506532818698081</td><td>0.008936492136316868</td><td>0.003841057</td><td>19</td><td>10</td><td>0.059888344</td><td>0</td><td>27</td><td>False</td><td>225</td><td>1885175.4499389888</td><td>429.60710800218925</td><td>4388.138</td><td>9.999987</td><td>25</td><td>747152.3445467489</td><td>681.2606058473688</td><td>1096.7203</td><td>10.667865</td><td>26</td><td>1618128.458874036</td><td>1546.7632501159896</td><td>1046.1384</td><td>9.2393875</td><td>1.2546741</td><td>1</td><td>1.4284773</td><td>0.66787815</td><td>0.76059914</td><td>61.72266799473432</td><td>0.28671605806752326</td><td>3</td><td>5000.0</td><td>4.5</td><td>0.0</td><td>NOT_AVAILABLE</td><td>171.72342570860536</td><td>-29.13892923983953</td><td>57.81041500366777</td><td>-2.8813674883143445</td><td>100002</td><td>4636.38</td><td>4476.32</td><td>4776.0</td><td>0.4387</td><td>0.231</td><td>0.8191</td><td>0.2112</td><td>0.1262</td><td>0.551</td><td>200111</td><td>8.989005</td><td>8.471124</td><td>9.643339</td><td>33.638298</td><td>32.33681</td><td>34.939785</td><td>https://gea.esac.esa.int/data-server/datalink/links?ID=Gaia+DR2+43346081262264448</td></tr>\n",
       "<tr><td>1635721458409799680</td><td>Gaia DR2 2516564279533644928</td><td>2516564279533644928</td><td>706369368</td><td>2015.5</td><td>36.20533720290786</td><td>0.04344858536045211</td><td>4.601269273010195</td><td>0.039308464625827724</td><td>1.3281793838792615</td><td>0.051695568799006636</td><td>25.692326</td><td>20.48279151941562</td><td>0.08900577581406272</td><td>2.5477030038404065</td><td>0.09397699745174817</td><td>0.044898354</td><td>0.39702514</td><td>0.0074505336</td><td>-0.04837503</td><td>-0.29366705</td><td>-0.13852179</td><td>-0.18154423</td><td>0.07227799</td><td>0.13585022</td><td>0.3361123</td><td>107</td><td>107</td><td>107</td><td>0</td><td>1.0166646</td><td>116.49092</td><td>0.0</td><td>6.950756244983133e-16</td><td>31</td><td>True</td><td>274.22748</td><td>1.534280849557715</td><td>0.014632416250966097</td><td>-0.005789855</td><td>12</td><td>10</td><td>0.06358801</td><td>0</td><td>12</td><td>False</td><td>104</td><td>1885173.3511965135</td><td>1063.7155123427058</td><td>1772.2533</td><td>9.999988</td><td>11</td><td>801410.0251850385</td><td>1147.0984457092686</td><td>698.641</td><td>10.591751</td><td>11</td><td>1520353.6515800818</td><td>2140.04733519715</td><td>710.42993</td><td>9.307058</td><td>1.2315916</td><td>1</td><td>1.2846928</td><td>0.5917635</td><td>0.69292927</td><td>28.686741007088116</td><td>0.13435960073177533</td><td>2</td><td>4750.0</td><td>4.5</td><td>0.0</td><td>NOT_AVAILABLE</td><td>161.87969165685672</td><td>-51.06973543232524</td><td>35.42428655390988</td><td>-9.241767134060034</td><td>100002</td><td>4780.967</td><td>4676.75</td><td>4888.375</td><td>0.1045</td><td>0.022</td><td>0.2046</td><td>0.0513</td><td>0.0135</td><td>0.1006</td><td>200111</td><td>10.226238</td><td>9.78179</td><td>10.687079</td><td>49.22542</td><td>46.61463</td><td>51.836212</td><td>https://gea.esac.esa.int/data-server/datalink/links?ID=Gaia+DR2+2516564279533644928</td></tr>\n",
       "<tr><td>1635721458409799680</td><td>Gaia DR2 3258442295629559040</td><td>3258442295629559040</td><td>372832525</td><td>2015.5</td><td>61.345850544631666</td><td>0.0280432696367837</td><td>0.46045615753019303</td><td>0.01943086333740159</td><td>2.6142818439953377</td><td>0.033908196714292314</td><td>77.098816</td><td>-15.237811251361741</td><td>0.06123656298945798</td><td>-23.89158510156989</td><td>0.04352300618532967</td><td>0.1861477</td><td>0.30828938</td><td>0.09117269</td><td>-0.026096152</td><td>0.10189563</td><td>0.009050884</td><td>0.4206778</td><td>0.0955596</td><td>-0.021615665</td><td>0.21608926</td><td>291</td><td>291</td><td>276</td><td>15</td><td>5.802935</td><td>428.88437</td><td>0.0</td><td>0.0</td><td>31</td><td>True</td><td>302.0231</td><td>1.5305254854411117</td><td>0.005997069344590761</td><td>-0.06508289</td><td>34</td><td>13</td><td>0.04227007</td><td>0</td><td>42</td><td>False</td><td>317</td><td>1885171.8270859641</td><td>572.5845740927138</td><td>3292.3901</td><td>9.999989</td><td>40</td><td>832563.7927573912</td><td>580.7270447603938</td><td>1433.6577</td><td>10.550344</td><td>40</td><td>1483708.5972828006</td><td>1226.4095336831635</td><td>1209.7987</td><td>9.333549</td><td>1.2286798</td><td>0</td><td>1.2167959</td><td>0.5503559</td><td>0.66644</td><td>0.5229825827890942</td><td>0.32607338603340613</td><td>9</td><td>5000.0</td><td>3.5</td><td>-0.25</td><td>NOT_AVAILABLE</td><td>190.4831806324016</td><td>-35.88773781190612</td><td>59.32208150297135</td><td>-19.979069779098527</td><td>100001</td><td>4814.5503</td><td>4760.755</td><td>4913.0947</td><td>--</td><td>--</td><td>--</td><td>--</td><td>--</td><td>--</td><td>200111</td><td>5.0990868</td><td>4.8965883</td><td>5.214975</td><td>12.586426</td><td>12.3351755</td><td>12.837676</td><td>https://gea.esac.esa.int/data-server/datalink/links?ID=Gaia+DR2+3258442295629559040</td></tr>\n",
       "<tr><td>1635721458409799680</td><td>Gaia DR2 5936097290832290048</td><td>5936097290832290048</td><td>1289787490</td><td>2015.5</td><td>252.63081803223113</td><td>0.08040900873759081</td><td>-53.113723776530136</td><td>0.052865995491803104</td><td>0.6388283352165969</td><td>0.09263507252959088</td><td>6.896182</td><td>2.3941207258174853</td><td>0.12143872565093808</td><td>-3.336887585523442</td><td>0.09329276185204154</td><td>0.39418364</td><td>-0.45867434</td><td>-0.3146246</td><td>-0.5652751</td><td>-0.03345018</td><td>-0.49882522</td><td>-0.431727</td><td>-0.1351492</td><td>0.28170076</td><td>0.244839</td><td>288</td><td>288</td><td>284</td><td>4</td><td>38.444435</td><td>2525.9072</td><td>0.2677686065348689</td><td>29.266608491900545</td><td>31</td><td>False</td><td>11.712553</td><td>1.2526329974957982</td><td>0.02059243881707621</td><td>0.0869218</td><td>33</td><td>13</td><td>0.07563292</td><td>0</td><td>37</td><td>False</td><td>316</td><td>1885168.7986747937</td><td>4127.017919104252</td><td>456.78717</td><td>9.99999</td><td>35</td><td>253869.70187136278</td><td>2406.367573632023</td><td>105.49914</td><td>11.839861</td><td>34</td><td>2512368.9762418596</td><td>17994.611041138225</td><td>139.61786</td><td>8.761711</td><td>1.4673692</td><td>1</td><td>3.0781498</td><td>1.8398705</td><td>1.2382793</td><td>-34.74295641058795</td><td>0.8762216357036688</td><td>5</td><td>4000.0</td><td>3.0</td><td>0.0</td><td>NOT_AVAILABLE</td><td>334.3316787798833</td><td>-5.495435117889942</td><td>258.01027376420683</td><td>-30.394981900904952</td><td>100002</td><td>3305.25</td><td>3294.0</td><td>3527.0</td><td>1.3605</td><td>0.8966</td><td>2.52</td><td>0.688</td><td>0.4645</td><td>1.1873</td><td>200111</td><td>68.877396</td><td>60.488728</td><td>69.34868</td><td>510.11185</td><td>420.1793</td><td>600.04443</td><td>https://gea.esac.esa.int/data-server/datalink/links?ID=Gaia+DR2+5936097290832290048</td></tr>\n",
       "<tr><td>1635721458409799680</td><td>Gaia DR2 5595987386180442880</td><td>5595987386180442880</td><td>219489687</td><td>2015.5</td><td>121.50152657342399</td><td>0.018873408770201865</td><td>-31.114243797707022</td><td>0.021423157429203178</td><td>1.0580167377351068</td><td>0.02745381607197943</td><td>38.53806</td><td>-5.493651174397666</td><td>0.04236722571729608</td><td>6.164035005321646</td><td>0.043072202203829596</td><td>0.14188062</td><td>0.058774862</td><td>-0.07689828</td><td>-0.002495855</td><td>0.16879351</td><td>0.034587152</td><td>-0.18289393</td><td>0.15969579</td><td>-0.05391758</td><td>0.07852946</td><td>300</td><td>300</td><td>290</td><td>10</td><td>5.733154</td><td>444.0626</td><td>0.0</td><td>1.6618325452233367e-15</td><td>31</td><td>True</td><td>256.35193</td><td>1.5853243305756193</td><td>0.005895200190007213</td><td>-0.0048483456</td><td>36</td><td>17</td><td>0.032257453</td><td>0</td><td>38</td><td>False</td><td>307</td><td>1885165.3141524887</td><td>338.67628995742064</td><td>5566.275</td><td>9.999992</td><td>34</td><td>929758.7332442327</td><td>977.0719149360548</td><td>951.57654</td><td>10.430463</td><td>33</td><td>1350275.2493920738</td><td>1151.6019926803876</td><td>1172.519</td><td>9.435864</td><td>1.209461</td><td>1</td><td>0.9945984</td><td>0.43047047</td><td>0.5641279</td><td>44.54815601589799</td><td>0.20774564646069552</td><td>5</td><td>5500.0</td><td>3.5</td><td>0.0</td><td>NOT_AVAILABLE</td><td>248.71406343591795</td><td>0.454594017244313</td><td>133.94222478969516</td><td>-49.859786701423765</td><td>100002</td><td>5259.0</td><td>5104.0</td><td>5499.0576</td><td>--</td><td>--</td><td>--</td><td>--</td><td>--</td><td>--</td><td>200111</td><td>10.083918</td><td>9.222721</td><td>10.705681</td><td>70.075455</td><td>67.06941</td><td>73.0815</td><td>https://gea.esac.esa.int/data-server/datalink/links?ID=Gaia+DR2+5595987386180442880</td></tr>\n",
       "<tr><td>1635721458409799680</td><td>Gaia DR2 5334013893149183104</td><td>5334013893149183104</td><td>1576483302</td><td>2015.5</td><td>174.2885444813545</td><td>0.025229251975079737</td><td>-62.58244403720765</td><td>0.02692021603449022</td><td>0.512201883911651</td><td>0.03268268189471938</td><td>15.671967</td><td>-6.715422607416764</td><td>0.04734215999521304</td><td>1.7457544525617195</td><td>0.04756611636470145</td><td>-0.06453369</td><td>-0.28834864</td><td>-0.4572632</td><td>0.025360316</td><td>0.26948366</td><td>0.14421497</td><td>-0.3113548</td><td>0.37505528</td><td>0.06970787</td><td>0.061537027</td><td>289</td><td>289</td><td>279</td><td>10</td><td>15.4795265</td><td>818.2006</td><td>0.0</td><td>0.492778337219702</td><td>31</td><td>False</td><td>272.13037</td><td>1.7291635639848368</td><td>0.007174511903636402</td><td>0.017777732</td><td>33</td><td>18</td><td>0.035248626</td><td>0</td><td>35</td><td>False</td><td>291</td><td>1885164.5708786922</td><td>737.1710286179299</td><td>2557.2961</td><td>9.999992</td><td>34</td><td>1279765.2823536675</td><td>1232.7177562953175</td><td>1038.1656</td><td>10.083562</td><td>33</td><td>918889.9230946114</td><td>883.9572925691979</td><td>1039.5184</td><td>9.853762</td><td>1.1662935</td><td>1</td><td>0.22980022</td><td>0.08356953</td><td>0.1462307</td><td>--</td><td>--</td><td>0</td><td>--</td><td>--</td><td>--</td><td>NOT_AVAILABLE</td><td>294.49793294765345</td><td>-0.9333712448958267</td><td>214.17172812653018</td><td>-56.37230418184193</td><td>100002</td><td>8385.75</td><td>8052.0</td><td>8753.0</td><td>0.7903</td><td>0.4699</td><td>1.0438</td><td>0.3865</td><td>0.235</td><td>0.5231</td><td>--</td><td>--</td><td>--</td><td>--</td><td>--</td><td>--</td><td>--</td><td>https://gea.esac.esa.int/data-server/datalink/links?ID=Gaia+DR2+5334013893149183104</td></tr>\n",
       "<tr><td>1635721458409799680</td><td>Gaia DR2 5922282339494401536</td><td>5922282339494401536</td><td>1093776846</td><td>2015.5</td><td>261.66467426015873</td><td>0.03978334892329404</td><td>-56.65681510313452</td><td>0.03693751388946295</td><td>1.8590918175348115</td><td>0.0373353643989771</td><td>49.79439</td><td>4.154053554724072</td><td>0.0680806903388382</td><td>-10.067222786548658</td><td>0.06380350326836709</td><td>0.27083284</td><td>0.024657022</td><td>-0.6691369</td><td>-0.2525733</td><td>0.025530597</td><td>-0.24314587</td><td>-0.70810914</td><td>-0.2588528</td><td>0.028091261</td><td>0.16493249</td><td>177</td><td>177</td><td>171</td><td>6</td><td>9.0591</td><td>390.64032</td><td>0.0</td><td>0.0</td><td>31</td><td>True</td><td>290.47858</td><td>1.6409618506075025</td><td>0.01010052190211237</td><td>0.06758221</td><td>20</td><td>12</td><td>0.053971566</td><td>0</td><td>21</td><td>False</td><td>183</td><td>1885158.2251356295</td><td>2030.5473823352481</td><td>928.39905</td><td>9.999996</td><td>20</td><td>1176458.091274681</td><td>3740.6900487625016</td><td>314.50296</td><td>10.174947</td><td>20</td><td>1030958.0046836709</td><td>2248.5754796339306</td><td>458.49384</td><td>9.728818</td><td>1.1709447</td><td>0</td><td>0.44612885</td><td>0.1749506</td><td>0.27117825</td><td>--</td><td>--</td><td>0</td><td>--</td><td>--</td><td>--</td><td>NOT_AVAILABLE</td><td>334.4984277608467</td><td>-11.774834176822331</td><td>264.52466957967454</td><td>-33.37585226522206</td><td>100001</td><td>7186.75</td><td>7065.9966</td><td>7279.5674</td><td>--</td><td>--</td><td>--</td><td>--</td><td>--</td><td>--</td><td>200111</td><td>2.9745643</td><td>2.899194</td><td>3.0770998</td><td>21.265303</td><td>20.627401</td><td>21.903204</td><td>https://gea.esac.esa.int/data-server/datalink/links?ID=Gaia+DR2+5922282339494401536</td></tr>\n",
       "<tr><td>1635721458409799680</td><td>Gaia DR2 3839534324051662080</td><td>3839534324051662080</td><td>1072257423</td><td>2015.5</td><td>143.7173084481245</td><td>0.5322194791542216</td><td>-1.3882634048892248</td><td>0.5295343511859087</td><td>1.3604884361861294</td><td>0.6166416340775683</td><td>2.206287</td><td>-2.0886536340439044</td><td>0.9631647798207548</td><td>4.655814080759506</td><td>0.9523425771831513</td><td>-0.14094502</td><td>-0.37162358</td><td>-0.2124767</td><td>0.12863854</td><td>0.109947376</td><td>0.121771775</td><td>-0.21479338</td><td>0.31848174</td><td>-0.11482081</td><td>-0.11056551</td><td>112</td><td>112</td><td>106</td><td>6</td><td>165.61113</td><td>68034.875</td><td>2.4739428223256765</td><td>2067.710205604848</td><td>31</td><td>False</td><td>0.14458533</td><td>1.395559695818424</td><td>0.16904549307617076</td><td>-0.081583425</td><td>13</td><td>8</td><td>0.5146128</td><td>0</td><td>14</td><td>False</td><td>122</td><td>1885153.0711623318</td><td>867.0742356074682</td><td>2174.1543</td><td>9.999999</td><td>13</td><td>1105204.186816522</td><td>2138.78607245682</td><td>516.74365</td><td>10.242782</td><td>13</td><td>1129547.3345510412</td><td>2878.5827120622885</td><td>392.39703</td><td>9.629659</td><td>1.1854483</td><td>0</td><td>0.61312294</td><td>0.2427826</td><td>0.37034035</td><td>8.277402356018206</td><td>1.408906618501601</td><td>4</td><td>6500.0</td><td>4.0</td><td>-0.25</td><td>NOT_AVAILABLE</td><td>235.8561743609756</td><td>34.8198515988531</td><td>146.51249428944615</td><td>-14.924819758357678</td><td>100001</td><td>6509.82</td><td>6461.6665</td><td>6716.825</td><td>1.415</td><td>0.9876</td><td>1.7461</td><td>0.7355</td><td>0.5196</td><td>0.88</td><td>--</td><td>--</td><td>--</td><td>--</td><td>--</td><td>--</td><td>--</td><td>https://gea.esac.esa.int/data-server/datalink/links?ID=Gaia+DR2+3839534324051662080</td></tr>\n",
       "<tr><td>1635721458409799680</td><td>Gaia DR2 3339263512736614784</td><td>3339263512736614784</td><td>754974355</td><td>2015.5</td><td>80.7751055953241</td><td>0.058363697115845305</td><td>11.101866556321031</td><td>0.04529253766441747</td><td>3.8646528554237802</td><td>0.05699553464577261</td><td>67.80624</td><td>-2.6956832522927994</td><td>0.10474622511306046</td><td>-16.504030705760584</td><td>0.07375159900046831</td><td>-0.613227</td><td>0.13570352</td><td>-0.50478774</td><td>0.5600253</td><td>-0.2643496</td><td>0.42445025</td><td>-0.66287524</td><td>0.31238925</td><td>0.10815503</td><td>-0.5195166</td><td>133</td><td>133</td><td>127</td><td>6</td><td>7.7703214</td><td>286.89725</td><td>0.0</td><td>0.0</td><td>31</td><td>True</td><td>285.951</td><td>1.647258907003082</td><td>0.01123544309709446</td><td>-0.12667057</td><td>15</td><td>10</td><td>0.07383947</td><td>0</td><td>17</td><td>False</td><td>125</td><td>1885153.10324752</td><td>711.2570537638605</td><td>2650.4526</td><td>9.999999</td><td>14</td><td>1048980.5190087575</td><td>1009.621777258348</td><td>1038.9836</td><td>10.29947</td><td>16</td><td>1198547.6685697332</td><td>1245.0831091100736</td><td>962.62463</td><td>9.565282</td><td>1.1922258</td><td>0</td><td>0.7341881</td><td>0.2994709</td><td>0.43471718</td><td>35.65578436823127</td><td>0.1454473631496499</td><td>2</td><td>6750.0</td><td>4.5</td><td>0.0</td><td>NOT_AVAILABLE</td><td>192.45239860958483</td><td>-13.918825922663517</td><td>80.74381948065863</td><td>-12.041497485096182</td><td>100001</td><td>6142.36</td><td>5919.9897</td><td>6443.93</td><td>0.616</td><td>0.156</td><td>1.283</td><td>0.308</td><td>0.0726</td><td>0.63</td><td>200111</td><td>1.9563409</td><td>1.7775155</td><td>2.1060717</td><td>4.908229</td><td>4.8118796</td><td>5.004578</td><td>https://gea.esac.esa.int/data-server/datalink/links?ID=Gaia+DR2+3339263512736614784</td></tr>\n",
       "</table></div>"
      ],
      "text/plain": [
       "<Table length=478688>\n",
       "    solution_id     ...\n",
       "                    ...\n",
       "       int64        ...\n",
       "------------------- ...\n",
       "1635721458409799680 ...\n",
       "1635721458409799680 ...\n",
       "1635721458409799680 ...\n",
       "1635721458409799680 ...\n",
       "1635721458409799680 ...\n",
       "1635721458409799680 ...\n",
       "1635721458409799680 ...\n",
       "1635721458409799680 ...\n",
       "1635721458409799680 ...\n",
       "                ... ...\n",
       "1635721458409799680 ...\n",
       "1635721458409799680 ...\n",
       "1635721458409799680 ...\n",
       "1635721458409799680 ...\n",
       "1635721458409799680 ...\n",
       "1635721458409799680 ...\n",
       "1635721458409799680 ...\n",
       "1635721458409799680 ...\n",
       "1635721458409799680 ...\n",
       "1635721458409799680 ..."
      ]
     },
     "execution_count": 336,
     "metadata": {},
     "output_type": "execute_result"
    }
   ],
   "source": [
    "tab"
   ]
  },
  {
   "cell_type": "code",
   "execution_count": 205,
   "id": "0131c6c0",
   "metadata": {},
   "outputs": [],
   "source": [
    "tab = pickle.load(open('/Users/gregoryridgway/Desktop/AstroML/data/Gaia_DR2_10kpc_mag10', 'rb'))\n",
    "\n",
    "# only need to do the fix described above if the ARI mirror is used\n",
    "if using_ari:\n",
    "    tab = fix_ari_query(job)\n",
    "else:\n",
    "    # the Gaia server outputs tables with units that aren't parsable.  So we just manually fix some of those here\n",
    "    tab['pmra'].unit = 'mas / yr'\n",
    "    tab['pmdec'].unit = 'mas / yr'\n",
    "    tab['radial_velocity'].unit = 'km / s'\n",
    "\n",
    "mag = np.array(tab['phot_g_mean_mag'])\n",
    "scnow = SkyCoord(\n",
    "    tab['ra'], \n",
    "    tab['dec'], \n",
    "    distance=(np.array(tab['parallax'])*u.mas).to(u.pc, u.parallax())\n",
    ")\n",
    "\n",
    "# Proper Motion\n",
    "\n",
    "# scpm = SkyCoord(scnow, pm_dec=u.Quantity(tab['pmdec'][msk]),\n",
    "#     pm_ra_cosdec=u.Quantity(tab['pmra'][msk])*np.cos(scnow.dec))\n",
    "# scpmecl = scpm.barycentrictrueecliptic\n",
    "scpmrv = SkyCoord(scnow, pm_dec=u.Quantity(tab['pmdec']),\n",
    "                       pm_ra_cosdec=u.Quantity(tab['pmra'])*np.cos(scnow.dec),\n",
    "                       radial_velocity=u.Quantity(tab['radial_velocity'].filled(0))\n",
    "               )\n",
    "# scpmrvecl = scpmrv.barycentrictrueecliptic\n",
    "# max((scpmrv.dec-scpmrv.apply_space_motion(dt=1*u.year).dec).to(u.mas))"
   ]
  },
  {
   "cell_type": "code",
   "execution_count": 179,
   "id": "5fd5d515",
   "metadata": {},
   "outputs": [
    {
     "data": {
      "text/plain": [
       "(<Distance 619.2635055 pc>, <Distance 600.40744984 pc>)"
      ]
     },
     "execution_count": 179,
     "metadata": {},
     "output_type": "execute_result"
    }
   ],
   "source": [
    "(scnow.distance.mean(), scnow.distance.std())"
   ]
  },
  {
   "cell_type": "code",
   "execution_count": 196,
   "id": "24904330",
   "metadata": {},
   "outputs": [
    {
     "data": {
      "text/plain": [
       "<matplotlib.lines.Line2D at 0x1406ec460>"
      ]
     },
     "execution_count": 196,
     "metadata": {},
     "output_type": "execute_result"
    },
    {
     "data": {
      "image/png": "[encoded data removed]",
      "text/plain": [
       "<Figure size 432x288 with 1 Axes>"
      ]
     },
     "metadata": {
      "needs_background": "light"
     },
     "output_type": "display_data"
    }
   ],
   "source": [
    "a,b = np.histogram(scnow.distance.value[scnow.distance.value<3000], bins=200, density=True)\n",
    "x = (b[1:] + b[:-1])/2\n",
    "b_width = np.diff(b)[0]\n",
    "plt.bar(x, a, b_width)\n",
    "plt.xlabel('Distance [pc]')\n",
    "plt.ylabel('Frequency')\n",
    "plt.title('Distribution of Gaia DR2 Star Distances')\n",
    "\n",
    "\n",
    "window = 3\n",
    "data = [[0,0]]\n",
    "for i in np.arange(0,len(a),window):\n",
    "    data.append([b[i+2], np.sum(a[i:i+window])/window])\n",
    "\n",
    "data = np.array(data)\n",
    "\n",
    "plt.plot(data[:,0], data[:,1], color='C1')\n",
    "\n",
    "inv_cdf = interp1d(np.cumsum(data[:,1])*b_width*3, data[:,0], fill_value='extrapolate')\n",
    "\n",
    "pickle.dump(inv_cdf, open('/Users/gregoryridgway/Desktop/AstroML/data/Gaia_DR2_inv_cdf', 'wb'))\n",
    "\n",
    "plt.axvline(150, linestyle='--', color='k')"
   ]
  },
  {
   "cell_type": "code",
   "execution_count": 136,
   "id": "4d028646",
   "metadata": {},
   "outputs": [],
   "source": [
    "tmp = np.array(list(map(norm,scnow.galactocentric.cartesian.xyz.T.value)))\n",
    "msk = tmp<6500\n",
    "\n",
    "# msk = (np.arange(len(scnow))%110 == 0)\n",
    "\n",
    "mag = mag[msk]\n",
    "scnow = scnow[msk]"
   ]
  },
  {
   "cell_type": "markdown",
   "id": "7df9c750",
   "metadata": {},
   "source": [
    "# Archive"
   ]
  },
  {
   "cell_type": "markdown",
   "id": "cd044192",
   "metadata": {},
   "source": [
    "Sample from a sphere:\n",
    "\n",
    "$$\n",
    "\\begin{alignat}{1}\n",
    "1 &= \\frac3{4\\pi R^3} \\int d^3x \\; \\theta(R - |x|) \\\\\n",
    "&= \\int_0^R dr \\; \\frac{3r^2}{R^3} \\int_0^{2\\pi} \\frac{d\\phi}{2\\pi} \\; \\int_{-1}^{1} \\frac{d\\cos \\theta}{2} \\\\\n",
    "&= \\int_0^1 d\\left( \\frac{r}{R}\\right)^3 \\int_0^{2\\pi} \\frac{d\\phi}{2\\pi} \\; \\int_{-1}^{1} \\frac{d\\mu}{2}\n",
    "\\end{alignat}\n",
    "$$\n",
    "\n",
    "where $\\mu = \\cos(\\theta)$."
   ]
  },
  {
   "cell_type": "markdown",
   "id": "3922e188",
   "metadata": {},
   "source": [
    "$$ \\Delta \\theta = -\\left( 1- \\frac{D_l}{D_s} \\right) \\frac{4G_N M(b_{ls})}{b_{ls}} \\hat{b}_{ls} $$"
   ]
  },
  {
   "cell_type": "code",
   "execution_count": null,
   "id": "7840a5e3",
   "metadata": {},
   "outputs": [],
   "source": [
    "## Variables for Lensing formula\n",
    "\n",
    "# Gaia's origin\n",
    "icrs_origin = coord.SkyCoord(ra=0 * u.deg, dec=0 * u.deg, distance=0 * u.kpc)\n",
    "x_0 = (\n",
    "    icrs_origin.transform_to(coord.Galactocentric).cartesian.xyz/u.km\n",
    ").decompose().value\n",
    "\n",
    "# lens distance from observer\n",
    "D_l = np.array(list(map(norm, x_lens-x_0)))\n",
    "\n",
    "# Directions to lens\n",
    "def normalize(vec):\n",
    "    return vec/norm(vec)\n",
    "\n",
    "direcs = np.array(list(map(normalize, x_lens-x_0)))\n",
    "\n",
    "# matrix of source distances along lens lines of sights\n",
    "#   row:    lens\n",
    "#   column: source\n",
    "\n",
    "D_s = mult(direcs, (x_srcs-x_0).T)\n",
    "\n",
    "\n",
    "# Matrix of impact parameters\n",
    "b = np.zeros((x_lens.shape[0], x_srcs.shape[0]))\n",
    "\n",
    "for l, n_l in enumerate(direcs):\n",
    "    for s, x_s in enumerate(x_srcs-x_0):\n",
    "        b_vec = x_s - np.dot(n_l, x_s) * n_l\n",
    "        b[l][s] = norm(b_vec)\n",
    "\n",
    "# Consistency Check: right triangle for any source-lens pair\n",
    "# for l in np.arange(direcs.shape[0]):\n",
    "#     print((b[l][s]**2 + D_s[l][s]**2)/norm(x_srcs[s])**2)\n",
    "\n",
    "\n",
    "# Note: If we used a halo we'd compute M(b) for a src-lens pair here."
   ]
  },
  {
   "cell_type": "code",
   "execution_count": null,
   "id": "0f050724",
   "metadata": {},
   "outputs": [],
   "source": [
    "# Matrix of Deflections\n",
    "dTheta = np.zeros((x_lens.shape[0], x_srcs.shape[0]))\n",
    "\n",
    "for l, n_l in enumerate(direcs):\n",
    "    for s, src in enumerate(x_srcs):\n",
    "\n",
    "        # The source needs to be further from the lens\n",
    "        # This also accounts for sources being on the wrong side of the lens\n",
    "        if D_s[l][s] > D_l[l]:\n",
    "\n",
    "            # in micro arcseconds\n",
    "            dTheta[l][s] = -(1-D_l[l]/D_s[l][s]) * 4*G_N * M_co/b[l][s] / c_light**2 / mu_as"
   ]
  },
  {
   "cell_type": "code",
   "execution_count": null,
   "id": "c925a2a1",
   "metadata": {},
   "outputs": [],
   "source": [
    "from astropy.time import Time\n",
    "\n",
    "icrs_origin = coord.SkyCoord(\n",
    "    ra=.00001 * u.deg, dec=.00001 * u.deg, distance=1e-12 * u.kpc,\n",
    "    pm_ra_cosdec=0*u.mas/u.yr, pm_dec=0*u.mas/u.yr, radial_velocity = 0 * u.km/u.yr,\n",
    "    obstime=Time('1988-12-18 05:11:23.5')\n",
    ")\n",
    "\n",
    "# (icrs_origin.transform_to(coord.Galactocentric).cartesian.xyz/u.kpc).decompose().value\n",
    "# coord.Galactocentric().frame_attribute_references"
   ]
  },
  {
   "cell_type": "code",
   "execution_count": null,
   "id": "2585199c",
   "metadata": {},
   "outputs": [],
   "source": [
    "%autoreload\n",
    "observer = lt.Observer()\n",
    "\n",
    "# Import the inverse cdf of the distances from Gaia DR2 sources\n",
    "inv_cdf = pickle.load(open('/Users/gregoryridgway/Desktop/AstroML/data/Gaia_DR2_inv_cdf', 'rb'))\n",
    "\n",
    "sources = lt.Sources(\n",
    "    x = lt.sample(N_s, scale=1*u.pc, method='custom_sphere', inv_cdf=inv_cdf),\n",
    "    v = lt.sample(N_s, scale=u.km/u.s, method='normal')\n",
    ")\n",
    "\n",
    "# Now pick a source and make random lenses wrt to it.\n",
    "\n"
   ]
  },
  {
   "cell_type": "code",
   "execution_count": null,
   "id": "f1631736",
   "metadata": {},
   "outputs": [],
   "source": [
    "%autoreload\n",
    "observer = lt.Observer()\n",
    "\n",
    "lenses = lt.Lenses(\n",
    "    x = lt.sample('uniform_sphere', N_l, scale=10*u.kpc),\n",
    "    v = lt.sample('normal', N_l, scale=100*u.km/u.s),\n",
    "    M = M_co\n",
    ")\n",
    "\n",
    "# Now pick a lens and make random sources wrt to it."
   ]
  }
 ],
 "metadata": {
  "interpreter": {
   "hash": "aee8b7b246df8f9039afb4144a1f6fd8d2ca17a180786b69acc140d282b71a49"
  },
  "kernelspec": {
   "display_name": "Python 3 (ipykernel)",
   "language": "python",
   "name": "python3"
  },
  "language_info": {
   "codemirror_mode": {
    "name": "ipython",
    "version": 3
   },
   "file_extension": ".py",
   "mimetype": "text/x-python",
   "name": "python",
   "nbconvert_exporter": "python",
   "pygments_lexer": "ipython3",
   "version": "3.9.5"
  }
 },
 "nbformat": 4,
 "nbformat_minor": 5
}
