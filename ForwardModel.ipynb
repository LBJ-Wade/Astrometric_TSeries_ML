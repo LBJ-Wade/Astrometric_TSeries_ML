{
 "cells": [
  {
   "cell_type": "markdown",
   "id": "471668c7",
   "metadata": {},
   "source": [
    "# Summary"
   ]
  },
  {
   "cell_type": "markdown",
   "id": "40b8a794",
   "metadata": {},
   "source": [
    "Use this notebook to generate training data.\n",
    "- (i) initialize an observer (with or without parallax)\n",
    "- (ii) randomly sample sources and lenses relative to one another\n",
    "- (iii) observe the source $N_O$ times, creating a list of celestial coordinates, $[\\phi, \\theta]_i$.\n",
    "- (iv) repeat this process $N_t$ times"
   ]
  },
  {
   "cell_type": "markdown",
   "id": "85d1c77f",
   "metadata": {},
   "source": [
    "# Downloads"
   ]
  },
  {
   "cell_type": "code",
   "execution_count": 1,
   "id": "f6db0596",
   "metadata": {},
   "outputs": [
    {
     "name": "stdout",
     "output_type": "stream",
     "text": [
      "The autoreload extension is already loaded. To reload it, use:\n",
      "  %reload_ext autoreload\n"
     ]
    }
   ],
   "source": [
    "%load_ext autoreload\n",
    "%matplotlib inline"
   ]
  },
  {
   "cell_type": "code",
   "execution_count": 222,
   "id": "c6b6d9e5",
   "metadata": {},
   "outputs": [],
   "source": [
    "%autoreload\n",
    "\n",
    "import numpy as np\n",
    "import pickle\n",
    "from tqdm import tqdm_notebook as tqdm\n",
    "\n",
    "# Astropy\n",
    "from astropy import units as u\n",
    "\n",
    "# lenstools\n",
    "import lenstools as lt\n",
    "\n",
    "# Convenient variables\n",
    "pi   = np.pi\n",
    "norm = np.linalg.norm\n",
    "mult = np.matmul\n",
    "dot  = np.dot"
   ]
  },
  {
   "cell_type": "markdown",
   "id": "d0995418",
   "metadata": {},
   "source": [
    "# Parameters"
   ]
  },
  {
   "cell_type": "code",
   "execution_count": 224,
   "id": "27789d28",
   "metadata": {},
   "outputs": [],
   "source": [
    "# Training set size\n",
    "N_t = int(1e2)"
   ]
  },
  {
   "cell_type": "code",
   "execution_count": 225,
   "id": "26011400",
   "metadata": {},
   "outputs": [],
   "source": [
    "# Observer properties\n",
    "\n",
    "# Number of observations\n",
    "N_o = 20\n",
    "\n",
    "# Observation time\n",
    "t_obs = 5 * u.yr\n",
    "\n",
    "# Time increment for observations\n",
    "dt = t_obs/N_o\n",
    "\n",
    "# Flag to include parallax or not\n",
    "#    observer moves along a cirlce of radius 1AU with period 1yr\n",
    "parallax = True"
   ]
  },
  {
   "cell_type": "code",
   "execution_count": 226,
   "id": "62d0fae8",
   "metadata": {},
   "outputs": [],
   "source": [
    "# Lens properties\n",
    "\n",
    "# mass parameter of lenses\n",
    "M_l = 1e7 * u.M_sun\n",
    "\n",
    "# kind of lens: ['point', 'Gaussian', 'tNFW', 'Burkert']\n",
    "# Warning: Latter two not implemented yet\n",
    "kind = 'Gaussian'\n",
    "\n",
    "# Length scale of lens mass distribution\n",
    "R_l = 1. * u.pc\n",
    "\n",
    "# Length scale of observer-lens distance\n",
    "D_ol = 1. * u.kpc"
   ]
  },
  {
   "cell_type": "code",
   "execution_count": 227,
   "id": "f2c47764",
   "metadata": {},
   "outputs": [],
   "source": [
    "# Source properties\n",
    "\n",
    "# Length scale of lens-source distance\n",
    "D_ls = 1. * u.kpc\n",
    "\n",
    "# Length scale of source impact parameter\n",
    "D_b = 1. * u.kpc"
   ]
  },
  {
   "cell_type": "code",
   "execution_count": 228,
   "id": "df4b6268",
   "metadata": {},
   "outputs": [],
   "source": [
    "# length scales will be used according to:\n",
    "#    scale[0] -> uniform distribution of lens distance from observer\n",
    "#    scale[1] -> uniform distribution of source distance past lens\n",
    "#    scale[2] -> uniform distribution of source perp distance from \n",
    "#                observer-lens axis\n",
    "\n",
    "scale = [D_ol, D_ls, D_b]"
   ]
  },
  {
   "cell_type": "markdown",
   "id": "7f5480f8",
   "metadata": {},
   "source": [
    "# Example: Lucky Event"
   ]
  },
  {
   "cell_type": "markdown",
   "id": "5f0613dd",
   "metadata": {},
   "source": [
    "Use a reference frame where $z$ is up-down, $x$ is left-right, and $y$ is distance in front or behind. \n",
    "\n",
    "So an object straight in front of you (the observer) has only a non-zero $y$ coordinate, and angular coordinates $\\theta = \\phi = \\pi/2$, and $\\phi$ will shrink if $x$ grows."
   ]
  },
  {
   "cell_type": "code",
   "execution_count": 229,
   "id": "77029eaa",
   "metadata": {},
   "outputs": [],
   "source": [
    "# Create an observer object\n",
    "obs = lt.Observer(parallax = parallax)\n",
    "\n",
    "# Create a Lens that is ~.1 kpc away, moves very fast along the\n",
    "# x-axis, is in the x-y plane, and transits over the span of ~5 yrs\n",
    "lucky_lens = lt.Lens(\n",
    "    x = np.array([-.05, 100, 0]) * u.pc,\n",
    "    v = np.array([2e4, 0, 0]) * u.km/u.s,\n",
    "    kind=kind, M=M_l, R =R_l\n",
    ") \n",
    "\n",
    "# The source is stationary, in the z-y plane, and has a small\n",
    "# impact parameter (is slightly above the x-y plane)\n",
    "lucky_src = lt.Source(\n",
    "    x = np.array([0, 300, 10]) * u.pc,\n",
    "    v = np.array([0, 0, 0]) * u.km/u.s\n",
    ")"
   ]
  },
  {
   "cell_type": "code",
   "execution_count": 230,
   "id": "4c2c3dd9",
   "metadata": {},
   "outputs": [
    {
     "name": "stdout",
     "output_type": "stream",
     "text": [
      "[d\\theta, d\\phi]: [2.62865406e+01 4.41717979e-03] mas\n"
     ]
    },
    {
     "name": "stderr",
     "output_type": "stream",
     "text": [
      "/usr/local/lib/python3.9/site-packages/astropy/units/quantity.py:614: RuntimeWarning: divide by zero encountered in true_divide\n",
      "  result = super().__array_ufunc__(function, method, *arrays, **kwargs)\n"
     ]
    }
   ],
   "source": [
    "# Observe the source without any lensing\n",
    "res_unlensed = obs.observe(lucky_src)\n",
    "\n",
    "# Observe the source with lensing\n",
    "res_lensed = obs.observe(lucky_src, lucky_lens)\n",
    "\n",
    "# Compare lensed and unlensed observations\n",
    "print('[d\\\\theta, d\\phi]:',\n",
    "      (res_lensed-res_unlensed).to(u.mas))"
   ]
  },
  {
   "cell_type": "code",
   "execution_count": 231,
   "id": "728c005d",
   "metadata": {},
   "outputs": [
    {
     "data": {
      "text/plain": [
       "<matplotlib.legend.Legend at 0x12e610b20>"
      ]
     },
     "execution_count": 231,
     "metadata": {},
     "output_type": "execute_result"
    },
    {
     "data": {
      "image/png": "[encoded data removed]",
      "text/plain": [
       "<Figure size 540x540 with 1 Axes>"
      ]
     },
     "metadata": {
      "needs_background": "light"
     },
     "output_type": "display_data"
    }
   ],
   "source": [
    "%autoreload\n",
    "# Now observe multiple times\n",
    "# Multi-measurements are defined such that \\theta_0 and \\phi_0\n",
    "# are subtracted from the list of measurements\n",
    "# The deviations between lensed/unlensed becomes smaller as a result\n",
    "\n",
    "res_unlensed = obs.observe(lucky_src, N=N_o, dt=dt)\n",
    "res_lensed = obs.observe(lucky_src, lucky_lens, N=N_o, dt=dt)\n",
    "\n",
    "plt.figure(figsize=(7.5,7.5))\n",
    "# plt.loglog()\n",
    "\n",
    "times = np.arange(0, t_obs.value, dt.value) * dt.unit\n",
    "res = np.array(res_lensed-res_unlensed)\n",
    "\n",
    "plt.plot(times, res[:,0]*1e3, label=r'$\\Delta \\theta$')\n",
    "plt.plot(times, res[:,1]*1e3, label=r'$\\Delta \\phi$')\n",
    "\n",
    "plt.xlabel('Time, t [yr]')\n",
    "plt.ylabel(\n",
    "    r'Absolute Angular Deviation, $|\\Delta \\theta |$ [$\\mu$as]')\n",
    "plt.title('Angular Deviation Due to Lensing')\n",
    "plt.legend()"
   ]
  },
  {
   "cell_type": "markdown",
   "id": "345451dc",
   "metadata": {},
   "source": [
    "# Example 2: Random Lens and Source"
   ]
  },
  {
   "cell_type": "code",
   "execution_count": 232,
   "id": "fc6ca8f2",
   "metadata": {},
   "outputs": [
    {
     "data": {
      "text/plain": [
       "<matplotlib.legend.Legend at 0x12e6b9d90>"
      ]
     },
     "execution_count": 232,
     "metadata": {},
     "output_type": "execute_result"
    },
    {
     "data": {
      "image/png": "[encoded data removed]",
      "text/plain": [
       "<Figure size 540x540 with 1 Axes>"
      ]
     },
     "metadata": {
      "needs_background": "light"
     },
     "output_type": "display_data"
    }
   ],
   "source": [
    "%autoreload\n",
    "# Try generating a random lens-source pair\n",
    "lens, src = lt.sample(\n",
    "    'relative', scale=scale, observer=obs, kind=kind, M=M_l, R=R_l)\n",
    "\n",
    "res_unlensed = obs.observe(src, N=N_o, dt=dt)\n",
    "res_lensed = obs.observe(src, lens, N=N_o, dt=dt)\n",
    "\n",
    "plt.figure(figsize=(7.5,7.5))\n",
    "# plt.loglog()\n",
    "\n",
    "times = np.arange(0, t_obs.value, dt.value) * dt.unit\n",
    "res = np.array(res_lensed-res_unlensed)\n",
    "\n",
    "plt.plot(times, res[:,0]*1e3, label=r'$\\Delta \\theta$')\n",
    "plt.plot(times, res[:,1]*1e3, label=r'$\\Delta \\phi$')\n",
    "\n",
    "plt.xlabel('Time, t [yr]')\n",
    "plt.ylabel(\n",
    "    r'Absolute Angular Deviation, $|\\Delta \\theta |$ [$\\mu$as]')\n",
    "plt.title('Angular Deviation Due to Lensing')\n",
    "plt.legend()"
   ]
  },
  {
   "cell_type": "markdown",
   "id": "6e33640f",
   "metadata": {},
   "source": [
    "# Generate Training Set"
   ]
  },
  {
   "cell_type": "code",
   "execution_count": 253,
   "id": "03b8aa4f",
   "metadata": {},
   "outputs": [
    {
     "name": "stderr",
     "output_type": "stream",
     "text": [
      "/var/folders/kq/gkzlnb6576x8mxsf32v72_y00000gn/T/ipykernel_19445/3904005788.py:9: TqdmDeprecationWarning: This function will be removed in tqdm==5.0.0\n",
      "Please use `tqdm.notebook.tqdm` instead of `tqdm.tqdm_notebook`\n",
      "  for i in tqdm(np.arange(N_t)):\n"
     ]
    },
    {
     "data": {
      "application/vnd.jupyter.widget-view+json": {
       "model_id": "ac16fc31f6c345d587799b78f5fea700",
       "version_major": 2,
       "version_minor": 0
      },
      "text/plain": [
       "  0%|          | 0/100 [00:00<?, ?it/s]"
      ]
     },
     "metadata": {},
     "output_type": "display_data"
    }
   ],
   "source": [
    "# All data in micro-arcseconds\n",
    "Tset = np.zeros((N_t, N_o, 2))\n",
    "\n",
    "# Set the impact parameter scale to something smaller to get \n",
    "# more of a signal\n",
    "scale[2] = 10 * u.pc\n",
    "\n",
    "# Progress bar\n",
    "for i in tqdm(np.arange(N_t)):\n",
    "    lens, src = lt.sample(\n",
    "        'relative', scale=scale, observer=obs,\n",
    "        kind=kind, M=M_l, R=R_l\n",
    "    )\n",
    "    \n",
    "    res_unlensed = obs.observe(src, N=N_o, dt=dt)\n",
    "    res_lensed = obs.observe(src, lens, N=N_o, dt=dt)\n",
    "\n",
    "    Tset[i] = np.array(res_lensed-res_unlensed)"
   ]
  }
 ],
 "metadata": {
  "kernelspec": {
   "display_name": "Python 3 (ipykernel)",
   "language": "python",
   "name": "python3"
  },
  "language_info": {
   "codemirror_mode": {
    "name": "ipython",
    "version": 3
   },
   "file_extension": ".py",
   "mimetype": "text/x-python",
   "name": "python",
   "nbconvert_exporter": "python",
   "pygments_lexer": "ipython3",
   "version": "3.9.5"
  }
 },
 "nbformat": 4,
 "nbformat_minor": 5
}
